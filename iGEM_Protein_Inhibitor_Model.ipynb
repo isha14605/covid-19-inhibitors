{
  "nbformat": 4,
  "nbformat_minor": 0,
  "metadata": {
    "colab": {
      "name": "iGEM Protein Inhibitor Model",
      "provenance": [],
      "collapsed_sections": [
        "jcz0AJw--8Ck"
      ]
    },
    "kernelspec": {
      "name": "python3",
      "display_name": "Python 3"
    }
  },
  "cells": [
    {
      "cell_type": "markdown",
      "metadata": {
        "id": "Ge95Zg3SKIAA"
      },
      "source": [
        "# Mapping training sequences to ints"
      ]
    },
    {
      "cell_type": "markdown",
      "metadata": {
        "id": "fIcoyCrluVyj"
      },
      "source": [
        "*Note: there is definitely a lot of repetitive code - will go back and write functions to cut this down"
      ]
    },
    {
      "cell_type": "code",
      "metadata": {
        "id": "AIvjwMZdoXCx"
      },
      "source": [
        "# importing transformers\n",
        "!git clone https://github.com/huggingface/transformers.git\n",
        "%cd transformers\n",
        "!pip install -e ."
      ],
      "execution_count": null,
      "outputs": []
    },
    {
      "cell_type": "code",
      "metadata": {
        "id": "n5hPu4bXrR_Z"
      },
      "source": [
        "from google.colab import drive\n",
        "# mounts my Google Drive\n",
        "drive_name = '/content/drive'\n",
        "drive.mount(drive_name, force_remount=True)\n",
        "drive_folder = ''\n",
        "drive_location = drive_name + '/My Drive/Protein Batches/Current Batches' + drive_folder  # Change this to where your files are located\n",
        "data_location = drive_location + '/'"
      ],
      "execution_count": null,
      "outputs": []
    },
    {
      "cell_type": "code",
      "metadata": {
        "id": "HUSjbUdhtQY-"
      },
      "source": [
        "# creates a new directory, datafps, that contains two files\n",
        "%cd /content/\n",
        "!mkdir datafps\n",
        "%cd datafps/\n",
        "\n",
        "!cp /content/drive/'My Drive/Protein Batches/Current Batches'/sample_batch_train.csv .\n",
        "!cp /content/drive/'My Drive/Protein Batches/Current Batches'/sample_batch_val.csv ."
      ],
      "execution_count": null,
      "outputs": []
    },
    {
      "cell_type": "code",
      "metadata": {
        "id": "M2NiLwU4oc9J"
      },
      "source": [
        "# load training data\n",
        "\n",
        "import pandas as pd\n",
        "# reads a .csv file into DataFrame object, keeping columns labeled chainA and chainB\n",
        "df = pd.read_csv(\"sample_batch_train.csv\", usecols=['chainA', 'chainB'])\n",
        "print(\"Number of data points: \", df.shape[0])\n",
        "\n",
        "#displays a random sample of 10 rows in the DataFrame\n",
        "sampled = df.sample(10)\n",
        "print(sampled)"
      ],
      "execution_count": null,
      "outputs": []
    },
    {
      "cell_type": "code",
      "metadata": {
        "id": "Fbq17ISvwFxq"
      },
      "source": [
        "from transformers import GPT2Tokenizer, GPT2LMHeadModel\n",
        "import torch"
      ],
      "execution_count": null,
      "outputs": []
    },
    {
      "cell_type": "code",
      "metadata": {
        "id": "PXQQkRvHyuyV"
      },
      "source": [
        "# get values from columns in dataframe and store them as ndarrays\n",
        "my_inputs = df.chainA.values\n",
        "my_labels = df.chainB.values\n",
        "\n",
        "# add a \"@\" and \"!\" character to the beginning and end of every\n",
        "# sequence for both chainA and chainB.\n",
        "# store these edited sequences in two lists, one for inputs (chainA) and\n",
        "# labels (chainB).\n",
        "list_my_inputs = []\n",
        "for seqA in my_inputs:\n",
        "  stripped = seqA.strip()\n",
        "  whitespace_removed = stripped.replace(' ', '')\n",
        "  new_seq = '@' + whitespace_removed + '!'\n",
        "  list_my_inputs.append(new_seq)\n",
        "\n",
        "list_my_labels = []\n",
        "for seqB in my_labels:\n",
        "  stripped = seqB.strip()\n",
        "  whitespace_removed = stripped.replace(' ', '')\n",
        "  new_seq = '@' + whitespace_removed + '!'\n",
        "  list_my_labels.append(new_seq)\n",
        "\n",
        "# sort list of sequences by length of the sequence\n",
        "list_my_inputs.sort(key=len)\n",
        "list_my_labels.sort(key=len)\n",
        "\n",
        "# length of longest sequence = 433\n",
        "print(len(list_my_inputs[-1]))\n",
        "print(len(list_my_labels[-1]))"
      ],
      "execution_count": null,
      "outputs": []
    },
    {
      "cell_type": "code",
      "metadata": {
        "id": "yYNAGZgw2pgo"
      },
      "source": [
        "# pad all chainA sequences with \"#\"\n",
        "for i in range(len(list_my_inputs)):\n",
        "  input = list_my_inputs[i]\n",
        "  list_my_inputs.remove(list_my_inputs[i])\n",
        "  edited_input = input.rjust(433, '#')\n",
        "  list_my_inputs.insert(i, edited_input)\n",
        "\n",
        "# pad all chainB sequences with \"#\"\n",
        "for i in range(len(list_my_labels)):\n",
        "  input = list_my_labels[i]\n",
        "  list_my_labels.remove(list_my_labels[i])\n",
        "  edited_input = input.rjust(433, '#')\n",
        "  list_my_labels.insert(i, edited_input)\n",
        "\n",
        "print(list_my_inputs)\n",
        "print(list_my_labels)"
      ],
      "execution_count": null,
      "outputs": []
    },
    {
      "cell_type": "code",
      "metadata": {
        "id": "w2DUJ7NX1tho"
      },
      "source": [
        "# a dict that maps protein sequences to ints\n",
        "aa_to_idx = {\"A\":1, \"B\": 2, \"C\":3, \"D\":4, \"E\":5, \"F\":6, \"G\":7, \"H\":8, \"I\":9, \n",
        "             \"J\":10, \"K\": 11, \"L\":12,\"M\":13, \"N\":14, \"O\":15, \"P\":16, \"Q\":17, \n",
        "             \"R\":18, \"S\":19, \"T\":20, \"U\":21,\"V\":22, \"W\":23, \"X\":24, \"Y\":25, \n",
        "             \"Z\":26, \"@\":27, \"!\":28, \"#\":29}\n",
        "# a dict that maps the ints back to protein sequences\n",
        "idx_to_aa = {1:\"A\", 2:\"B\", 3:\"C\", 4:\"D\", 5:\"E\", 6:\"F\", 7:\"G\", 8:\"H\", 9:\"I\", \n",
        "             10:\"J\", 11:\"K\", 12:\"L\", 13:\"M\", 14:\"N\", 15:\"O\", 16:\"P\", 17:\"Q\", \n",
        "             18:\"R\", 19:\"S\", 20:\"T\", 21: \"U\", 22:\"V\", 23:\"W\", 24:\"X\", 25:\"Y\",\n",
        "             26:\"Z\", 27:\"@\", 28:\"!\", 29:\"#\"}"
      ],
      "execution_count": null,
      "outputs": []
    },
    {
      "cell_type": "code",
      "metadata": {
        "id": "751w-C4vHJyp"
      },
      "source": [
        "# split up each sequence into individual letters and append them to new list\n",
        "list_of_aa_chainA = []\n",
        "for seq in list_my_inputs:\n",
        "  temp_list = []\n",
        "  for letter in seq:\n",
        "    if letter in aa_to_idx:\n",
        "      temp_list.append(letter)\n",
        "  list_of_aa_chainA.append(temp_list)\n",
        "\n",
        "list_of_aa_chainB = []\n",
        "for seq in list_my_labels:\n",
        "  temp_list = []\n",
        "  for letter in seq:\n",
        "    if letter in aa_to_idx:\n",
        "      temp_list.append(letter)\n",
        "  list_of_aa_chainB.append(temp_list)\n",
        "\n",
        "# map letters to int based on aa_to_idx\n",
        "mapped_chainA_to_tokens = [[aa_to_idx[j] for j in i] for i in list_of_aa_chainA]\n",
        "mapped_chainB_to_tokens = [[aa_to_idx[j] for j in i] for i in list_of_aa_chainB]\n",
        "\n",
        "print(mapped_chainA_to_tokens)\n",
        "print(mapped_chainB_to_tokens)"
      ],
      "execution_count": null,
      "outputs": []
    },
    {
      "cell_type": "markdown",
      "metadata": {
        "id": "jcz0AJw--8Ck"
      },
      "source": [
        "# Mapping validation sequences to ints"
      ]
    },
    {
      "cell_type": "code",
      "metadata": {
        "id": "QxgSfJdA_B3S",
        "outputId": "e373bd5d-03f4-4eeb-8886-b401a4c995ac",
        "colab": {
          "base_uri": "https://localhost:8080/",
          "height": 374
        }
      },
      "source": [
        "# load validation data\n",
        "\n",
        "import pandas as pd\n",
        "# reads a .csv file into DataFrame object, keeping columns labeled chainA and chainB\n",
        "df2 = pd.read_csv(\"sample_batch_val.csv\", usecols=['chainA', 'chainB'])\n",
        "print(df2)"
      ],
      "execution_count": null,
      "outputs": [
        {
          "output_type": "stream",
          "text": [
            "                                               chainA                                             chainB\n",
            "0    NTGIVSSFFTYTGPAHGTQWDEIDIEFLGKDTTKVQFNYYTNGVG...   NTGIVSSFFTYTGPAHGTQWDEIDIEFLGKDTTKVQFNYYTNGVG...\n",
            "1    APPSVFAEVPQAQPVLVFKLIADFREDPDPRKVNLGVGAYRTDDC...   APPSVFAEVPQAQPVLVFKLIADFREDPDPRKVNLGVGAYRTDDC...\n",
            "2    APPSVFAEVPQAQPVLVFKLIADFREDPDPRKVNLGVGAYRTDDC...   APPSVFAEVPQAQPVLVFKLIADFREDPDPRKVNLGVGAYRTDDC...\n",
            "3    PQITLWQRPLVTIKIGGQLKEALLDTGADDTVLEEMSLPGRWKPK...   PQITLWQRPLVTIKIGGQLKEALLDTGADDTVLEEMSLPGRWKPK...\n",
            "4    PQITLWQRPLVTIKIGGQLKEALLDTGADDTVLEEMSLPGRWKPK...   PQITLWQRPLVTIKIGGQLKEALLDTGADDTVLEEMSLPGRWKPK...\n",
            "5    MRIILLGAPGAGKGTQAQFIMEKYGIPQISTGDMLRAAVKSGSEL...   MRIILLGAPGAGKGTQAQFIMEKYGIPQISTGDMLRAAVKSGSEL...\n",
            "6    IVGGYTCAANSIPYQVSLNSGSHFCGGSLINSQWVVSAAHCYKSR...   SSGSSYPSLLQCLKAPVLSNSSCKSSYPGQITGNMICVGFLQGGK...\n",
            "7                                            GAAVWWWW                                           GAAVWWWW\n",
            "8    TPEMPVLENRAAQGNITAPGGARRLTGDQTAALRNSLSDKPAKNI...   TPEMPVLENRAAQGNITAPGGARRLTGDQTAALRNSLSDKPAKNI...\n",
            "9    EEVRQFRRLFAQLAGDDMEVSATELMNILNKVVTRHPDLKTDGFG...   EEVRQFRRLFAQLAGDDMEVSATELMNILNKVVTRHPDLKTDGFG...\n",
            "10   EEVRQFRRLFAQLAGDDMEVSATELMNILNKVVTRHPDLKTDGFG...   EEVRQFRRLFAQLAGDDMEVSATELMNILNKVVTRHPDLKTDGFG...\n",
            "11                                          GAAVWYWWW                                           GAAVWWWW\n",
            "12                                          GAAVWYWWW                                           GAAVWWWW\n",
            "13   GTHEEEQYLFAVNNTKAEYPRDKTIHQLFEEQVSKRPNNVAIVCE...   GTHEEEQYLFAVNNTKAEYPRDKTIHQLFEEQVSKRPNNVAIVCE...\n",
            "14   IVGGYTCAANSIPYQVSLNSGSHFCGGSLINSQWVVSAAHCYKSR...           KVCACPKILKPVCGSDGRTYANSCIARCNGVSIKSEGSCP\n",
            "15                                                XXX                                                XXX\n",
            "16   MRIILLGAPGAGKGTQAQFIMEKYGIPQISTGDMLRAAVKSGSEL...   MRIILLGAPGAGKGTQAQFIMEKYGIPQISTGDMLRAAVKSGSEL...\n",
            "17   ADTNAPICLCDEPGVLGRTQIVTTEIKDKIEKAVEAVAQESGVSG...   ADTNAPICLCDEPGVLGRTQIVTTEIKDKIEKAVEAVAQESGVSG...\n",
            "18   MLKPNVAIIVAALKPALGIGYKGKMPWRLRKEIRYFKDVTTRTTK...   MLKPNVAIIVAALKPALGIGYKGKMPWRLRKEIRYFKDVTTRTTK...\n",
            "19   DVAAPGAPEGVTALSDAQYNEANKIYFERCAGCHGVLRKGATGKA...   EPSLDNLAQQDVAAPGAPEGVTALSDAQYNEANKIYFERCAGCHG...\n"
          ],
          "name": "stdout"
        }
      ]
    },
    {
      "cell_type": "code",
      "metadata": {
        "id": "lIEIszDo_eyV",
        "outputId": "ab29739e-d046-4ae6-9570-985c8e3c03a0",
        "colab": {
          "base_uri": "https://localhost:8080/",
          "height": 51
        }
      },
      "source": [
        "# get values from columns in dataframe and store them as ndarrays\n",
        "my_inputs_2 = df2.chainA.values\n",
        "my_labels_2 = df2.chainB.values\n",
        "\n",
        "# add a \"@\" and \"!\" character to the beginning and end of every\n",
        "# sequence for both chainA and chainB.\n",
        "# store these edited sequences in two lists, one for inputs (chainA) and\n",
        "# labels (chainB).\n",
        "list_my_inputs_2 = []\n",
        "for seqA in my_inputs_2:\n",
        "  stripped = seqA.strip()\n",
        "  whitespace_removed = stripped.replace(' ', '')\n",
        "  new_seq = '@' + whitespace_removed + '!'\n",
        "  list_my_inputs_2.append(new_seq)\n",
        "\n",
        "list_my_labels_2 = []\n",
        "for seqB in my_labels_2:\n",
        "  stripped = seqB.strip()\n",
        "  whitespace_removed = stripped.replace(' ', '')\n",
        "  new_seq = '@' + whitespace_removed + '!'\n",
        "  list_my_labels_2.append(new_seq)\n",
        "\n",
        "# sort list of sequences by length of the sequence\n",
        "list_my_inputs_2.sort(key=len)\n",
        "list_my_labels_2.sort(key=len)\n",
        "\n",
        "# length of longest sequence = 544\n",
        "print(len(list_my_inputs_2[-1]))\n",
        "print(len(list_my_labels_2[-1]))"
      ],
      "execution_count": null,
      "outputs": [
        {
          "output_type": "stream",
          "text": [
            "534\n",
            "544\n"
          ],
          "name": "stdout"
        }
      ]
    },
    {
      "cell_type": "code",
      "metadata": {
        "id": "HPS5VrJpASy3",
        "outputId": "291d8fb5-ea77-4f79-f05f-30d8ed2f5f46",
        "colab": {
          "base_uri": "https://localhost:8080/",
          "height": 71
        }
      },
      "source": [
        "# pad all chainA sequences with \"#\"\n",
        "for i in range(len(list_my_inputs_2)):\n",
        "  input = list_my_inputs_2[i]\n",
        "  list_my_inputs_2.remove(list_my_inputs_2[i])\n",
        "  edited_input = input.rjust(544, '#')\n",
        "  list_my_inputs_2.insert(i, edited_input)\n",
        "\n",
        "# pad all chainB sequences with \"#\"\n",
        "for i in range(len(list_my_labels_2)):\n",
        "  input = list_my_labels_2[i]\n",
        "  list_my_labels_2.remove(list_my_labels_2[i])\n",
        "  edited_input = input.rjust(544, '#')\n",
        "  list_my_labels_2.insert(i, edited_input)\n",
        "\n",
        "print(list_my_inputs_2)\n",
        "print(list_my_labels_2)"
      ],
      "execution_count": null,
      "outputs": [
        {
          "output_type": "stream",
          "text": [
            "['###########################################################################################################################################################################################################################################################################################################################################################################################################################################################################################################################################################@XXX!', '######################################################################################################################################################################################################################################################################################################################################################################################################################################################################################################################################################@GAAVWWWW!', '#####################################################################################################################################################################################################################################################################################################################################################################################################################################################################################################################################################@GAAVWYWWW!', '#####################################################################################################################################################################################################################################################################################################################################################################################################################################################################################################################################################@GAAVWYWWW!', '###########################################################################################################################################################################################################################################################################################################################################################################################################################################################@PQITLWQRPLVTIKIGGQLKEALLDTGADDTVLEEMSLPGRWKPKMIGGIGGFIKVRQYDQILIEICGHKAIGTVLVGPTPVNIIGRNLLTQIGCTLNF!', '###########################################################################################################################################################################################################################################################################################################################################################################################################################################################@PQITLWQRPLVTIKIGGQLKEALLDTGADDTVLEEMSLPGRWKPKMIGGIGGFIKVRQYDQILIEICGHKAIGTVLVGPTPVNIIGRNLLTQIGCTLNF!', '#################################################################################################################################################################################################################################################################################################################################################################################################################################@IVGGYTCAANSIPYQVSLNSGSHFCGGSLINSQWVVSAAHCYKSRIQVRLGEHNIDVLEGNEQFINAAKIITHPNFNGNTLDNDIMLIKLSSPATLNSRVATVSLPRSCAAAGTECLISGWGNTK!', '#################################################################################################################################################################################################################################################################################################################################################################################@EEVRQFRRLFAQLAGDDMEVSATELMNILNKVVTRHPDLKTDGFGIDTCRSMVAVMDSDTTGKLGFEEFKYLWNNIKKWQAIYKQFDVDRSGTIGSSELPGAFEAAGFHLNEHLYSMIIRRYSDEGGNMDFDNFISCLVRLDAMFRAFKSLDKDGTGQIQVNIQEWLQLTMYS!', '#################################################################################################################################################################################################################################################################################################################################################################################@EEVRQFRRLFAQLAGDDMEVSATELMNILNKVVTRHPDLKTDGFGIDTCRSMVAVMDSDTTGKLGFEEFKYLWNNIKKWQAIYKQFDVDRSGTIGSSELPGAFEAAGFHLNEHLYSMIIRRYSDEGGNMDFDNFISCLVRLDAMFRAFKSLDKDGTGQIQVNIQEWLQLTMYS!', '###############################################################################################################################################################################################################################################################################################################################################################################@ADTNAPICLCDEPGVLGRTQIVTTEIKDKIEKAVEAVAQESGVSGRGFSIFSHHPVFRECGKYECRTVRPEHSRCYNFPPFTHFKSECPVSTRDCEPVFGYTVAGEFRVIVQAPRAGFRQCVWQHKCRFGSNSCGYNGRCTQQRSVVRLVTYNLEKDGFLCESFRTCCGCPCRSF!', '##############################################################################################################################################################################################################################################################################################################################################################@MLKPNVAIIVAALKPALGIGYKGKMPWRLRKEIRYFKDVTTRTTKPNTRNAVIMGRKTWESIPQKFRPLPDRLNIILSRSYENEIIDDNIIHASSIESSLNLVSDVERVFIIGGAEIYNELINNSLVSHLLITEIEHPSPESIEMDTFLKFPLESWTKQPKSELQKFVGDTVLEDDIKEGDFTYNYTLWTRK!', '##########################################################################################################################################################################################################################################################################################################################################@NTGIVSSFFTYTGPAHGTQWDEIDIEFLGKDTTKVQFNYYTNGVGGHEKVISLGFDASKGFHTYAFDWQPGYIKWYVDGVLKHTATANIPSTPGKIMMNLWNGTDDWLGSYNGANPLYAEYDWVKYTSNQTGGSFFEPFNSYNSGTWEKADGYSNGGVFNCTWRANNVNFTNDGKLKLGLTSSAYNKFDCAEYRSTNIYGYGLYEVSMKPAK!', '########################################################################################################################################################################################################################################################################################################################################@MRIILLGAPGAGKGTQAQFIMEKYGIPQISTGDMLRAAVKSGSELGKQAKDIMDAGKLVTDELVIALVKERIAQEDCRNGFLLDGFPRTIPQADAMKEAGINVDYVLEFDVPDELIVDRIVGRRVHAPSGRVYHVKFNPPKVEGKDDVTGEELTTRKDDQEETVRKRLVEYHQMTAPLIGYYSKEAEAGNTKYAKVDGTKPVAEVRADLEKILG!', '########################################################################################################################################################################################################################################################################################################################################@MRIILLGAPGAGKGTQAQFIMEKYGIPQISTGDMLRAAVKSGSELGKQAKDIMDAGKLVTDELVIALVKERIAQEDCRNGFLLDGFPRTIPQADAMKEAGINVDYVLEFDVPDELIVDRIVGRRVHAPSGRVYHVKFNPPKVEGKDDVTGEELTTRKDDQEETVRKRLVEYHQMTAPLIGYYSKEAEAGNTKYAKVDGTKPVAEVRADLEKILG!', '################################################################################################################################################################################################################################################################################################################################@IVGGYTCAANSIPYQVSLNSGSHFCGGSLINSQWVVSAAHCYKSRIQVRLGEHNIDVLEGNEQFINAAKIITHPNFNGNTLDNDIMLIKLSSPATLSRVATVSLPRSCAAAGTECLISGWGNTKSSGSSYPSLLQCLKAPVLSDSSCKSSYPGQITGNMICVGFLEGGKDSCQGDSGGPVVCNGQLQGIVSWGYGCAQKNKPGVYTKVCNYVNWIQQTIAAN!', '###################################################################################################################################@APPSVFAEVPQAQPVLVFKLIADFREDPDPRKVNLGVGAYRTDDCQPWVLPVVRKVEQRIANNSSLNHEYLPILGLAEFRTCASRLALGDDSPALQEKRVGGVQSLGGTGALRIGAEFLARWYNGTNNKDTPVYVSSPTWENHNGVFTTAGFKDIRSYRYWDTEKRGLDLQGFLSDLENAPEFSIFVLHACAHNPTGTDPTPEQWKQIASVMKRRFLFPFFDSAYQGFASGNLEKDAWAIRYFVSEGFELFCAQSFSNFGLYNERVGNLTVVAKEPDSILRVLSQMQKIVRVTWSNPPAQGARIVARTLSDPELFHEWTGNVKTMADRILSMRSELRARLEALKTPGTWNHITDQIGMFSFTGLNPKQVEYLINQKHIYLLPSGRINMCGLTTKNLDYVATSIHEAVTKIQ!', '##################################################################################################################################@APPSVFAEVPQAQPVLVFKLIADFREDPDPRKVNLGVGAYRTDDCQPWVLPVVRKVEQRIANNSSLNHEYLPILGLAEFRTCASRLALGDDSPALQEKRVGGVQSLGGTGALRIGAEFLARWYNGTNNKDTPVYVSSPTWENHNGVFTTAGFKDIRSYRYWDTEKRGLDLQGFLSDLENAPEFSIFVLHACAHNPTGTDPTPEQWKQIASVMKRRFLFPFFDSAYQGFASGNLEKDAWAIRYFVSEGFELFCAQSFSKNFGLYNERVGNLTVVAKEPDSILRVLSQMQKIVRVTWSNPPAQGARIVARTLSDPELFHEWTGNVKTMADRILSMRSELRARLEALKTPGTWNHITDQIGMFSFTGLNPKQVEYLINQKHIYLLPSGRINMCGLTTKNLDYVATSIHEAVTKIQ!', '#############################################################################################@TPEMPVLENRAAQGNITAPGGARRLTGDQTAALRNSLSDKPAKNIILLIGDGMGDSEITAARNYAEGAGGFFKGIDALPLTGQYTHYALNKKTGKPDYVTDSAASATAWSTGVKTYNGALGVDIHEKDHPTILEMAKAAGLATGNVSTAELQDATPAALVAHVTSRKCYGPSATSQKCPGNALEKGGKGSITEQLLNARADVTLGGGAKTFAETATAGEWQGKTLREEAEARGYQLVSDAASLNSVTEANQQKPLLGLFADGNMPVRWLGPKATYHGNIDKPAVTCTPNPQRNDSVPTLAQMTDKAIELLSKNEKGFFLQVEGASIDKQDHAANPCGQIGETVDLDEAVQRALEFAKKEGNTLVIVTADHAHASQIVAPDTKAPGLTQALNTKDGAVMVMSYGNSEEDSQEHTGSQLRIAAYGPHAANVVGLTDQTDLFYTMKAALGLK!', '#################################@GTHEEEQYLFAVNNTKAEYPRDKTIHQLFEEQVSKRPNNVAIVCENEQLTYHELNVKANQLARIFIEKGIGKDTLVGIMMEKSIDLFIGILAVLKAGGAYVPIDIEYPKERIQYILDDSQARMLLTQKHLVHLIHNIQFNGQVEIFEEDTIKIREGTNLHVPSKSTDLAYVIYTSPKGTMLEHKGISNLKVFFENSLNVTEKDRIGQFASISFDASVWEMFMALLTGASLYIILKDTINDFVKFEQYINQKEITVITLPPTYVVHLDPERILSIQTLITAGSATSPSLVNKWKEKVTYINAYGPTETTICATTWVATKETIGHSVPIGAPIQNTQIYIVDENLQLKSVGEAGELCIGGEGLARGYWKRPELTSQKFVDNPFVPGEKLYKTGDQARWLSDGNIEYLGRIDNQVKIRGHRVELEEVESILLKHMYISETAVSVHKDHQEQPYLCAYFVSEKHIPLEQLRQFSSEELPTYMIPSYFIQLDKMPLTSNGKIDRKQLPEPDLTF!', '##########@DVAAPGAPEGVTALSDAQYNEANKIYFERCAGCHGVLRKGATGKALTPDLTRDLGFDYLQSFITYASPAGMPNWGTSGELSAEQVDLMANYLLLDPAAPPEFGMKEMRESWKVHVAPEDRPTQQMNDWDLENLFSVTLRDAGQIALIDGSTYEIKTVLDTGYAVHISRLSASGRYLFVIGRDGKVNMIDLWMKEPTTVAEIKIGSEARSIETSKMEGWEDKYAIAGAYWPPQYVIMDGETLEPKKIQSTRGMTYDEQEYHPEPRVAAILASHYRPEFIVNVKETGKILLVDYTDLNNLKTTEISAERFLHDGGLDGSHRYFITAANARNKLVVIDTKEGKLVAIEDTGGQTPHPGRGANFVHPTFGPVWATSHMGDDSVALIGTDPEGHPDNAWKILDSFPALGGGSLFIKTHPNSQYLYVDATLNPEAEISGSVAVFDIKAMTGDGSDPEFKTLPIAEWAGITEGQPRVVQGEFNKDGTEVWFSVWNGKDQESALVVVDDKTLELKHVIKDERLVTPTGKFNVYNTMTDTY!']\n",
            "['###########################################################################################################################################################################################################################################################################################################################################################################################################################################################################################################################################################@XXX!', '######################################################################################################################################################################################################################################################################################################################################################################################################################################################################################################################################################@GAAVWWWW!', '######################################################################################################################################################################################################################################################################################################################################################################################################################################################################################################################################################@GAAVWWWW!', '######################################################################################################################################################################################################################################################################################################################################################################################################################################################################################################################################################@GAAVWWWW!', '######################################################################################################################################################################################################################################################################################################################################################################################################################################################################################################################@KVCACPKILKPVCGSDGRTYANSCIARCNGVSIKSEGSCP!', '############################################################################################################################################################################################################################################################################################################################################################################################################################################################@SSGSSYPSLLQCLKAPVLSNSSCKSSYPGQITGNMICVGFLQGGKDSCQGDSGGPVVCNGQLQGIVSWGYGCAQKNKPGVYTKVCNYVNWIQQTIAAN!', '###########################################################################################################################################################################################################################################################################################################################################################################################################################################################@PQITLWQRPLVTIKIGGQLKEALLDTGADDTVLEEMSLPGRWKPKMIGGIGGFIKVRQYDQILIEICGHKAIGTVLVGPTPVNIIGRNLLTQIGCTLNF!', '###########################################################################################################################################################################################################################################################################################################################################################################################################################################################@PQITLWQRPLVTIKIGGQLKEALLDTGADDTVLEEMSLPGRWKPKMIGGIGGFIKVRQYDQILIEICGHKAIGTVLVGPTPVNIIGRNLLTQIGCTLNF!', '#################################################################################################################################################################################################################################################################################################################################################################################@EEVRQFRRLFAQLAGDDMEVSATELMNILNKVVTRHPDLKTDGFGIDTCRSMVAVMDSDTTGKLGFEEFKYLWNNIKKWQAIYKQFDVDRSGTIGSSELPGAFEAAGFHLNEHLYSMIIRRYSDEGGNMDFDNFISCLVRLDAMFRAFKSLDKDGTGQIQVNIQEWLQLTMYS!', '#################################################################################################################################################################################################################################################################################################################################################################################@EEVRQFRRLFAQLAGDDMEVSATELMNILNKVVTRHPDLKTDGFGIDTCRSMVAVMDSDTTGKLGFEEFKYLWNNIKKWQAIYKQFDVDRSGTIGSSELPGAFEAAGFHLNEHLYSMIIRRYSDEGGNMDFDNFISCLVRLDAMFRAFKSLDKDGTGQIQVNIQEWLQLTMYS!', '###############################################################################################################################################################################################################################################################################################################################################################################@ADTNAPICLCDEPGVLGRTQIVTTEIKDKIEKAVEAVAQESGVSGRGFSIFSHHPVFRECGKYECRTVRPEHSRCYNFPPFTHFKSECPVSTRDCEPVFGYTVAGEFRVIVQAPRAGFRQCVWQHKCRFGSNSCGYNGRCTQQRSVVRLVTYNLEKDGFLCESFRTCCGCPCRSF!', '##############################################################################################################################################################################################################################################################################################################################################################@MLKPNVAIIVAALKPALGIGYKGKMPWRLRKEIRYFKDVTTRTTKPNTRNAVIMGRKTWESIPQKFRPLPDRLNIILSRSYENEIIDDNIIHASSIESSLNLVSDVERVFIIGGAEIYNELINNSLVSHLLITEIEHPSPESIEMDTFLKFPLESWTKQPKSELQKFVGDTVLEDDIKEGDFTYNYTLWTRK!', '#####################################################################################################################################################################################################################################################################################################################################################@NTGIVSSFFTYTGPAHGTQWDEIDIEFLGKDTTKVQFNYYTNGVGGHEKVISLGFDASKGFHTYAFDWQPGYIKWYVDGVLKHTATANIPSTPGKIMMNLWNGTPLYAEYDWVKYTSNQTGGSFFEPFNSYNSGTWEKADGYSNGGVFNCTWRANNVNFTNDGKLKLGLTSSAYNKFDCAEYRSTNIYGYGLYEVSMKPAK!', '########################################################################################################################################################################################################################################################################################################################################@MRIILLGAPGAGKGTQAQFIMEKYGIPQISTGDMLRAAVKSGSELGKQAKDIMDAGKLVTDELVIALVKERIAQEDCRNGFLLDGFPRTIPQADAMKEAGINVDYVLEFDVPDELIVDRIVGRRVHAPSGRVYHVKFNPPKVEGKDDVTGEELTTRKDDQEETVRKRLVEYHQMTAPLIGYYSKEAEAGNTKYAKVDGTKPVAEVRADLEKILG!', '########################################################################################################################################################################################################################################################################################################################################@MRIILLGAPGAGKGTQAQFIMEKYGIPQISTGDMLRAAVKSGSELGKQAKDIMDAGKLVTDELVIALVKERIAQEDCRNGFLLDGFPRTIPQADAMKEAGINVDYVLEFDVPDELIVDRIVGRRVHAPSGRVYHVKFNPPKVEGKDDVTGEELTTRKDDQEETVRKRLVEYHQMTAPLIGYYSKEAEAGNTKYAKVDGTKPVAEVRADLEKILG!', '###################################################################################################################################@APPSVFAEVPQAQPVLVFKLIADFREDPDPRKVNLGVGAYRTDDCQPWVLPVVRKVEQRIANNSSLNHEYLPILGLAEFRTCASRLALGDDSPALQEKRVGGVQSLGGTGALRIGAEFLARWYNGTNNKDTPVYVSSPTWENHNGVFTTAGFKDIRSYRYWDTEKRGLDLQGFLSDLENAPEFSIFVLHACAHNPTGTDPTPEQWKQIASVMKRRFLFPFFDSAYQGFASGNLEKDAWAIRYFVSEGFELFCAQSFSNFGLYNERVGNLTVVAKEPDSILRVLSQMQKIVRVTWSNPPAQGARIVARTLSDPELFHEWTGNVKTMADRILSMRSELRARLEALKTPGTWNHITDQIGMFSFTGLNPKQVEYLINQKHIYLLPSGRINMCGLTTKNLDYVATSIHEAVTKIQ!', '###################################################################################################################################@APPSVFAEVPQAQPVLVFKLIADFREDPDPRKVNLGVGAYRTDDCQPWVLPVVRKVEQRIANNSSLNHEYLPILGLAEFRTCASRLALGDDSPALQEKRVGGVQSLGGTGALRIGAEFLARWYNGTNNKDTPVYVSSPTWENHNGVFTTAGFKDIRSYRYWDTEKRGLDLQGFLSDLENAPEFSIFVLHACAHNPTGTDPTPEQWKQIASVMKRRFLFPFFDSAYQGFASGNLEKDAWAIRYFVSEGFELFCAQSFSNFGLYNERVGNLTVVAKEPDSILRVLSQMQKIVRVTWSNPPAQGARIVARTLSDPELFHEWTGNVKTMADRILSMRSELRARLEALKTPGTWNHITDQIGMFSFTGLNPKQVEYLINQKHIYLLPSGRINMCGLTTKNLDYVATSIHEAVTKIQ!', '#############################################################################################@TPEMPVLENRAAQGNITAPGGARRLTGDQTAALRNSLSDKPAKNIILLIGDGMGDSEITAARNYAEGAGGFFKGIDALPLTGQYTHYALNKKTGKPDYVTDSAASATAWSTGVKTYNGALGVDIHEKDHPTILEMAKAAGLATGNVSTAELQDATPAALVAHVTSRKCYGPSATSQKCPGNALEKGGKGSITEQLLNARADVTLGGGAKTFAETATAGEWQGKTLREEAEARGYQLVSDAASLNSVTEANQQKPLLGLFADGNMPVRWLGPKATYHGNIDKPAVTCTPNPQRNDSVPTLAQMTDKAIELLSKNEKGFFLQVEGASIDKQDHAANPCGQIGETVDLDEAVQRALEFAKKEGNTLVIVTADHAHASQIVAPDTKAPGLTQALNTKDGAVMVMSYGNSEEDSQEHTGSQLRIAAYGPHAANVVGLTDQTDLFYTMKAALGLK!', '##################################@GTHEEEQYLFAVNNTKAEYPRDKTIHQLFEEQVSKRPNNVAIVCENEQLTYHELNVKANQLARIFIEKGIGKDTLVGIMMEKSIDLFIGILAVLKAGGAYVPIDIEYPKERIQYILDDSQARMLLTQKHLVHLIHNQFNGQVEIFEEDTIKIREGTNLHVPSKSTDLAYVIYTNPKGTMLEHKGISNLKVFFENSLNVTEKDRIGQFASISFDASVWEMFMALLTGASLYIILKDTINDFVKFEQYINQKEITVITLPPTYVVHLDPERILSIQTLITAGSATSPSLVNKWKEKVTYINAYGPTETTICATTWVATKETIGHSVPIGAPIQNTQIYIVDENLQLKSVGEAGELCIGGEGLARGYWKRPELTSQKFVDNPFVPGEKLYKTGDQARWLSDGNIEYLGRIDNQVKIRGHRVELEEVESILLKHMYISETAVSVHKDHQEQPYLCAYFVSEKHIPLEQLRQFSSEELPTYMIPSYFIQLDKMPLTSNGKIDRKQLPEPDLTF!', '@EPSLDNLAQQDVAAPGAPEGVTALSDAQYNEANKIYFERCAGCHGVLRKGATGKALTPDLTRDLGFDYLQSFITYASPAGMPNWGTSGELSAEQVDLMANYLLLDPAAPPEFGMKEMRESWKVHVAPEDRPTQQMNDWDLENLFSVTLRDAGQIALIDGSTYEIKTVLDTGYAVHISRLSASGRYLFVIGRDGKVNMIDLWMKEPTTVAEIKIGSEARSIETSKMEGWEDKYAIAGAYWPPQYVIMDGETLEPKKIQSTRGMTYDEQEYHPEPRVAAILASHYRPEFIVNVKETGKILLVDYTDLNNLKTTEISAERFLHDGGLDGSHRYFITAANARNKLVVIDTKEGKLVAIEDTGGQTPHPGRGANFVHPTFGPVWATSHMGDDSVALIGTDPEGHPDNAWKILDSFPALGGGSLFIKTHPNSQYLYVDATLNPEAEISGSVAVFDIKAMTGDGSDPEFKTLPIAEWAGITEGQPRVVQGEFNKDGTEVWFSVWNGKDQESALVVVDDKTLELKHVIKDERLVTPTGKFNVYNTMTDTY!']\n"
          ],
          "name": "stdout"
        }
      ]
    },
    {
      "cell_type": "code",
      "metadata": {
        "id": "FI0a5y4SBKfD",
        "outputId": "0599227c-2587-4558-e2cd-a44aebc4b9f2",
        "colab": {
          "base_uri": "https://localhost:8080/",
          "height": 71
        }
      },
      "source": [
        "# split up each sequence into individual letters and append them to new list\n",
        "list_of_aa_chainA_2 = []\n",
        "for seq in list_my_inputs_2:\n",
        "  temp_list = []\n",
        "  for letter in seq:\n",
        "    if letter in aa_to_idx:\n",
        "      temp_list.append(letter)\n",
        "  list_of_aa_chainA_2.append(temp_list)\n",
        "\n",
        "list_of_aa_chainB_2 = []\n",
        "for seq in list_my_labels_2:\n",
        "  temp_list = []\n",
        "  for letter in seq:\n",
        "    if letter in aa_to_idx:\n",
        "      temp_list.append(letter)\n",
        "  list_of_aa_chainB_2.append(temp_list)\n",
        "\n",
        "# map letters to int based on aa_to_idx\n",
        "mapped_chainA_to_tokens_2 = [[aa_to_idx[j] for j in i] for i in list_of_aa_chainA_2]\n",
        "mapped_chainB_to_tokens_2 = [[aa_to_idx[j] for j in i] for i in list_of_aa_chainB_2]\n",
        "\n",
        "print(mapped_chainA_to_tokens_2)\n",
        "print(mapped_chainB_to_tokens_2)"
      ],
      "execution_count": null,
      "outputs": [
        {
          "output_type": "stream",
          "text": [
            "[[29, 29, 29, 29, 29, 29, 29, 29, 29, 29, 29, 29, 29, 29, 29, 29, 29, 29, 29, 29, 29, 29, 29, 29, 29, 29, 29, 29, 29, 29, 29, 29, 29, 29, 29, 29, 29, 29, 29, 29, 29, 29, 29, 29, 29, 29, 29, 29, 29, 29, 29, 29, 29, 29, 29, 29, 29, 29, 29, 29, 29, 29, 29, 29, 29, 29, 29, 29, 29, 29, 29, 29, 29, 29, 29, 29, 29, 29, 29, 29, 29, 29, 29, 29, 29, 29, 29, 29, 29, 29, 29, 29, 29, 29, 29, 29, 29, 29, 29, 29, 29, 29, 29, 29, 29, 29, 29, 29, 29, 29, 29, 29, 29, 29, 29, 29, 29, 29, 29, 29, 29, 29, 29, 29, 29, 29, 29, 29, 29, 29, 29, 29, 29, 29, 29, 29, 29, 29, 29, 29, 29, 29, 29, 29, 29, 29, 29, 29, 29, 29, 29, 29, 29, 29, 29, 29, 29, 29, 29, 29, 29, 29, 29, 29, 29, 29, 29, 29, 29, 29, 29, 29, 29, 29, 29, 29, 29, 29, 29, 29, 29, 29, 29, 29, 29, 29, 29, 29, 29, 29, 29, 29, 29, 29, 29, 29, 29, 29, 29, 29, 29, 29, 29, 29, 29, 29, 29, 29, 29, 29, 29, 29, 29, 29, 29, 29, 29, 29, 29, 29, 29, 29, 29, 29, 29, 29, 29, 29, 29, 29, 29, 29, 29, 29, 29, 29, 29, 29, 29, 29, 29, 29, 29, 29, 29, 29, 29, 29, 29, 29, 29, 29, 29, 29, 29, 29, 29, 29, 29, 29, 29, 29, 29, 29, 29, 29, 29, 29, 29, 29, 29, 29, 29, 29, 29, 29, 29, 29, 29, 29, 29, 29, 29, 29, 29, 29, 29, 29, 29, 29, 29, 29, 29, 29, 29, 29, 29, 29, 29, 29, 29, 29, 29, 29, 29, 29, 29, 29, 29, 29, 29, 29, 29, 29, 29, 29, 29, 29, 29, 29, 29, 29, 29, 29, 29, 29, 29, 29, 29, 29, 29, 29, 29, 29, 29, 29, 29, 29, 29, 29, 29, 29, 29, 29, 29, 29, 29, 29, 29, 29, 29, 29, 29, 29, 29, 29, 29, 29, 29, 29, 29, 29, 29, 29, 29, 29, 29, 29, 29, 29, 29, 29, 29, 29, 29, 29, 29, 29, 29, 29, 29, 29, 29, 29, 29, 29, 29, 29, 29, 29, 29, 29, 29, 29, 29, 29, 29, 29, 29, 29, 29, 29, 29, 29, 29, 29, 29, 29, 29, 29, 29, 29, 29, 29, 29, 29, 29, 29, 29, 29, 29, 29, 29, 29, 29, 29, 29, 29, 29, 29, 29, 29, 29, 29, 29, 29, 29, 29, 29, 29, 29, 29, 29, 29, 29, 29, 29, 29, 29, 29, 29, 29, 29, 29, 29, 29, 29, 29, 29, 29, 29, 29, 29, 29, 29, 29, 29, 29, 29, 29, 29, 29, 29, 29, 29, 29, 29, 29, 29, 29, 29, 29, 29, 29, 29, 29, 29, 29, 29, 29, 29, 29, 29, 29, 29, 29, 29, 29, 29, 29, 29, 29, 29, 29, 29, 29, 29, 29, 29, 29, 29, 29, 29, 29, 29, 29, 29, 29, 29, 29, 29, 29, 29, 29, 29, 29, 29, 29, 29, 29, 29, 29, 29, 29, 29, 29, 29, 29, 29, 27, 24, 24, 24, 28], [29, 29, 29, 29, 29, 29, 29, 29, 29, 29, 29, 29, 29, 29, 29, 29, 29, 29, 29, 29, 29, 29, 29, 29, 29, 29, 29, 29, 29, 29, 29, 29, 29, 29, 29, 29, 29, 29, 29, 29, 29, 29, 29, 29, 29, 29, 29, 29, 29, 29, 29, 29, 29, 29, 29, 29, 29, 29, 29, 29, 29, 29, 29, 29, 29, 29, 29, 29, 29, 29, 29, 29, 29, 29, 29, 29, 29, 29, 29, 29, 29, 29, 29, 29, 29, 29, 29, 29, 29, 29, 29, 29, 29, 29, 29, 29, 29, 29, 29, 29, 29, 29, 29, 29, 29, 29, 29, 29, 29, 29, 29, 29, 29, 29, 29, 29, 29, 29, 29, 29, 29, 29, 29, 29, 29, 29, 29, 29, 29, 29, 29, 29, 29, 29, 29, 29, 29, 29, 29, 29, 29, 29, 29, 29, 29, 29, 29, 29, 29, 29, 29, 29, 29, 29, 29, 29, 29, 29, 29, 29, 29, 29, 29, 29, 29, 29, 29, 29, 29, 29, 29, 29, 29, 29, 29, 29, 29, 29, 29, 29, 29, 29, 29, 29, 29, 29, 29, 29, 29, 29, 29, 29, 29, 29, 29, 29, 29, 29, 29, 29, 29, 29, 29, 29, 29, 29, 29, 29, 29, 29, 29, 29, 29, 29, 29, 29, 29, 29, 29, 29, 29, 29, 29, 29, 29, 29, 29, 29, 29, 29, 29, 29, 29, 29, 29, 29, 29, 29, 29, 29, 29, 29, 29, 29, 29, 29, 29, 29, 29, 29, 29, 29, 29, 29, 29, 29, 29, 29, 29, 29, 29, 29, 29, 29, 29, 29, 29, 29, 29, 29, 29, 29, 29, 29, 29, 29, 29, 29, 29, 29, 29, 29, 29, 29, 29, 29, 29, 29, 29, 29, 29, 29, 29, 29, 29, 29, 29, 29, 29, 29, 29, 29, 29, 29, 29, 29, 29, 29, 29, 29, 29, 29, 29, 29, 29, 29, 29, 29, 29, 29, 29, 29, 29, 29, 29, 29, 29, 29, 29, 29, 29, 29, 29, 29, 29, 29, 29, 29, 29, 29, 29, 29, 29, 29, 29, 29, 29, 29, 29, 29, 29, 29, 29, 29, 29, 29, 29, 29, 29, 29, 29, 29, 29, 29, 29, 29, 29, 29, 29, 29, 29, 29, 29, 29, 29, 29, 29, 29, 29, 29, 29, 29, 29, 29, 29, 29, 29, 29, 29, 29, 29, 29, 29, 29, 29, 29, 29, 29, 29, 29, 29, 29, 29, 29, 29, 29, 29, 29, 29, 29, 29, 29, 29, 29, 29, 29, 29, 29, 29, 29, 29, 29, 29, 29, 29, 29, 29, 29, 29, 29, 29, 29, 29, 29, 29, 29, 29, 29, 29, 29, 29, 29, 29, 29, 29, 29, 29, 29, 29, 29, 29, 29, 29, 29, 29, 29, 29, 29, 29, 29, 29, 29, 29, 29, 29, 29, 29, 29, 29, 29, 29, 29, 29, 29, 29, 29, 29, 29, 29, 29, 29, 29, 29, 29, 29, 29, 29, 29, 29, 29, 29, 29, 29, 29, 29, 29, 29, 29, 29, 29, 29, 29, 29, 29, 29, 29, 29, 29, 29, 29, 29, 29, 29, 29, 29, 29, 29, 29, 29, 29, 29, 29, 29, 29, 29, 29, 29, 29, 29, 29, 29, 29, 29, 29, 27, 7, 1, 1, 22, 23, 23, 23, 23, 28], [29, 29, 29, 29, 29, 29, 29, 29, 29, 29, 29, 29, 29, 29, 29, 29, 29, 29, 29, 29, 29, 29, 29, 29, 29, 29, 29, 29, 29, 29, 29, 29, 29, 29, 29, 29, 29, 29, 29, 29, 29, 29, 29, 29, 29, 29, 29, 29, 29, 29, 29, 29, 29, 29, 29, 29, 29, 29, 29, 29, 29, 29, 29, 29, 29, 29, 29, 29, 29, 29, 29, 29, 29, 29, 29, 29, 29, 29, 29, 29, 29, 29, 29, 29, 29, 29, 29, 29, 29, 29, 29, 29, 29, 29, 29, 29, 29, 29, 29, 29, 29, 29, 29, 29, 29, 29, 29, 29, 29, 29, 29, 29, 29, 29, 29, 29, 29, 29, 29, 29, 29, 29, 29, 29, 29, 29, 29, 29, 29, 29, 29, 29, 29, 29, 29, 29, 29, 29, 29, 29, 29, 29, 29, 29, 29, 29, 29, 29, 29, 29, 29, 29, 29, 29, 29, 29, 29, 29, 29, 29, 29, 29, 29, 29, 29, 29, 29, 29, 29, 29, 29, 29, 29, 29, 29, 29, 29, 29, 29, 29, 29, 29, 29, 29, 29, 29, 29, 29, 29, 29, 29, 29, 29, 29, 29, 29, 29, 29, 29, 29, 29, 29, 29, 29, 29, 29, 29, 29, 29, 29, 29, 29, 29, 29, 29, 29, 29, 29, 29, 29, 29, 29, 29, 29, 29, 29, 29, 29, 29, 29, 29, 29, 29, 29, 29, 29, 29, 29, 29, 29, 29, 29, 29, 29, 29, 29, 29, 29, 29, 29, 29, 29, 29, 29, 29, 29, 29, 29, 29, 29, 29, 29, 29, 29, 29, 29, 29, 29, 29, 29, 29, 29, 29, 29, 29, 29, 29, 29, 29, 29, 29, 29, 29, 29, 29, 29, 29, 29, 29, 29, 29, 29, 29, 29, 29, 29, 29, 29, 29, 29, 29, 29, 29, 29, 29, 29, 29, 29, 29, 29, 29, 29, 29, 29, 29, 29, 29, 29, 29, 29, 29, 29, 29, 29, 29, 29, 29, 29, 29, 29, 29, 29, 29, 29, 29, 29, 29, 29, 29, 29, 29, 29, 29, 29, 29, 29, 29, 29, 29, 29, 29, 29, 29, 29, 29, 29, 29, 29, 29, 29, 29, 29, 29, 29, 29, 29, 29, 29, 29, 29, 29, 29, 29, 29, 29, 29, 29, 29, 29, 29, 29, 29, 29, 29, 29, 29, 29, 29, 29, 29, 29, 29, 29, 29, 29, 29, 29, 29, 29, 29, 29, 29, 29, 29, 29, 29, 29, 29, 29, 29, 29, 29, 29, 29, 29, 29, 29, 29, 29, 29, 29, 29, 29, 29, 29, 29, 29, 29, 29, 29, 29, 29, 29, 29, 29, 29, 29, 29, 29, 29, 29, 29, 29, 29, 29, 29, 29, 29, 29, 29, 29, 29, 29, 29, 29, 29, 29, 29, 29, 29, 29, 29, 29, 29, 29, 29, 29, 29, 29, 29, 29, 29, 29, 29, 29, 29, 29, 29, 29, 29, 29, 29, 29, 29, 29, 29, 29, 29, 29, 29, 29, 29, 29, 29, 29, 29, 29, 29, 29, 29, 29, 29, 29, 29, 29, 29, 29, 29, 29, 29, 29, 29, 29, 29, 29, 29, 29, 29, 29, 29, 29, 29, 29, 29, 29, 29, 29, 29, 29, 29, 29, 29, 29, 27, 7, 1, 1, 22, 23, 25, 23, 23, 23, 28], [29, 29, 29, 29, 29, 29, 29, 29, 29, 29, 29, 29, 29, 29, 29, 29, 29, 29, 29, 29, 29, 29, 29, 29, 29, 29, 29, 29, 29, 29, 29, 29, 29, 29, 29, 29, 29, 29, 29, 29, 29, 29, 29, 29, 29, 29, 29, 29, 29, 29, 29, 29, 29, 29, 29, 29, 29, 29, 29, 29, 29, 29, 29, 29, 29, 29, 29, 29, 29, 29, 29, 29, 29, 29, 29, 29, 29, 29, 29, 29, 29, 29, 29, 29, 29, 29, 29, 29, 29, 29, 29, 29, 29, 29, 29, 29, 29, 29, 29, 29, 29, 29, 29, 29, 29, 29, 29, 29, 29, 29, 29, 29, 29, 29, 29, 29, 29, 29, 29, 29, 29, 29, 29, 29, 29, 29, 29, 29, 29, 29, 29, 29, 29, 29, 29, 29, 29, 29, 29, 29, 29, 29, 29, 29, 29, 29, 29, 29, 29, 29, 29, 29, 29, 29, 29, 29, 29, 29, 29, 29, 29, 29, 29, 29, 29, 29, 29, 29, 29, 29, 29, 29, 29, 29, 29, 29, 29, 29, 29, 29, 29, 29, 29, 29, 29, 29, 29, 29, 29, 29, 29, 29, 29, 29, 29, 29, 29, 29, 29, 29, 29, 29, 29, 29, 29, 29, 29, 29, 29, 29, 29, 29, 29, 29, 29, 29, 29, 29, 29, 29, 29, 29, 29, 29, 29, 29, 29, 29, 29, 29, 29, 29, 29, 29, 29, 29, 29, 29, 29, 29, 29, 29, 29, 29, 29, 29, 29, 29, 29, 29, 29, 29, 29, 29, 29, 29, 29, 29, 29, 29, 29, 29, 29, 29, 29, 29, 29, 29, 29, 29, 29, 29, 29, 29, 29, 29, 29, 29, 29, 29, 29, 29, 29, 29, 29, 29, 29, 29, 29, 29, 29, 29, 29, 29, 29, 29, 29, 29, 29, 29, 29, 29, 29, 29, 29, 29, 29, 29, 29, 29, 29, 29, 29, 29, 29, 29, 29, 29, 29, 29, 29, 29, 29, 29, 29, 29, 29, 29, 29, 29, 29, 29, 29, 29, 29, 29, 29, 29, 29, 29, 29, 29, 29, 29, 29, 29, 29, 29, 29, 29, 29, 29, 29, 29, 29, 29, 29, 29, 29, 29, 29, 29, 29, 29, 29, 29, 29, 29, 29, 29, 29, 29, 29, 29, 29, 29, 29, 29, 29, 29, 29, 29, 29, 29, 29, 29, 29, 29, 29, 29, 29, 29, 29, 29, 29, 29, 29, 29, 29, 29, 29, 29, 29, 29, 29, 29, 29, 29, 29, 29, 29, 29, 29, 29, 29, 29, 29, 29, 29, 29, 29, 29, 29, 29, 29, 29, 29, 29, 29, 29, 29, 29, 29, 29, 29, 29, 29, 29, 29, 29, 29, 29, 29, 29, 29, 29, 29, 29, 29, 29, 29, 29, 29, 29, 29, 29, 29, 29, 29, 29, 29, 29, 29, 29, 29, 29, 29, 29, 29, 29, 29, 29, 29, 29, 29, 29, 29, 29, 29, 29, 29, 29, 29, 29, 29, 29, 29, 29, 29, 29, 29, 29, 29, 29, 29, 29, 29, 29, 29, 29, 29, 29, 29, 29, 29, 29, 29, 29, 29, 29, 29, 29, 29, 29, 29, 29, 29, 29, 29, 29, 29, 29, 29, 29, 29, 29, 29, 29, 29, 29, 29, 29, 29, 27, 7, 1, 1, 22, 23, 25, 23, 23, 23, 28], [29, 29, 29, 29, 29, 29, 29, 29, 29, 29, 29, 29, 29, 29, 29, 29, 29, 29, 29, 29, 29, 29, 29, 29, 29, 29, 29, 29, 29, 29, 29, 29, 29, 29, 29, 29, 29, 29, 29, 29, 29, 29, 29, 29, 29, 29, 29, 29, 29, 29, 29, 29, 29, 29, 29, 29, 29, 29, 29, 29, 29, 29, 29, 29, 29, 29, 29, 29, 29, 29, 29, 29, 29, 29, 29, 29, 29, 29, 29, 29, 29, 29, 29, 29, 29, 29, 29, 29, 29, 29, 29, 29, 29, 29, 29, 29, 29, 29, 29, 29, 29, 29, 29, 29, 29, 29, 29, 29, 29, 29, 29, 29, 29, 29, 29, 29, 29, 29, 29, 29, 29, 29, 29, 29, 29, 29, 29, 29, 29, 29, 29, 29, 29, 29, 29, 29, 29, 29, 29, 29, 29, 29, 29, 29, 29, 29, 29, 29, 29, 29, 29, 29, 29, 29, 29, 29, 29, 29, 29, 29, 29, 29, 29, 29, 29, 29, 29, 29, 29, 29, 29, 29, 29, 29, 29, 29, 29, 29, 29, 29, 29, 29, 29, 29, 29, 29, 29, 29, 29, 29, 29, 29, 29, 29, 29, 29, 29, 29, 29, 29, 29, 29, 29, 29, 29, 29, 29, 29, 29, 29, 29, 29, 29, 29, 29, 29, 29, 29, 29, 29, 29, 29, 29, 29, 29, 29, 29, 29, 29, 29, 29, 29, 29, 29, 29, 29, 29, 29, 29, 29, 29, 29, 29, 29, 29, 29, 29, 29, 29, 29, 29, 29, 29, 29, 29, 29, 29, 29, 29, 29, 29, 29, 29, 29, 29, 29, 29, 29, 29, 29, 29, 29, 29, 29, 29, 29, 29, 29, 29, 29, 29, 29, 29, 29, 29, 29, 29, 29, 29, 29, 29, 29, 29, 29, 29, 29, 29, 29, 29, 29, 29, 29, 29, 29, 29, 29, 29, 29, 29, 29, 29, 29, 29, 29, 29, 29, 29, 29, 29, 29, 29, 29, 29, 29, 29, 29, 29, 29, 29, 29, 29, 29, 29, 29, 29, 29, 29, 29, 29, 29, 29, 29, 29, 29, 29, 29, 29, 29, 29, 29, 29, 29, 29, 29, 29, 29, 29, 29, 29, 29, 29, 29, 29, 29, 29, 29, 29, 29, 29, 29, 29, 29, 29, 29, 29, 29, 29, 29, 29, 29, 29, 29, 29, 29, 29, 29, 29, 29, 29, 29, 29, 29, 29, 29, 29, 29, 29, 29, 29, 29, 29, 29, 29, 29, 29, 29, 29, 29, 29, 29, 29, 29, 29, 29, 29, 29, 29, 29, 29, 29, 29, 29, 29, 29, 29, 29, 29, 29, 29, 29, 29, 29, 29, 29, 29, 29, 29, 29, 29, 29, 29, 29, 29, 27, 16, 17, 9, 20, 12, 23, 17, 18, 16, 12, 22, 20, 9, 11, 9, 7, 7, 17, 12, 11, 5, 1, 12, 12, 4, 20, 7, 1, 4, 4, 20, 22, 12, 5, 5, 13, 19, 12, 16, 7, 18, 23, 11, 16, 11, 13, 9, 7, 7, 9, 7, 7, 6, 9, 11, 22, 18, 17, 25, 4, 17, 9, 12, 9, 5, 9, 3, 7, 8, 11, 1, 9, 7, 20, 22, 12, 22, 7, 16, 20, 16, 22, 14, 9, 9, 7, 18, 14, 12, 12, 20, 17, 9, 7, 3, 20, 12, 14, 6, 28], [29, 29, 29, 29, 29, 29, 29, 29, 29, 29, 29, 29, 29, 29, 29, 29, 29, 29, 29, 29, 29, 29, 29, 29, 29, 29, 29, 29, 29, 29, 29, 29, 29, 29, 29, 29, 29, 29, 29, 29, 29, 29, 29, 29, 29, 29, 29, 29, 29, 29, 29, 29, 29, 29, 29, 29, 29, 29, 29, 29, 29, 29, 29, 29, 29, 29, 29, 29, 29, 29, 29, 29, 29, 29, 29, 29, 29, 29, 29, 29, 29, 29, 29, 29, 29, 29, 29, 29, 29, 29, 29, 29, 29, 29, 29, 29, 29, 29, 29, 29, 29, 29, 29, 29, 29, 29, 29, 29, 29, 29, 29, 29, 29, 29, 29, 29, 29, 29, 29, 29, 29, 29, 29, 29, 29, 29, 29, 29, 29, 29, 29, 29, 29, 29, 29, 29, 29, 29, 29, 29, 29, 29, 29, 29, 29, 29, 29, 29, 29, 29, 29, 29, 29, 29, 29, 29, 29, 29, 29, 29, 29, 29, 29, 29, 29, 29, 29, 29, 29, 29, 29, 29, 29, 29, 29, 29, 29, 29, 29, 29, 29, 29, 29, 29, 29, 29, 29, 29, 29, 29, 29, 29, 29, 29, 29, 29, 29, 29, 29, 29, 29, 29, 29, 29, 29, 29, 29, 29, 29, 29, 29, 29, 29, 29, 29, 29, 29, 29, 29, 29, 29, 29, 29, 29, 29, 29, 29, 29, 29, 29, 29, 29, 29, 29, 29, 29, 29, 29, 29, 29, 29, 29, 29, 29, 29, 29, 29, 29, 29, 29, 29, 29, 29, 29, 29, 29, 29, 29, 29, 29, 29, 29, 29, 29, 29, 29, 29, 29, 29, 29, 29, 29, 29, 29, 29, 29, 29, 29, 29, 29, 29, 29, 29, 29, 29, 29, 29, 29, 29, 29, 29, 29, 29, 29, 29, 29, 29, 29, 29, 29, 29, 29, 29, 29, 29, 29, 29, 29, 29, 29, 29, 29, 29, 29, 29, 29, 29, 29, 29, 29, 29, 29, 29, 29, 29, 29, 29, 29, 29, 29, 29, 29, 29, 29, 29, 29, 29, 29, 29, 29, 29, 29, 29, 29, 29, 29, 29, 29, 29, 29, 29, 29, 29, 29, 29, 29, 29, 29, 29, 29, 29, 29, 29, 29, 29, 29, 29, 29, 29, 29, 29, 29, 29, 29, 29, 29, 29, 29, 29, 29, 29, 29, 29, 29, 29, 29, 29, 29, 29, 29, 29, 29, 29, 29, 29, 29, 29, 29, 29, 29, 29, 29, 29, 29, 29, 29, 29, 29, 29, 29, 29, 29, 29, 29, 29, 29, 29, 29, 29, 29, 29, 29, 29, 29, 29, 29, 29, 29, 29, 29, 29, 29, 29, 29, 29, 29, 29, 29, 29, 29, 29, 29, 29, 27, 16, 17, 9, 20, 12, 23, 17, 18, 16, 12, 22, 20, 9, 11, 9, 7, 7, 17, 12, 11, 5, 1, 12, 12, 4, 20, 7, 1, 4, 4, 20, 22, 12, 5, 5, 13, 19, 12, 16, 7, 18, 23, 11, 16, 11, 13, 9, 7, 7, 9, 7, 7, 6, 9, 11, 22, 18, 17, 25, 4, 17, 9, 12, 9, 5, 9, 3, 7, 8, 11, 1, 9, 7, 20, 22, 12, 22, 7, 16, 20, 16, 22, 14, 9, 9, 7, 18, 14, 12, 12, 20, 17, 9, 7, 3, 20, 12, 14, 6, 28], [29, 29, 29, 29, 29, 29, 29, 29, 29, 29, 29, 29, 29, 29, 29, 29, 29, 29, 29, 29, 29, 29, 29, 29, 29, 29, 29, 29, 29, 29, 29, 29, 29, 29, 29, 29, 29, 29, 29, 29, 29, 29, 29, 29, 29, 29, 29, 29, 29, 29, 29, 29, 29, 29, 29, 29, 29, 29, 29, 29, 29, 29, 29, 29, 29, 29, 29, 29, 29, 29, 29, 29, 29, 29, 29, 29, 29, 29, 29, 29, 29, 29, 29, 29, 29, 29, 29, 29, 29, 29, 29, 29, 29, 29, 29, 29, 29, 29, 29, 29, 29, 29, 29, 29, 29, 29, 29, 29, 29, 29, 29, 29, 29, 29, 29, 29, 29, 29, 29, 29, 29, 29, 29, 29, 29, 29, 29, 29, 29, 29, 29, 29, 29, 29, 29, 29, 29, 29, 29, 29, 29, 29, 29, 29, 29, 29, 29, 29, 29, 29, 29, 29, 29, 29, 29, 29, 29, 29, 29, 29, 29, 29, 29, 29, 29, 29, 29, 29, 29, 29, 29, 29, 29, 29, 29, 29, 29, 29, 29, 29, 29, 29, 29, 29, 29, 29, 29, 29, 29, 29, 29, 29, 29, 29, 29, 29, 29, 29, 29, 29, 29, 29, 29, 29, 29, 29, 29, 29, 29, 29, 29, 29, 29, 29, 29, 29, 29, 29, 29, 29, 29, 29, 29, 29, 29, 29, 29, 29, 29, 29, 29, 29, 29, 29, 29, 29, 29, 29, 29, 29, 29, 29, 29, 29, 29, 29, 29, 29, 29, 29, 29, 29, 29, 29, 29, 29, 29, 29, 29, 29, 29, 29, 29, 29, 29, 29, 29, 29, 29, 29, 29, 29, 29, 29, 29, 29, 29, 29, 29, 29, 29, 29, 29, 29, 29, 29, 29, 29, 29, 29, 29, 29, 29, 29, 29, 29, 29, 29, 29, 29, 29, 29, 29, 29, 29, 29, 29, 29, 29, 29, 29, 29, 29, 29, 29, 29, 29, 29, 29, 29, 29, 29, 29, 29, 29, 29, 29, 29, 29, 29, 29, 29, 29, 29, 29, 29, 29, 29, 29, 29, 29, 29, 29, 29, 29, 29, 29, 29, 29, 29, 29, 29, 29, 29, 29, 29, 29, 29, 29, 29, 29, 29, 29, 29, 29, 29, 29, 29, 29, 29, 29, 29, 29, 29, 29, 29, 29, 29, 29, 29, 29, 29, 29, 29, 29, 29, 29, 29, 29, 29, 29, 29, 29, 29, 29, 29, 29, 29, 29, 29, 29, 29, 29, 29, 29, 29, 29, 29, 29, 29, 29, 29, 29, 29, 29, 29, 29, 27, 9, 22, 7, 7, 25, 20, 3, 1, 1, 14, 19, 9, 16, 25, 17, 22, 19, 12, 14, 19, 7, 19, 8, 6, 3, 7, 7, 19, 12, 9, 14, 19, 17, 23, 22, 22, 19, 1, 1, 8, 3, 25, 11, 19, 18, 9, 17, 22, 18, 12, 7, 5, 8, 14, 9, 4, 22, 12, 5, 7, 14, 5, 17, 6, 9, 14, 1, 1, 11, 9, 9, 20, 8, 16, 14, 6, 14, 7, 14, 20, 12, 4, 14, 4, 9, 13, 12, 9, 11, 12, 19, 19, 16, 1, 20, 12, 14, 19, 18, 22, 1, 20, 22, 19, 12, 16, 18, 19, 3, 1, 1, 1, 7, 20, 5, 3, 12, 9, 19, 7, 23, 7, 14, 20, 11, 28], [29, 29, 29, 29, 29, 29, 29, 29, 29, 29, 29, 29, 29, 29, 29, 29, 29, 29, 29, 29, 29, 29, 29, 29, 29, 29, 29, 29, 29, 29, 29, 29, 29, 29, 29, 29, 29, 29, 29, 29, 29, 29, 29, 29, 29, 29, 29, 29, 29, 29, 29, 29, 29, 29, 29, 29, 29, 29, 29, 29, 29, 29, 29, 29, 29, 29, 29, 29, 29, 29, 29, 29, 29, 29, 29, 29, 29, 29, 29, 29, 29, 29, 29, 29, 29, 29, 29, 29, 29, 29, 29, 29, 29, 29, 29, 29, 29, 29, 29, 29, 29, 29, 29, 29, 29, 29, 29, 29, 29, 29, 29, 29, 29, 29, 29, 29, 29, 29, 29, 29, 29, 29, 29, 29, 29, 29, 29, 29, 29, 29, 29, 29, 29, 29, 29, 29, 29, 29, 29, 29, 29, 29, 29, 29, 29, 29, 29, 29, 29, 29, 29, 29, 29, 29, 29, 29, 29, 29, 29, 29, 29, 29, 29, 29, 29, 29, 29, 29, 29, 29, 29, 29, 29, 29, 29, 29, 29, 29, 29, 29, 29, 29, 29, 29, 29, 29, 29, 29, 29, 29, 29, 29, 29, 29, 29, 29, 29, 29, 29, 29, 29, 29, 29, 29, 29, 29, 29, 29, 29, 29, 29, 29, 29, 29, 29, 29, 29, 29, 29, 29, 29, 29, 29, 29, 29, 29, 29, 29, 29, 29, 29, 29, 29, 29, 29, 29, 29, 29, 29, 29, 29, 29, 29, 29, 29, 29, 29, 29, 29, 29, 29, 29, 29, 29, 29, 29, 29, 29, 29, 29, 29, 29, 29, 29, 29, 29, 29, 29, 29, 29, 29, 29, 29, 29, 29, 29, 29, 29, 29, 29, 29, 29, 29, 29, 29, 29, 29, 29, 29, 29, 29, 29, 29, 29, 29, 29, 29, 29, 29, 29, 29, 29, 29, 29, 29, 29, 29, 29, 29, 29, 29, 29, 29, 29, 29, 29, 29, 29, 29, 29, 29, 29, 29, 29, 29, 29, 29, 29, 29, 29, 29, 29, 29, 29, 29, 29, 29, 29, 29, 29, 29, 29, 29, 29, 29, 29, 29, 29, 29, 29, 29, 29, 29, 29, 29, 29, 29, 29, 29, 29, 29, 29, 29, 29, 29, 29, 29, 29, 29, 27, 5, 5, 22, 18, 17, 6, 18, 18, 12, 6, 1, 17, 12, 1, 7, 4, 4, 13, 5, 22, 19, 1, 20, 5, 12, 13, 14, 9, 12, 14, 11, 22, 22, 20, 18, 8, 16, 4, 12, 11, 20, 4, 7, 6, 7, 9, 4, 20, 3, 18, 19, 13, 22, 1, 22, 13, 4, 19, 4, 20, 20, 7, 11, 12, 7, 6, 5, 5, 6, 11, 25, 12, 23, 14, 14, 9, 11, 11, 23, 17, 1, 9, 25, 11, 17, 6, 4, 22, 4, 18, 19, 7, 20, 9, 7, 19, 19, 5, 12, 16, 7, 1, 6, 5, 1, 1, 7, 6, 8, 12, 14, 5, 8, 12, 25, 19, 13, 9, 9, 18, 18, 25, 19, 4, 5, 7, 7, 14, 13, 4, 6, 4, 14, 6, 9, 19, 3, 12, 22, 18, 12, 4, 1, 13, 6, 18, 1, 6, 11, 19, 12, 4, 11, 4, 7, 20, 7, 17, 9, 17, 22, 14, 9, 17, 5, 23, 12, 17, 12, 20, 13, 25, 19, 28], [29, 29, 29, 29, 29, 29, 29, 29, 29, 29, 29, 29, 29, 29, 29, 29, 29, 29, 29, 29, 29, 29, 29, 29, 29, 29, 29, 29, 29, 29, 29, 29, 29, 29, 29, 29, 29, 29, 29, 29, 29, 29, 29, 29, 29, 29, 29, 29, 29, 29, 29, 29, 29, 29, 29, 29, 29, 29, 29, 29, 29, 29, 29, 29, 29, 29, 29, 29, 29, 29, 29, 29, 29, 29, 29, 29, 29, 29, 29, 29, 29, 29, 29, 29, 29, 29, 29, 29, 29, 29, 29, 29, 29, 29, 29, 29, 29, 29, 29, 29, 29, 29, 29, 29, 29, 29, 29, 29, 29, 29, 29, 29, 29, 29, 29, 29, 29, 29, 29, 29, 29, 29, 29, 29, 29, 29, 29, 29, 29, 29, 29, 29, 29, 29, 29, 29, 29, 29, 29, 29, 29, 29, 29, 29, 29, 29, 29, 29, 29, 29, 29, 29, 29, 29, 29, 29, 29, 29, 29, 29, 29, 29, 29, 29, 29, 29, 29, 29, 29, 29, 29, 29, 29, 29, 29, 29, 29, 29, 29, 29, 29, 29, 29, 29, 29, 29, 29, 29, 29, 29, 29, 29, 29, 29, 29, 29, 29, 29, 29, 29, 29, 29, 29, 29, 29, 29, 29, 29, 29, 29, 29, 29, 29, 29, 29, 29, 29, 29, 29, 29, 29, 29, 29, 29, 29, 29, 29, 29, 29, 29, 29, 29, 29, 29, 29, 29, 29, 29, 29, 29, 29, 29, 29, 29, 29, 29, 29, 29, 29, 29, 29, 29, 29, 29, 29, 29, 29, 29, 29, 29, 29, 29, 29, 29, 29, 29, 29, 29, 29, 29, 29, 29, 29, 29, 29, 29, 29, 29, 29, 29, 29, 29, 29, 29, 29, 29, 29, 29, 29, 29, 29, 29, 29, 29, 29, 29, 29, 29, 29, 29, 29, 29, 29, 29, 29, 29, 29, 29, 29, 29, 29, 29, 29, 29, 29, 29, 29, 29, 29, 29, 29, 29, 29, 29, 29, 29, 29, 29, 29, 29, 29, 29, 29, 29, 29, 29, 29, 29, 29, 29, 29, 29, 29, 29, 29, 29, 29, 29, 29, 29, 29, 29, 29, 29, 29, 29, 29, 29, 29, 29, 29, 29, 29, 29, 29, 29, 29, 29, 29, 27, 5, 5, 22, 18, 17, 6, 18, 18, 12, 6, 1, 17, 12, 1, 7, 4, 4, 13, 5, 22, 19, 1, 20, 5, 12, 13, 14, 9, 12, 14, 11, 22, 22, 20, 18, 8, 16, 4, 12, 11, 20, 4, 7, 6, 7, 9, 4, 20, 3, 18, 19, 13, 22, 1, 22, 13, 4, 19, 4, 20, 20, 7, 11, 12, 7, 6, 5, 5, 6, 11, 25, 12, 23, 14, 14, 9, 11, 11, 23, 17, 1, 9, 25, 11, 17, 6, 4, 22, 4, 18, 19, 7, 20, 9, 7, 19, 19, 5, 12, 16, 7, 1, 6, 5, 1, 1, 7, 6, 8, 12, 14, 5, 8, 12, 25, 19, 13, 9, 9, 18, 18, 25, 19, 4, 5, 7, 7, 14, 13, 4, 6, 4, 14, 6, 9, 19, 3, 12, 22, 18, 12, 4, 1, 13, 6, 18, 1, 6, 11, 19, 12, 4, 11, 4, 7, 20, 7, 17, 9, 17, 22, 14, 9, 17, 5, 23, 12, 17, 12, 20, 13, 25, 19, 28], [29, 29, 29, 29, 29, 29, 29, 29, 29, 29, 29, 29, 29, 29, 29, 29, 29, 29, 29, 29, 29, 29, 29, 29, 29, 29, 29, 29, 29, 29, 29, 29, 29, 29, 29, 29, 29, 29, 29, 29, 29, 29, 29, 29, 29, 29, 29, 29, 29, 29, 29, 29, 29, 29, 29, 29, 29, 29, 29, 29, 29, 29, 29, 29, 29, 29, 29, 29, 29, 29, 29, 29, 29, 29, 29, 29, 29, 29, 29, 29, 29, 29, 29, 29, 29, 29, 29, 29, 29, 29, 29, 29, 29, 29, 29, 29, 29, 29, 29, 29, 29, 29, 29, 29, 29, 29, 29, 29, 29, 29, 29, 29, 29, 29, 29, 29, 29, 29, 29, 29, 29, 29, 29, 29, 29, 29, 29, 29, 29, 29, 29, 29, 29, 29, 29, 29, 29, 29, 29, 29, 29, 29, 29, 29, 29, 29, 29, 29, 29, 29, 29, 29, 29, 29, 29, 29, 29, 29, 29, 29, 29, 29, 29, 29, 29, 29, 29, 29, 29, 29, 29, 29, 29, 29, 29, 29, 29, 29, 29, 29, 29, 29, 29, 29, 29, 29, 29, 29, 29, 29, 29, 29, 29, 29, 29, 29, 29, 29, 29, 29, 29, 29, 29, 29, 29, 29, 29, 29, 29, 29, 29, 29, 29, 29, 29, 29, 29, 29, 29, 29, 29, 29, 29, 29, 29, 29, 29, 29, 29, 29, 29, 29, 29, 29, 29, 29, 29, 29, 29, 29, 29, 29, 29, 29, 29, 29, 29, 29, 29, 29, 29, 29, 29, 29, 29, 29, 29, 29, 29, 29, 29, 29, 29, 29, 29, 29, 29, 29, 29, 29, 29, 29, 29, 29, 29, 29, 29, 29, 29, 29, 29, 29, 29, 29, 29, 29, 29, 29, 29, 29, 29, 29, 29, 29, 29, 29, 29, 29, 29, 29, 29, 29, 29, 29, 29, 29, 29, 29, 29, 29, 29, 29, 29, 29, 29, 29, 29, 29, 29, 29, 29, 29, 29, 29, 29, 29, 29, 29, 29, 29, 29, 29, 29, 29, 29, 29, 29, 29, 29, 29, 29, 29, 29, 29, 29, 29, 29, 29, 29, 29, 29, 29, 29, 29, 29, 29, 29, 29, 29, 29, 29, 29, 29, 29, 29, 29, 29, 27, 1, 4, 20, 14, 1, 16, 9, 3, 12, 3, 4, 5, 16, 7, 22, 12, 7, 18, 20, 17, 9, 22, 20, 20, 5, 9, 11, 4, 11, 9, 5, 11, 1, 22, 5, 1, 22, 1, 17, 5, 19, 7, 22, 19, 7, 18, 7, 6, 19, 9, 6, 19, 8, 8, 16, 22, 6, 18, 5, 3, 7, 11, 25, 5, 3, 18, 20, 22, 18, 16, 5, 8, 19, 18, 3, 25, 14, 6, 16, 16, 6, 20, 8, 6, 11, 19, 5, 3, 16, 22, 19, 20, 18, 4, 3, 5, 16, 22, 6, 7, 25, 20, 22, 1, 7, 5, 6, 18, 22, 9, 22, 17, 1, 16, 18, 1, 7, 6, 18, 17, 3, 22, 23, 17, 8, 11, 3, 18, 6, 7, 19, 14, 19, 3, 7, 25, 14, 7, 18, 3, 20, 17, 17, 18, 19, 22, 22, 18, 12, 22, 20, 25, 14, 12, 5, 11, 4, 7, 6, 12, 3, 5, 19, 6, 18, 20, 3, 3, 7, 3, 16, 3, 18, 19, 6, 28], [29, 29, 29, 29, 29, 29, 29, 29, 29, 29, 29, 29, 29, 29, 29, 29, 29, 29, 29, 29, 29, 29, 29, 29, 29, 29, 29, 29, 29, 29, 29, 29, 29, 29, 29, 29, 29, 29, 29, 29, 29, 29, 29, 29, 29, 29, 29, 29, 29, 29, 29, 29, 29, 29, 29, 29, 29, 29, 29, 29, 29, 29, 29, 29, 29, 29, 29, 29, 29, 29, 29, 29, 29, 29, 29, 29, 29, 29, 29, 29, 29, 29, 29, 29, 29, 29, 29, 29, 29, 29, 29, 29, 29, 29, 29, 29, 29, 29, 29, 29, 29, 29, 29, 29, 29, 29, 29, 29, 29, 29, 29, 29, 29, 29, 29, 29, 29, 29, 29, 29, 29, 29, 29, 29, 29, 29, 29, 29, 29, 29, 29, 29, 29, 29, 29, 29, 29, 29, 29, 29, 29, 29, 29, 29, 29, 29, 29, 29, 29, 29, 29, 29, 29, 29, 29, 29, 29, 29, 29, 29, 29, 29, 29, 29, 29, 29, 29, 29, 29, 29, 29, 29, 29, 29, 29, 29, 29, 29, 29, 29, 29, 29, 29, 29, 29, 29, 29, 29, 29, 29, 29, 29, 29, 29, 29, 29, 29, 29, 29, 29, 29, 29, 29, 29, 29, 29, 29, 29, 29, 29, 29, 29, 29, 29, 29, 29, 29, 29, 29, 29, 29, 29, 29, 29, 29, 29, 29, 29, 29, 29, 29, 29, 29, 29, 29, 29, 29, 29, 29, 29, 29, 29, 29, 29, 29, 29, 29, 29, 29, 29, 29, 29, 29, 29, 29, 29, 29, 29, 29, 29, 29, 29, 29, 29, 29, 29, 29, 29, 29, 29, 29, 29, 29, 29, 29, 29, 29, 29, 29, 29, 29, 29, 29, 29, 29, 29, 29, 29, 29, 29, 29, 29, 29, 29, 29, 29, 29, 29, 29, 29, 29, 29, 29, 29, 29, 29, 29, 29, 29, 29, 29, 29, 29, 29, 29, 29, 29, 29, 29, 29, 29, 29, 29, 29, 29, 29, 29, 29, 29, 29, 29, 29, 29, 29, 29, 29, 29, 29, 29, 29, 29, 29, 29, 29, 29, 29, 29, 29, 29, 29, 27, 13, 12, 11, 16, 14, 22, 1, 9, 9, 22, 1, 1, 12, 11, 16, 1, 12, 7, 9, 7, 25, 11, 7, 11, 13, 16, 23, 18, 12, 18, 11, 5, 9, 18, 25, 6, 11, 4, 22, 20, 20, 18, 20, 20, 11, 16, 14, 20, 18, 14, 1, 22, 9, 13, 7, 18, 11, 20, 23, 5, 19, 9, 16, 17, 11, 6, 18, 16, 12, 16, 4, 18, 12, 14, 9, 9, 12, 19, 18, 19, 25, 5, 14, 5, 9, 9, 4, 4, 14, 9, 9, 8, 1, 19, 19, 9, 5, 19, 19, 12, 14, 12, 22, 19, 4, 22, 5, 18, 22, 6, 9, 9, 7, 7, 1, 5, 9, 25, 14, 5, 12, 9, 14, 14, 19, 12, 22, 19, 8, 12, 12, 9, 20, 5, 9, 5, 8, 16, 19, 16, 5, 19, 9, 5, 13, 4, 20, 6, 12, 11, 6, 16, 12, 5, 19, 23, 20, 11, 17, 16, 11, 19, 5, 12, 17, 11, 6, 22, 7, 4, 20, 22, 12, 5, 4, 4, 9, 11, 5, 7, 4, 6, 20, 25, 14, 25, 20, 12, 23, 20, 18, 11, 28], [29, 29, 29, 29, 29, 29, 29, 29, 29, 29, 29, 29, 29, 29, 29, 29, 29, 29, 29, 29, 29, 29, 29, 29, 29, 29, 29, 29, 29, 29, 29, 29, 29, 29, 29, 29, 29, 29, 29, 29, 29, 29, 29, 29, 29, 29, 29, 29, 29, 29, 29, 29, 29, 29, 29, 29, 29, 29, 29, 29, 29, 29, 29, 29, 29, 29, 29, 29, 29, 29, 29, 29, 29, 29, 29, 29, 29, 29, 29, 29, 29, 29, 29, 29, 29, 29, 29, 29, 29, 29, 29, 29, 29, 29, 29, 29, 29, 29, 29, 29, 29, 29, 29, 29, 29, 29, 29, 29, 29, 29, 29, 29, 29, 29, 29, 29, 29, 29, 29, 29, 29, 29, 29, 29, 29, 29, 29, 29, 29, 29, 29, 29, 29, 29, 29, 29, 29, 29, 29, 29, 29, 29, 29, 29, 29, 29, 29, 29, 29, 29, 29, 29, 29, 29, 29, 29, 29, 29, 29, 29, 29, 29, 29, 29, 29, 29, 29, 29, 29, 29, 29, 29, 29, 29, 29, 29, 29, 29, 29, 29, 29, 29, 29, 29, 29, 29, 29, 29, 29, 29, 29, 29, 29, 29, 29, 29, 29, 29, 29, 29, 29, 29, 29, 29, 29, 29, 29, 29, 29, 29, 29, 29, 29, 29, 29, 29, 29, 29, 29, 29, 29, 29, 29, 29, 29, 29, 29, 29, 29, 29, 29, 29, 29, 29, 29, 29, 29, 29, 29, 29, 29, 29, 29, 29, 29, 29, 29, 29, 29, 29, 29, 29, 29, 29, 29, 29, 29, 29, 29, 29, 29, 29, 29, 29, 29, 29, 29, 29, 29, 29, 29, 29, 29, 29, 29, 29, 29, 29, 29, 29, 29, 29, 29, 29, 29, 29, 29, 29, 29, 29, 29, 29, 29, 29, 29, 29, 29, 29, 29, 29, 29, 29, 29, 29, 29, 29, 29, 29, 29, 29, 29, 29, 29, 29, 29, 29, 29, 29, 29, 29, 29, 29, 29, 29, 29, 29, 29, 29, 29, 29, 27, 14, 20, 7, 9, 22, 19, 19, 6, 6, 20, 25, 20, 7, 16, 1, 8, 7, 20, 17, 23, 4, 5, 9, 4, 9, 5, 6, 12, 7, 11, 4, 20, 20, 11, 22, 17, 6, 14, 25, 25, 20, 14, 7, 22, 7, 7, 8, 5, 11, 22, 9, 19, 12, 7, 6, 4, 1, 19, 11, 7, 6, 8, 20, 25, 1, 6, 4, 23, 17, 16, 7, 25, 9, 11, 23, 25, 22, 4, 7, 22, 12, 11, 8, 20, 1, 20, 1, 14, 9, 16, 19, 20, 16, 7, 11, 9, 13, 13, 14, 12, 23, 14, 7, 20, 4, 4, 23, 12, 7, 19, 25, 14, 7, 1, 14, 16, 12, 25, 1, 5, 25, 4, 23, 22, 11, 25, 20, 19, 14, 17, 20, 7, 7, 19, 6, 6, 5, 16, 6, 14, 19, 25, 14, 19, 7, 20, 23, 5, 11, 1, 4, 7, 25, 19, 14, 7, 7, 22, 6, 14, 3, 20, 23, 18, 1, 14, 14, 22, 14, 6, 20, 14, 4, 7, 11, 12, 11, 12, 7, 12, 20, 19, 19, 1, 25, 14, 11, 6, 4, 3, 1, 5, 25, 18, 19, 20, 14, 9, 25, 7, 25, 7, 12, 25, 5, 22, 19, 13, 11, 16, 1, 11, 28], [29, 29, 29, 29, 29, 29, 29, 29, 29, 29, 29, 29, 29, 29, 29, 29, 29, 29, 29, 29, 29, 29, 29, 29, 29, 29, 29, 29, 29, 29, 29, 29, 29, 29, 29, 29, 29, 29, 29, 29, 29, 29, 29, 29, 29, 29, 29, 29, 29, 29, 29, 29, 29, 29, 29, 29, 29, 29, 29, 29, 29, 29, 29, 29, 29, 29, 29, 29, 29, 29, 29, 29, 29, 29, 29, 29, 29, 29, 29, 29, 29, 29, 29, 29, 29, 29, 29, 29, 29, 29, 29, 29, 29, 29, 29, 29, 29, 29, 29, 29, 29, 29, 29, 29, 29, 29, 29, 29, 29, 29, 29, 29, 29, 29, 29, 29, 29, 29, 29, 29, 29, 29, 29, 29, 29, 29, 29, 29, 29, 29, 29, 29, 29, 29, 29, 29, 29, 29, 29, 29, 29, 29, 29, 29, 29, 29, 29, 29, 29, 29, 29, 29, 29, 29, 29, 29, 29, 29, 29, 29, 29, 29, 29, 29, 29, 29, 29, 29, 29, 29, 29, 29, 29, 29, 29, 29, 29, 29, 29, 29, 29, 29, 29, 29, 29, 29, 29, 29, 29, 29, 29, 29, 29, 29, 29, 29, 29, 29, 29, 29, 29, 29, 29, 29, 29, 29, 29, 29, 29, 29, 29, 29, 29, 29, 29, 29, 29, 29, 29, 29, 29, 29, 29, 29, 29, 29, 29, 29, 29, 29, 29, 29, 29, 29, 29, 29, 29, 29, 29, 29, 29, 29, 29, 29, 29, 29, 29, 29, 29, 29, 29, 29, 29, 29, 29, 29, 29, 29, 29, 29, 29, 29, 29, 29, 29, 29, 29, 29, 29, 29, 29, 29, 29, 29, 29, 29, 29, 29, 29, 29, 29, 29, 29, 29, 29, 29, 29, 29, 29, 29, 29, 29, 29, 29, 29, 29, 29, 29, 29, 29, 29, 29, 29, 29, 29, 29, 29, 29, 29, 29, 29, 29, 29, 29, 29, 29, 29, 29, 29, 29, 29, 29, 29, 29, 29, 29, 29, 29, 27, 13, 18, 9, 9, 12, 12, 7, 1, 16, 7, 1, 7, 11, 7, 20, 17, 1, 17, 6, 9, 13, 5, 11, 25, 7, 9, 16, 17, 9, 19, 20, 7, 4, 13, 12, 18, 1, 1, 22, 11, 19, 7, 19, 5, 12, 7, 11, 17, 1, 11, 4, 9, 13, 4, 1, 7, 11, 12, 22, 20, 4, 5, 12, 22, 9, 1, 12, 22, 11, 5, 18, 9, 1, 17, 5, 4, 3, 18, 14, 7, 6, 12, 12, 4, 7, 6, 16, 18, 20, 9, 16, 17, 1, 4, 1, 13, 11, 5, 1, 7, 9, 14, 22, 4, 25, 22, 12, 5, 6, 4, 22, 16, 4, 5, 12, 9, 22, 4, 18, 9, 22, 7, 18, 18, 22, 8, 1, 16, 19, 7, 18, 22, 25, 8, 22, 11, 6, 14, 16, 16, 11, 22, 5, 7, 11, 4, 4, 22, 20, 7, 5, 5, 12, 20, 20, 18, 11, 4, 4, 17, 5, 5, 20, 22, 18, 11, 18, 12, 22, 5, 25, 8, 17, 13, 20, 1, 16, 12, 9, 7, 25, 25, 19, 11, 5, 1, 5, 1, 7, 14, 20, 11, 25, 1, 11, 22, 4, 7, 20, 11, 16, 22, 1, 5, 22, 18, 1, 4, 12, 5, 11, 9, 12, 7, 28], [29, 29, 29, 29, 29, 29, 29, 29, 29, 29, 29, 29, 29, 29, 29, 29, 29, 29, 29, 29, 29, 29, 29, 29, 29, 29, 29, 29, 29, 29, 29, 29, 29, 29, 29, 29, 29, 29, 29, 29, 29, 29, 29, 29, 29, 29, 29, 29, 29, 29, 29, 29, 29, 29, 29, 29, 29, 29, 29, 29, 29, 29, 29, 29, 29, 29, 29, 29, 29, 29, 29, 29, 29, 29, 29, 29, 29, 29, 29, 29, 29, 29, 29, 29, 29, 29, 29, 29, 29, 29, 29, 29, 29, 29, 29, 29, 29, 29, 29, 29, 29, 29, 29, 29, 29, 29, 29, 29, 29, 29, 29, 29, 29, 29, 29, 29, 29, 29, 29, 29, 29, 29, 29, 29, 29, 29, 29, 29, 29, 29, 29, 29, 29, 29, 29, 29, 29, 29, 29, 29, 29, 29, 29, 29, 29, 29, 29, 29, 29, 29, 29, 29, 29, 29, 29, 29, 29, 29, 29, 29, 29, 29, 29, 29, 29, 29, 29, 29, 29, 29, 29, 29, 29, 29, 29, 29, 29, 29, 29, 29, 29, 29, 29, 29, 29, 29, 29, 29, 29, 29, 29, 29, 29, 29, 29, 29, 29, 29, 29, 29, 29, 29, 29, 29, 29, 29, 29, 29, 29, 29, 29, 29, 29, 29, 29, 29, 29, 29, 29, 29, 29, 29, 29, 29, 29, 29, 29, 29, 29, 29, 29, 29, 29, 29, 29, 29, 29, 29, 29, 29, 29, 29, 29, 29, 29, 29, 29, 29, 29, 29, 29, 29, 29, 29, 29, 29, 29, 29, 29, 29, 29, 29, 29, 29, 29, 29, 29, 29, 29, 29, 29, 29, 29, 29, 29, 29, 29, 29, 29, 29, 29, 29, 29, 29, 29, 29, 29, 29, 29, 29, 29, 29, 29, 29, 29, 29, 29, 29, 29, 29, 29, 29, 29, 29, 29, 29, 29, 29, 29, 29, 29, 29, 29, 29, 29, 29, 29, 29, 29, 29, 29, 29, 29, 29, 29, 29, 29, 29, 27, 13, 18, 9, 9, 12, 12, 7, 1, 16, 7, 1, 7, 11, 7, 20, 17, 1, 17, 6, 9, 13, 5, 11, 25, 7, 9, 16, 17, 9, 19, 20, 7, 4, 13, 12, 18, 1, 1, 22, 11, 19, 7, 19, 5, 12, 7, 11, 17, 1, 11, 4, 9, 13, 4, 1, 7, 11, 12, 22, 20, 4, 5, 12, 22, 9, 1, 12, 22, 11, 5, 18, 9, 1, 17, 5, 4, 3, 18, 14, 7, 6, 12, 12, 4, 7, 6, 16, 18, 20, 9, 16, 17, 1, 4, 1, 13, 11, 5, 1, 7, 9, 14, 22, 4, 25, 22, 12, 5, 6, 4, 22, 16, 4, 5, 12, 9, 22, 4, 18, 9, 22, 7, 18, 18, 22, 8, 1, 16, 19, 7, 18, 22, 25, 8, 22, 11, 6, 14, 16, 16, 11, 22, 5, 7, 11, 4, 4, 22, 20, 7, 5, 5, 12, 20, 20, 18, 11, 4, 4, 17, 5, 5, 20, 22, 18, 11, 18, 12, 22, 5, 25, 8, 17, 13, 20, 1, 16, 12, 9, 7, 25, 25, 19, 11, 5, 1, 5, 1, 7, 14, 20, 11, 25, 1, 11, 22, 4, 7, 20, 11, 16, 22, 1, 5, 22, 18, 1, 4, 12, 5, 11, 9, 12, 7, 28], [29, 29, 29, 29, 29, 29, 29, 29, 29, 29, 29, 29, 29, 29, 29, 29, 29, 29, 29, 29, 29, 29, 29, 29, 29, 29, 29, 29, 29, 29, 29, 29, 29, 29, 29, 29, 29, 29, 29, 29, 29, 29, 29, 29, 29, 29, 29, 29, 29, 29, 29, 29, 29, 29, 29, 29, 29, 29, 29, 29, 29, 29, 29, 29, 29, 29, 29, 29, 29, 29, 29, 29, 29, 29, 29, 29, 29, 29, 29, 29, 29, 29, 29, 29, 29, 29, 29, 29, 29, 29, 29, 29, 29, 29, 29, 29, 29, 29, 29, 29, 29, 29, 29, 29, 29, 29, 29, 29, 29, 29, 29, 29, 29, 29, 29, 29, 29, 29, 29, 29, 29, 29, 29, 29, 29, 29, 29, 29, 29, 29, 29, 29, 29, 29, 29, 29, 29, 29, 29, 29, 29, 29, 29, 29, 29, 29, 29, 29, 29, 29, 29, 29, 29, 29, 29, 29, 29, 29, 29, 29, 29, 29, 29, 29, 29, 29, 29, 29, 29, 29, 29, 29, 29, 29, 29, 29, 29, 29, 29, 29, 29, 29, 29, 29, 29, 29, 29, 29, 29, 29, 29, 29, 29, 29, 29, 29, 29, 29, 29, 29, 29, 29, 29, 29, 29, 29, 29, 29, 29, 29, 29, 29, 29, 29, 29, 29, 29, 29, 29, 29, 29, 29, 29, 29, 29, 29, 29, 29, 29, 29, 29, 29, 29, 29, 29, 29, 29, 29, 29, 29, 29, 29, 29, 29, 29, 29, 29, 29, 29, 29, 29, 29, 29, 29, 29, 29, 29, 29, 29, 29, 29, 29, 29, 29, 29, 29, 29, 29, 29, 29, 29, 29, 29, 29, 29, 29, 29, 29, 29, 29, 29, 29, 29, 29, 29, 29, 29, 29, 29, 29, 29, 29, 29, 29, 29, 29, 29, 29, 29, 29, 29, 29, 29, 29, 29, 29, 29, 29, 29, 29, 29, 29, 29, 29, 29, 29, 29, 29, 29, 29, 27, 9, 22, 7, 7, 25, 20, 3, 1, 1, 14, 19, 9, 16, 25, 17, 22, 19, 12, 14, 19, 7, 19, 8, 6, 3, 7, 7, 19, 12, 9, 14, 19, 17, 23, 22, 22, 19, 1, 1, 8, 3, 25, 11, 19, 18, 9, 17, 22, 18, 12, 7, 5, 8, 14, 9, 4, 22, 12, 5, 7, 14, 5, 17, 6, 9, 14, 1, 1, 11, 9, 9, 20, 8, 16, 14, 6, 14, 7, 14, 20, 12, 4, 14, 4, 9, 13, 12, 9, 11, 12, 19, 19, 16, 1, 20, 12, 19, 18, 22, 1, 20, 22, 19, 12, 16, 18, 19, 3, 1, 1, 1, 7, 20, 5, 3, 12, 9, 19, 7, 23, 7, 14, 20, 11, 19, 19, 7, 19, 19, 25, 16, 19, 12, 12, 17, 3, 12, 11, 1, 16, 22, 12, 19, 4, 19, 19, 3, 11, 19, 19, 25, 16, 7, 17, 9, 20, 7, 14, 13, 9, 3, 22, 7, 6, 12, 5, 7, 7, 11, 4, 19, 3, 17, 7, 4, 19, 7, 7, 16, 22, 22, 3, 14, 7, 17, 12, 17, 7, 9, 22, 19, 23, 7, 25, 7, 3, 1, 17, 11, 14, 11, 16, 7, 22, 25, 20, 11, 22, 3, 14, 25, 22, 14, 23, 9, 17, 17, 20, 9, 1, 1, 14, 28], [29, 29, 29, 29, 29, 29, 29, 29, 29, 29, 29, 29, 29, 29, 29, 29, 29, 29, 29, 29, 29, 29, 29, 29, 29, 29, 29, 29, 29, 29, 29, 29, 29, 29, 29, 29, 29, 29, 29, 29, 29, 29, 29, 29, 29, 29, 29, 29, 29, 29, 29, 29, 29, 29, 29, 29, 29, 29, 29, 29, 29, 29, 29, 29, 29, 29, 29, 29, 29, 29, 29, 29, 29, 29, 29, 29, 29, 29, 29, 29, 29, 29, 29, 29, 29, 29, 29, 29, 29, 29, 29, 29, 29, 29, 29, 29, 29, 29, 29, 29, 29, 29, 29, 29, 29, 29, 29, 29, 29, 29, 29, 29, 29, 29, 29, 29, 29, 29, 29, 29, 29, 29, 29, 29, 29, 29, 29, 29, 29, 29, 29, 27, 1, 16, 16, 19, 22, 6, 1, 5, 22, 16, 17, 1, 17, 16, 22, 12, 22, 6, 11, 12, 9, 1, 4, 6, 18, 5, 4, 16, 4, 16, 18, 11, 22, 14, 12, 7, 22, 7, 1, 25, 18, 20, 4, 4, 3, 17, 16, 23, 22, 12, 16, 22, 22, 18, 11, 22, 5, 17, 18, 9, 1, 14, 14, 19, 19, 12, 14, 8, 5, 25, 12, 16, 9, 12, 7, 12, 1, 5, 6, 18, 20, 3, 1, 19, 18, 12, 1, 12, 7, 4, 4, 19, 16, 1, 12, 17, 5, 11, 18, 22, 7, 7, 22, 17, 19, 12, 7, 7, 20, 7, 1, 12, 18, 9, 7, 1, 5, 6, 12, 1, 18, 23, 25, 14, 7, 20, 14, 14, 11, 4, 20, 16, 22, 25, 22, 19, 19, 16, 20, 23, 5, 14, 8, 14, 7, 22, 6, 20, 20, 1, 7, 6, 11, 4, 9, 18, 19, 25, 18, 25, 23, 4, 20, 5, 11, 18, 7, 12, 4, 12, 17, 7, 6, 12, 19, 4, 12, 5, 14, 1, 16, 5, 6, 19, 9, 6, 22, 12, 8, 1, 3, 1, 8, 14, 16, 20, 7, 20, 4, 16, 20, 16, 5, 17, 23, 11, 17, 9, 1, 19, 22, 13, 11, 18, 18, 6, 12, 6, 16, 6, 6, 4, 19, 1, 25, 17, 7, 6, 1, 19, 7, 14, 12, 5, 11, 4, 1, 23, 1, 9, 18, 25, 6, 22, 19, 5, 7, 6, 5, 12, 6, 3, 1, 17, 19, 6, 19, 14, 6, 7, 12, 25, 14, 5, 18, 22, 7, 14, 12, 20, 22, 22, 1, 11, 5, 16, 4, 19, 9, 12, 18, 22, 12, 19, 17, 13, 17, 11, 9, 22, 18, 22, 20, 23, 19, 14, 16, 16, 1, 17, 7, 1, 18, 9, 22, 1, 18, 20, 12, 19, 4, 16, 5, 12, 6, 8, 5, 23, 20, 7, 14, 22, 11, 20, 13, 1, 4, 18, 9, 12, 19, 13, 18, 19, 5, 12, 18, 1, 18, 12, 5, 1, 12, 11, 20, 16, 7, 20, 23, 14, 8, 9, 20, 4, 17, 9, 7, 13, 6, 19, 6, 20, 7, 12, 14, 16, 11, 17, 22, 5, 25, 12, 9, 14, 17, 11, 8, 9, 25, 12, 12, 16, 19, 7, 18, 9, 14, 13, 3, 7, 12, 20, 20, 11, 14, 12, 4, 25, 22, 1, 20, 19, 9, 8, 5, 1, 22, 20, 11, 9, 17, 28], [29, 29, 29, 29, 29, 29, 29, 29, 29, 29, 29, 29, 29, 29, 29, 29, 29, 29, 29, 29, 29, 29, 29, 29, 29, 29, 29, 29, 29, 29, 29, 29, 29, 29, 29, 29, 29, 29, 29, 29, 29, 29, 29, 29, 29, 29, 29, 29, 29, 29, 29, 29, 29, 29, 29, 29, 29, 29, 29, 29, 29, 29, 29, 29, 29, 29, 29, 29, 29, 29, 29, 29, 29, 29, 29, 29, 29, 29, 29, 29, 29, 29, 29, 29, 29, 29, 29, 29, 29, 29, 29, 29, 29, 29, 29, 29, 29, 29, 29, 29, 29, 29, 29, 29, 29, 29, 29, 29, 29, 29, 29, 29, 29, 29, 29, 29, 29, 29, 29, 29, 29, 29, 29, 29, 29, 29, 29, 29, 29, 29, 27, 1, 16, 16, 19, 22, 6, 1, 5, 22, 16, 17, 1, 17, 16, 22, 12, 22, 6, 11, 12, 9, 1, 4, 6, 18, 5, 4, 16, 4, 16, 18, 11, 22, 14, 12, 7, 22, 7, 1, 25, 18, 20, 4, 4, 3, 17, 16, 23, 22, 12, 16, 22, 22, 18, 11, 22, 5, 17, 18, 9, 1, 14, 14, 19, 19, 12, 14, 8, 5, 25, 12, 16, 9, 12, 7, 12, 1, 5, 6, 18, 20, 3, 1, 19, 18, 12, 1, 12, 7, 4, 4, 19, 16, 1, 12, 17, 5, 11, 18, 22, 7, 7, 22, 17, 19, 12, 7, 7, 20, 7, 1, 12, 18, 9, 7, 1, 5, 6, 12, 1, 18, 23, 25, 14, 7, 20, 14, 14, 11, 4, 20, 16, 22, 25, 22, 19, 19, 16, 20, 23, 5, 14, 8, 14, 7, 22, 6, 20, 20, 1, 7, 6, 11, 4, 9, 18, 19, 25, 18, 25, 23, 4, 20, 5, 11, 18, 7, 12, 4, 12, 17, 7, 6, 12, 19, 4, 12, 5, 14, 1, 16, 5, 6, 19, 9, 6, 22, 12, 8, 1, 3, 1, 8, 14, 16, 20, 7, 20, 4, 16, 20, 16, 5, 17, 23, 11, 17, 9, 1, 19, 22, 13, 11, 18, 18, 6, 12, 6, 16, 6, 6, 4, 19, 1, 25, 17, 7, 6, 1, 19, 7, 14, 12, 5, 11, 4, 1, 23, 1, 9, 18, 25, 6, 22, 19, 5, 7, 6, 5, 12, 6, 3, 1, 17, 19, 6, 19, 11, 14, 6, 7, 12, 25, 14, 5, 18, 22, 7, 14, 12, 20, 22, 22, 1, 11, 5, 16, 4, 19, 9, 12, 18, 22, 12, 19, 17, 13, 17, 11, 9, 22, 18, 22, 20, 23, 19, 14, 16, 16, 1, 17, 7, 1, 18, 9, 22, 1, 18, 20, 12, 19, 4, 16, 5, 12, 6, 8, 5, 23, 20, 7, 14, 22, 11, 20, 13, 1, 4, 18, 9, 12, 19, 13, 18, 19, 5, 12, 18, 1, 18, 12, 5, 1, 12, 11, 20, 16, 7, 20, 23, 14, 8, 9, 20, 4, 17, 9, 7, 13, 6, 19, 6, 20, 7, 12, 14, 16, 11, 17, 22, 5, 25, 12, 9, 14, 17, 11, 8, 9, 25, 12, 12, 16, 19, 7, 18, 9, 14, 13, 3, 7, 12, 20, 20, 11, 14, 12, 4, 25, 22, 1, 20, 19, 9, 8, 5, 1, 22, 20, 11, 9, 17, 28], [29, 29, 29, 29, 29, 29, 29, 29, 29, 29, 29, 29, 29, 29, 29, 29, 29, 29, 29, 29, 29, 29, 29, 29, 29, 29, 29, 29, 29, 29, 29, 29, 29, 29, 29, 29, 29, 29, 29, 29, 29, 29, 29, 29, 29, 29, 29, 29, 29, 29, 29, 29, 29, 29, 29, 29, 29, 29, 29, 29, 29, 29, 29, 29, 29, 29, 29, 29, 29, 29, 29, 29, 29, 29, 29, 29, 29, 29, 29, 29, 29, 29, 29, 29, 29, 29, 29, 29, 29, 29, 29, 29, 29, 27, 20, 16, 5, 13, 16, 22, 12, 5, 14, 18, 1, 1, 17, 7, 14, 9, 20, 1, 16, 7, 7, 1, 18, 18, 12, 20, 7, 4, 17, 20, 1, 1, 12, 18, 14, 19, 12, 19, 4, 11, 16, 1, 11, 14, 9, 9, 12, 12, 9, 7, 4, 7, 13, 7, 4, 19, 5, 9, 20, 1, 1, 18, 14, 25, 1, 5, 7, 1, 7, 7, 6, 6, 11, 7, 9, 4, 1, 12, 16, 12, 20, 7, 17, 25, 20, 8, 25, 1, 12, 14, 11, 11, 20, 7, 11, 16, 4, 25, 22, 20, 4, 19, 1, 1, 19, 1, 20, 1, 23, 19, 20, 7, 22, 11, 20, 25, 14, 7, 1, 12, 7, 22, 4, 9, 8, 5, 11, 4, 8, 16, 20, 9, 12, 5, 13, 1, 11, 1, 1, 7, 12, 1, 20, 7, 14, 22, 19, 20, 1, 5, 12, 17, 4, 1, 20, 16, 1, 1, 12, 22, 1, 8, 22, 20, 19, 18, 11, 3, 25, 7, 16, 19, 1, 20, 19, 17, 11, 3, 16, 7, 14, 1, 12, 5, 11, 7, 7, 11, 7, 19, 9, 20, 5, 17, 12, 12, 14, 1, 18, 1, 4, 22, 20, 12, 7, 7, 7, 1, 11, 20, 6, 1, 5, 20, 1, 20, 1, 7, 5, 23, 17, 7, 11, 20, 12, 18, 5, 5, 1, 5, 1, 18, 7, 25, 17, 12, 22, 19, 4, 1, 1, 19, 12, 14, 19, 22, 20, 5, 1, 14, 17, 17, 11, 16, 12, 12, 7, 12, 6, 1, 4, 7, 14, 13, 16, 22, 18, 23, 12, 7, 16, 11, 1, 20, 25, 8, 7, 14, 9, 4, 11, 16, 1, 22, 20, 3, 20, 16, 14, 16, 17, 18, 14, 4, 19, 22, 16, 20, 12, 1, 17, 13, 20, 4, 11, 1, 9, 5, 12, 12, 19, 11, 14, 5, 11, 7, 6, 6, 12, 17, 22, 5, 7, 1, 19, 9, 4, 11, 17, 4, 8, 1, 1, 14, 16, 3, 7, 17, 9, 7, 5, 20, 22, 4, 12, 4, 5, 1, 22, 17, 18, 1, 12, 5, 6, 1, 11, 11, 5, 7, 14, 20, 12, 22, 9, 22, 20, 1, 4, 8, 1, 8, 1, 19, 17, 9, 22, 1, 16, 4, 20, 11, 1, 16, 7, 12, 20, 17, 1, 12, 14, 20, 11, 4, 7, 1, 22, 13, 22, 13, 19, 25, 7, 14, 19, 5, 5, 4, 19, 17, 5, 8, 20, 7, 19, 17, 12, 18, 9, 1, 1, 25, 7, 16, 8, 1, 1, 14, 22, 22, 7, 12, 20, 4, 17, 20, 4, 12, 6, 25, 20, 13, 11, 1, 1, 12, 7, 12, 11, 28], [29, 29, 29, 29, 29, 29, 29, 29, 29, 29, 29, 29, 29, 29, 29, 29, 29, 29, 29, 29, 29, 29, 29, 29, 29, 29, 29, 29, 29, 29, 29, 29, 29, 27, 7, 20, 8, 5, 5, 5, 17, 25, 12, 6, 1, 22, 14, 14, 20, 11, 1, 5, 25, 16, 18, 4, 11, 20, 9, 8, 17, 12, 6, 5, 5, 17, 22, 19, 11, 18, 16, 14, 14, 22, 1, 9, 22, 3, 5, 14, 5, 17, 12, 20, 25, 8, 5, 12, 14, 22, 11, 1, 14, 17, 12, 1, 18, 9, 6, 9, 5, 11, 7, 9, 7, 11, 4, 20, 12, 22, 7, 9, 13, 13, 5, 11, 19, 9, 4, 12, 6, 9, 7, 9, 12, 1, 22, 12, 11, 1, 7, 7, 1, 25, 22, 16, 9, 4, 9, 5, 25, 16, 11, 5, 18, 9, 17, 25, 9, 12, 4, 4, 19, 17, 1, 18, 13, 12, 12, 20, 17, 11, 8, 12, 22, 8, 12, 9, 8, 14, 9, 17, 6, 14, 7, 17, 22, 5, 9, 6, 5, 5, 4, 20, 9, 11, 9, 18, 5, 7, 20, 14, 12, 8, 22, 16, 19, 11, 19, 20, 4, 12, 1, 25, 22, 9, 25, 20, 19, 16, 11, 7, 20, 13, 12, 5, 8, 11, 7, 9, 19, 14, 12, 11, 22, 6, 6, 5, 14, 19, 12, 14, 22, 20, 5, 11, 4, 18, 9, 7, 17, 6, 1, 19, 9, 19, 6, 4, 1, 19, 22, 23, 5, 13, 6, 13, 1, 12, 12, 20, 7, 1, 19, 12, 25, 9, 9, 12, 11, 4, 20, 9, 14, 4, 6, 22, 11, 6, 5, 17, 25, 9, 14, 17, 11, 5, 9, 20, 22, 9, 20, 12, 16, 16, 20, 25, 22, 22, 8, 12, 4, 16, 5, 18, 9, 12, 19, 9, 17, 20, 12, 9, 20, 1, 7, 19, 1, 20, 19, 16, 19, 12, 22, 14, 11, 23, 11, 5, 11, 22, 20, 25, 9, 14, 1, 25, 7, 16, 20, 5, 20, 20, 9, 3, 1, 20, 20, 23, 22, 1, 20, 11, 5, 20, 9, 7, 8, 19, 22, 16, 9, 7, 1, 16, 9, 17, 14, 20, 17, 9, 25, 9, 22, 4, 5, 14, 12, 17, 12, 11, 19, 22, 7, 5, 1, 7, 5, 12, 3, 9, 7, 7, 5, 7, 12, 1, 18, 7, 25, 23, 11, 18, 16, 5, 12, 20, 19, 17, 11, 6, 22, 4, 14, 16, 6, 22, 16, 7, 5, 11, 12, 25, 11, 20, 7, 4, 17, 1, 18, 23, 12, 19, 4, 7, 14, 9, 5, 25, 12, 7, 18, 9, 4, 14, 17, 22, 11, 9, 18, 7, 8, 18, 22, 5, 12, 5, 5, 22, 5, 19, 9, 12, 12, 11, 8, 13, 25, 9, 19, 5, 20, 1, 22, 19, 22, 8, 11, 4, 8, 17, 5, 17, 16, 25, 12, 3, 1, 25, 6, 22, 19, 5, 11, 8, 9, 16, 12, 5, 17, 12, 18, 17, 6, 19, 19, 5, 5, 12, 16, 20, 25, 13, 9, 16, 19, 25, 6, 9, 17, 12, 4, 11, 13, 16, 12, 20, 19, 14, 7, 11, 9, 4, 18, 11, 17, 12, 16, 5, 16, 4, 12, 20, 6, 28], [29, 29, 29, 29, 29, 29, 29, 29, 29, 29, 27, 4, 22, 1, 1, 16, 7, 1, 16, 5, 7, 22, 20, 1, 12, 19, 4, 1, 17, 25, 14, 5, 1, 14, 11, 9, 25, 6, 5, 18, 3, 1, 7, 3, 8, 7, 22, 12, 18, 11, 7, 1, 20, 7, 11, 1, 12, 20, 16, 4, 12, 20, 18, 4, 12, 7, 6, 4, 25, 12, 17, 19, 6, 9, 20, 25, 1, 19, 16, 1, 7, 13, 16, 14, 23, 7, 20, 19, 7, 5, 12, 19, 1, 5, 17, 22, 4, 12, 13, 1, 14, 25, 12, 12, 12, 4, 16, 1, 1, 16, 16, 5, 6, 7, 13, 11, 5, 13, 18, 5, 19, 23, 11, 22, 8, 22, 1, 16, 5, 4, 18, 16, 20, 17, 17, 13, 14, 4, 23, 4, 12, 5, 14, 12, 6, 19, 22, 20, 12, 18, 4, 1, 7, 17, 9, 1, 12, 9, 4, 7, 19, 20, 25, 5, 9, 11, 20, 22, 12, 4, 20, 7, 25, 1, 22, 8, 9, 19, 18, 12, 19, 1, 19, 7, 18, 25, 12, 6, 22, 9, 7, 18, 4, 7, 11, 22, 14, 13, 9, 4, 12, 23, 13, 11, 5, 16, 20, 20, 22, 1, 5, 9, 11, 9, 7, 19, 5, 1, 18, 19, 9, 5, 20, 19, 11, 13, 5, 7, 23, 5, 4, 11, 25, 1, 9, 1, 7, 1, 25, 23, 16, 16, 17, 25, 22, 9, 13, 4, 7, 5, 20, 12, 5, 16, 11, 11, 9, 17, 19, 20, 18, 7, 13, 20, 25, 4, 5, 17, 5, 25, 8, 16, 5, 16, 18, 22, 1, 1, 9, 12, 1, 19, 8, 25, 18, 16, 5, 6, 9, 22, 14, 22, 11, 5, 20, 7, 11, 9, 12, 12, 22, 4, 25, 20, 4, 12, 14, 14, 12, 11, 20, 20, 5, 9, 19, 1, 5, 18, 6, 12, 8, 4, 7, 7, 12, 4, 7, 19, 8, 18, 25, 6, 9, 20, 1, 1, 14, 1, 18, 14, 11, 12, 22, 22, 9, 4, 20, 11, 5, 7, 11, 12, 22, 1, 9, 5, 4, 20, 7, 7, 17, 20, 16, 8, 16, 7, 18, 7, 1, 14, 6, 22, 8, 16, 20, 6, 7, 16, 22, 23, 1, 20, 19, 8, 13, 7, 4, 4, 19, 22, 1, 12, 9, 7, 20, 4, 16, 5, 7, 8, 16, 4, 14, 1, 23, 11, 9, 12, 4, 19, 6, 16, 1, 12, 7, 7, 7, 19, 12, 6, 9, 11, 20, 8, 16, 14, 19, 17, 25, 12, 25, 22, 4, 1, 20, 12, 14, 16, 5, 1, 5, 9, 19, 7, 19, 22, 1, 22, 6, 4, 9, 11, 1, 13, 20, 7, 4, 7, 19, 4, 16, 5, 6, 11, 20, 12, 16, 9, 1, 5, 23, 1, 7, 9, 20, 5, 7, 17, 16, 18, 22, 22, 17, 7, 5, 6, 14, 11, 4, 7, 20, 5, 22, 23, 6, 19, 22, 23, 14, 7, 11, 4, 17, 5, 19, 1, 12, 22, 22, 22, 4, 4, 11, 20, 12, 5, 12, 11, 8, 22, 9, 11, 4, 5, 18, 12, 22, 20, 16, 20, 7, 11, 6, 14, 22, 25, 14, 20, 13, 20, 4, 20, 25, 28]]\n",
            "[[29, 29, 29, 29, 29, 29, 29, 29, 29, 29, 29, 29, 29, 29, 29, 29, 29, 29, 29, 29, 29, 29, 29, 29, 29, 29, 29, 29, 29, 29, 29, 29, 29, 29, 29, 29, 29, 29, 29, 29, 29, 29, 29, 29, 29, 29, 29, 29, 29, 29, 29, 29, 29, 29, 29, 29, 29, 29, 29, 29, 29, 29, 29, 29, 29, 29, 29, 29, 29, 29, 29, 29, 29, 29, 29, 29, 29, 29, 29, 29, 29, 29, 29, 29, 29, 29, 29, 29, 29, 29, 29, 29, 29, 29, 29, 29, 29, 29, 29, 29, 29, 29, 29, 29, 29, 29, 29, 29, 29, 29, 29, 29, 29, 29, 29, 29, 29, 29, 29, 29, 29, 29, 29, 29, 29, 29, 29, 29, 29, 29, 29, 29, 29, 29, 29, 29, 29, 29, 29, 29, 29, 29, 29, 29, 29, 29, 29, 29, 29, 29, 29, 29, 29, 29, 29, 29, 29, 29, 29, 29, 29, 29, 29, 29, 29, 29, 29, 29, 29, 29, 29, 29, 29, 29, 29, 29, 29, 29, 29, 29, 29, 29, 29, 29, 29, 29, 29, 29, 29, 29, 29, 29, 29, 29, 29, 29, 29, 29, 29, 29, 29, 29, 29, 29, 29, 29, 29, 29, 29, 29, 29, 29, 29, 29, 29, 29, 29, 29, 29, 29, 29, 29, 29, 29, 29, 29, 29, 29, 29, 29, 29, 29, 29, 29, 29, 29, 29, 29, 29, 29, 29, 29, 29, 29, 29, 29, 29, 29, 29, 29, 29, 29, 29, 29, 29, 29, 29, 29, 29, 29, 29, 29, 29, 29, 29, 29, 29, 29, 29, 29, 29, 29, 29, 29, 29, 29, 29, 29, 29, 29, 29, 29, 29, 29, 29, 29, 29, 29, 29, 29, 29, 29, 29, 29, 29, 29, 29, 29, 29, 29, 29, 29, 29, 29, 29, 29, 29, 29, 29, 29, 29, 29, 29, 29, 29, 29, 29, 29, 29, 29, 29, 29, 29, 29, 29, 29, 29, 29, 29, 29, 29, 29, 29, 29, 29, 29, 29, 29, 29, 29, 29, 29, 29, 29, 29, 29, 29, 29, 29, 29, 29, 29, 29, 29, 29, 29, 29, 29, 29, 29, 29, 29, 29, 29, 29, 29, 29, 29, 29, 29, 29, 29, 29, 29, 29, 29, 29, 29, 29, 29, 29, 29, 29, 29, 29, 29, 29, 29, 29, 29, 29, 29, 29, 29, 29, 29, 29, 29, 29, 29, 29, 29, 29, 29, 29, 29, 29, 29, 29, 29, 29, 29, 29, 29, 29, 29, 29, 29, 29, 29, 29, 29, 29, 29, 29, 29, 29, 29, 29, 29, 29, 29, 29, 29, 29, 29, 29, 29, 29, 29, 29, 29, 29, 29, 29, 29, 29, 29, 29, 29, 29, 29, 29, 29, 29, 29, 29, 29, 29, 29, 29, 29, 29, 29, 29, 29, 29, 29, 29, 29, 29, 29, 29, 29, 29, 29, 29, 29, 29, 29, 29, 29, 29, 29, 29, 29, 29, 29, 29, 29, 29, 29, 29, 29, 29, 29, 29, 29, 29, 29, 29, 29, 29, 29, 29, 29, 29, 29, 29, 29, 29, 29, 29, 29, 29, 29, 29, 29, 29, 29, 29, 29, 29, 29, 29, 29, 29, 29, 29, 29, 29, 29, 29, 29, 29, 29, 29, 29, 29, 27, 24, 24, 24, 28], [29, 29, 29, 29, 29, 29, 29, 29, 29, 29, 29, 29, 29, 29, 29, 29, 29, 29, 29, 29, 29, 29, 29, 29, 29, 29, 29, 29, 29, 29, 29, 29, 29, 29, 29, 29, 29, 29, 29, 29, 29, 29, 29, 29, 29, 29, 29, 29, 29, 29, 29, 29, 29, 29, 29, 29, 29, 29, 29, 29, 29, 29, 29, 29, 29, 29, 29, 29, 29, 29, 29, 29, 29, 29, 29, 29, 29, 29, 29, 29, 29, 29, 29, 29, 29, 29, 29, 29, 29, 29, 29, 29, 29, 29, 29, 29, 29, 29, 29, 29, 29, 29, 29, 29, 29, 29, 29, 29, 29, 29, 29, 29, 29, 29, 29, 29, 29, 29, 29, 29, 29, 29, 29, 29, 29, 29, 29, 29, 29, 29, 29, 29, 29, 29, 29, 29, 29, 29, 29, 29, 29, 29, 29, 29, 29, 29, 29, 29, 29, 29, 29, 29, 29, 29, 29, 29, 29, 29, 29, 29, 29, 29, 29, 29, 29, 29, 29, 29, 29, 29, 29, 29, 29, 29, 29, 29, 29, 29, 29, 29, 29, 29, 29, 29, 29, 29, 29, 29, 29, 29, 29, 29, 29, 29, 29, 29, 29, 29, 29, 29, 29, 29, 29, 29, 29, 29, 29, 29, 29, 29, 29, 29, 29, 29, 29, 29, 29, 29, 29, 29, 29, 29, 29, 29, 29, 29, 29, 29, 29, 29, 29, 29, 29, 29, 29, 29, 29, 29, 29, 29, 29, 29, 29, 29, 29, 29, 29, 29, 29, 29, 29, 29, 29, 29, 29, 29, 29, 29, 29, 29, 29, 29, 29, 29, 29, 29, 29, 29, 29, 29, 29, 29, 29, 29, 29, 29, 29, 29, 29, 29, 29, 29, 29, 29, 29, 29, 29, 29, 29, 29, 29, 29, 29, 29, 29, 29, 29, 29, 29, 29, 29, 29, 29, 29, 29, 29, 29, 29, 29, 29, 29, 29, 29, 29, 29, 29, 29, 29, 29, 29, 29, 29, 29, 29, 29, 29, 29, 29, 29, 29, 29, 29, 29, 29, 29, 29, 29, 29, 29, 29, 29, 29, 29, 29, 29, 29, 29, 29, 29, 29, 29, 29, 29, 29, 29, 29, 29, 29, 29, 29, 29, 29, 29, 29, 29, 29, 29, 29, 29, 29, 29, 29, 29, 29, 29, 29, 29, 29, 29, 29, 29, 29, 29, 29, 29, 29, 29, 29, 29, 29, 29, 29, 29, 29, 29, 29, 29, 29, 29, 29, 29, 29, 29, 29, 29, 29, 29, 29, 29, 29, 29, 29, 29, 29, 29, 29, 29, 29, 29, 29, 29, 29, 29, 29, 29, 29, 29, 29, 29, 29, 29, 29, 29, 29, 29, 29, 29, 29, 29, 29, 29, 29, 29, 29, 29, 29, 29, 29, 29, 29, 29, 29, 29, 29, 29, 29, 29, 29, 29, 29, 29, 29, 29, 29, 29, 29, 29, 29, 29, 29, 29, 29, 29, 29, 29, 29, 29, 29, 29, 29, 29, 29, 29, 29, 29, 29, 29, 29, 29, 29, 29, 29, 29, 29, 29, 29, 29, 29, 29, 29, 29, 29, 29, 29, 29, 29, 29, 29, 29, 29, 29, 29, 29, 29, 29, 29, 29, 29, 29, 29, 29, 29, 29, 29, 29, 29, 29, 29, 29, 29, 29, 29, 29, 29, 27, 7, 1, 1, 22, 23, 23, 23, 23, 28], [29, 29, 29, 29, 29, 29, 29, 29, 29, 29, 29, 29, 29, 29, 29, 29, 29, 29, 29, 29, 29, 29, 29, 29, 29, 29, 29, 29, 29, 29, 29, 29, 29, 29, 29, 29, 29, 29, 29, 29, 29, 29, 29, 29, 29, 29, 29, 29, 29, 29, 29, 29, 29, 29, 29, 29, 29, 29, 29, 29, 29, 29, 29, 29, 29, 29, 29, 29, 29, 29, 29, 29, 29, 29, 29, 29, 29, 29, 29, 29, 29, 29, 29, 29, 29, 29, 29, 29, 29, 29, 29, 29, 29, 29, 29, 29, 29, 29, 29, 29, 29, 29, 29, 29, 29, 29, 29, 29, 29, 29, 29, 29, 29, 29, 29, 29, 29, 29, 29, 29, 29, 29, 29, 29, 29, 29, 29, 29, 29, 29, 29, 29, 29, 29, 29, 29, 29, 29, 29, 29, 29, 29, 29, 29, 29, 29, 29, 29, 29, 29, 29, 29, 29, 29, 29, 29, 29, 29, 29, 29, 29, 29, 29, 29, 29, 29, 29, 29, 29, 29, 29, 29, 29, 29, 29, 29, 29, 29, 29, 29, 29, 29, 29, 29, 29, 29, 29, 29, 29, 29, 29, 29, 29, 29, 29, 29, 29, 29, 29, 29, 29, 29, 29, 29, 29, 29, 29, 29, 29, 29, 29, 29, 29, 29, 29, 29, 29, 29, 29, 29, 29, 29, 29, 29, 29, 29, 29, 29, 29, 29, 29, 29, 29, 29, 29, 29, 29, 29, 29, 29, 29, 29, 29, 29, 29, 29, 29, 29, 29, 29, 29, 29, 29, 29, 29, 29, 29, 29, 29, 29, 29, 29, 29, 29, 29, 29, 29, 29, 29, 29, 29, 29, 29, 29, 29, 29, 29, 29, 29, 29, 29, 29, 29, 29, 29, 29, 29, 29, 29, 29, 29, 29, 29, 29, 29, 29, 29, 29, 29, 29, 29, 29, 29, 29, 29, 29, 29, 29, 29, 29, 29, 29, 29, 29, 29, 29, 29, 29, 29, 29, 29, 29, 29, 29, 29, 29, 29, 29, 29, 29, 29, 29, 29, 29, 29, 29, 29, 29, 29, 29, 29, 29, 29, 29, 29, 29, 29, 29, 29, 29, 29, 29, 29, 29, 29, 29, 29, 29, 29, 29, 29, 29, 29, 29, 29, 29, 29, 29, 29, 29, 29, 29, 29, 29, 29, 29, 29, 29, 29, 29, 29, 29, 29, 29, 29, 29, 29, 29, 29, 29, 29, 29, 29, 29, 29, 29, 29, 29, 29, 29, 29, 29, 29, 29, 29, 29, 29, 29, 29, 29, 29, 29, 29, 29, 29, 29, 29, 29, 29, 29, 29, 29, 29, 29, 29, 29, 29, 29, 29, 29, 29, 29, 29, 29, 29, 29, 29, 29, 29, 29, 29, 29, 29, 29, 29, 29, 29, 29, 29, 29, 29, 29, 29, 29, 29, 29, 29, 29, 29, 29, 29, 29, 29, 29, 29, 29, 29, 29, 29, 29, 29, 29, 29, 29, 29, 29, 29, 29, 29, 29, 29, 29, 29, 29, 29, 29, 29, 29, 29, 29, 29, 29, 29, 29, 29, 29, 29, 29, 29, 29, 29, 29, 29, 29, 29, 29, 29, 29, 29, 29, 29, 29, 29, 29, 29, 29, 29, 29, 29, 29, 29, 29, 29, 29, 29, 29, 29, 29, 29, 29, 29, 29, 29, 29, 27, 7, 1, 1, 22, 23, 23, 23, 23, 28], [29, 29, 29, 29, 29, 29, 29, 29, 29, 29, 29, 29, 29, 29, 29, 29, 29, 29, 29, 29, 29, 29, 29, 29, 29, 29, 29, 29, 29, 29, 29, 29, 29, 29, 29, 29, 29, 29, 29, 29, 29, 29, 29, 29, 29, 29, 29, 29, 29, 29, 29, 29, 29, 29, 29, 29, 29, 29, 29, 29, 29, 29, 29, 29, 29, 29, 29, 29, 29, 29, 29, 29, 29, 29, 29, 29, 29, 29, 29, 29, 29, 29, 29, 29, 29, 29, 29, 29, 29, 29, 29, 29, 29, 29, 29, 29, 29, 29, 29, 29, 29, 29, 29, 29, 29, 29, 29, 29, 29, 29, 29, 29, 29, 29, 29, 29, 29, 29, 29, 29, 29, 29, 29, 29, 29, 29, 29, 29, 29, 29, 29, 29, 29, 29, 29, 29, 29, 29, 29, 29, 29, 29, 29, 29, 29, 29, 29, 29, 29, 29, 29, 29, 29, 29, 29, 29, 29, 29, 29, 29, 29, 29, 29, 29, 29, 29, 29, 29, 29, 29, 29, 29, 29, 29, 29, 29, 29, 29, 29, 29, 29, 29, 29, 29, 29, 29, 29, 29, 29, 29, 29, 29, 29, 29, 29, 29, 29, 29, 29, 29, 29, 29, 29, 29, 29, 29, 29, 29, 29, 29, 29, 29, 29, 29, 29, 29, 29, 29, 29, 29, 29, 29, 29, 29, 29, 29, 29, 29, 29, 29, 29, 29, 29, 29, 29, 29, 29, 29, 29, 29, 29, 29, 29, 29, 29, 29, 29, 29, 29, 29, 29, 29, 29, 29, 29, 29, 29, 29, 29, 29, 29, 29, 29, 29, 29, 29, 29, 29, 29, 29, 29, 29, 29, 29, 29, 29, 29, 29, 29, 29, 29, 29, 29, 29, 29, 29, 29, 29, 29, 29, 29, 29, 29, 29, 29, 29, 29, 29, 29, 29, 29, 29, 29, 29, 29, 29, 29, 29, 29, 29, 29, 29, 29, 29, 29, 29, 29, 29, 29, 29, 29, 29, 29, 29, 29, 29, 29, 29, 29, 29, 29, 29, 29, 29, 29, 29, 29, 29, 29, 29, 29, 29, 29, 29, 29, 29, 29, 29, 29, 29, 29, 29, 29, 29, 29, 29, 29, 29, 29, 29, 29, 29, 29, 29, 29, 29, 29, 29, 29, 29, 29, 29, 29, 29, 29, 29, 29, 29, 29, 29, 29, 29, 29, 29, 29, 29, 29, 29, 29, 29, 29, 29, 29, 29, 29, 29, 29, 29, 29, 29, 29, 29, 29, 29, 29, 29, 29, 29, 29, 29, 29, 29, 29, 29, 29, 29, 29, 29, 29, 29, 29, 29, 29, 29, 29, 29, 29, 29, 29, 29, 29, 29, 29, 29, 29, 29, 29, 29, 29, 29, 29, 29, 29, 29, 29, 29, 29, 29, 29, 29, 29, 29, 29, 29, 29, 29, 29, 29, 29, 29, 29, 29, 29, 29, 29, 29, 29, 29, 29, 29, 29, 29, 29, 29, 29, 29, 29, 29, 29, 29, 29, 29, 29, 29, 29, 29, 29, 29, 29, 29, 29, 29, 29, 29, 29, 29, 29, 29, 29, 29, 29, 29, 29, 29, 29, 29, 29, 29, 29, 29, 29, 29, 29, 29, 29, 29, 29, 29, 29, 29, 29, 29, 29, 29, 29, 29, 29, 29, 29, 29, 29, 29, 29, 29, 27, 7, 1, 1, 22, 23, 23, 23, 23, 28], [29, 29, 29, 29, 29, 29, 29, 29, 29, 29, 29, 29, 29, 29, 29, 29, 29, 29, 29, 29, 29, 29, 29, 29, 29, 29, 29, 29, 29, 29, 29, 29, 29, 29, 29, 29, 29, 29, 29, 29, 29, 29, 29, 29, 29, 29, 29, 29, 29, 29, 29, 29, 29, 29, 29, 29, 29, 29, 29, 29, 29, 29, 29, 29, 29, 29, 29, 29, 29, 29, 29, 29, 29, 29, 29, 29, 29, 29, 29, 29, 29, 29, 29, 29, 29, 29, 29, 29, 29, 29, 29, 29, 29, 29, 29, 29, 29, 29, 29, 29, 29, 29, 29, 29, 29, 29, 29, 29, 29, 29, 29, 29, 29, 29, 29, 29, 29, 29, 29, 29, 29, 29, 29, 29, 29, 29, 29, 29, 29, 29, 29, 29, 29, 29, 29, 29, 29, 29, 29, 29, 29, 29, 29, 29, 29, 29, 29, 29, 29, 29, 29, 29, 29, 29, 29, 29, 29, 29, 29, 29, 29, 29, 29, 29, 29, 29, 29, 29, 29, 29, 29, 29, 29, 29, 29, 29, 29, 29, 29, 29, 29, 29, 29, 29, 29, 29, 29, 29, 29, 29, 29, 29, 29, 29, 29, 29, 29, 29, 29, 29, 29, 29, 29, 29, 29, 29, 29, 29, 29, 29, 29, 29, 29, 29, 29, 29, 29, 29, 29, 29, 29, 29, 29, 29, 29, 29, 29, 29, 29, 29, 29, 29, 29, 29, 29, 29, 29, 29, 29, 29, 29, 29, 29, 29, 29, 29, 29, 29, 29, 29, 29, 29, 29, 29, 29, 29, 29, 29, 29, 29, 29, 29, 29, 29, 29, 29, 29, 29, 29, 29, 29, 29, 29, 29, 29, 29, 29, 29, 29, 29, 29, 29, 29, 29, 29, 29, 29, 29, 29, 29, 29, 29, 29, 29, 29, 29, 29, 29, 29, 29, 29, 29, 29, 29, 29, 29, 29, 29, 29, 29, 29, 29, 29, 29, 29, 29, 29, 29, 29, 29, 29, 29, 29, 29, 29, 29, 29, 29, 29, 29, 29, 29, 29, 29, 29, 29, 29, 29, 29, 29, 29, 29, 29, 29, 29, 29, 29, 29, 29, 29, 29, 29, 29, 29, 29, 29, 29, 29, 29, 29, 29, 29, 29, 29, 29, 29, 29, 29, 29, 29, 29, 29, 29, 29, 29, 29, 29, 29, 29, 29, 29, 29, 29, 29, 29, 29, 29, 29, 29, 29, 29, 29, 29, 29, 29, 29, 29, 29, 29, 29, 29, 29, 29, 29, 29, 29, 29, 29, 29, 29, 29, 29, 29, 29, 29, 29, 29, 29, 29, 29, 29, 29, 29, 29, 29, 29, 29, 29, 29, 29, 29, 29, 29, 29, 29, 29, 29, 29, 29, 29, 29, 29, 29, 29, 29, 29, 29, 29, 29, 29, 29, 29, 29, 29, 29, 29, 29, 29, 29, 29, 29, 29, 29, 29, 29, 29, 29, 29, 29, 29, 29, 29, 29, 29, 29, 29, 29, 29, 29, 29, 29, 29, 29, 29, 29, 29, 29, 29, 29, 29, 29, 29, 29, 29, 29, 29, 29, 29, 29, 29, 29, 29, 27, 11, 22, 3, 1, 3, 16, 11, 9, 12, 11, 16, 22, 3, 7, 19, 4, 7, 18, 20, 25, 1, 14, 19, 3, 9, 1, 18, 3, 14, 7, 22, 19, 9, 11, 19, 5, 7, 19, 3, 16, 28], [29, 29, 29, 29, 29, 29, 29, 29, 29, 29, 29, 29, 29, 29, 29, 29, 29, 29, 29, 29, 29, 29, 29, 29, 29, 29, 29, 29, 29, 29, 29, 29, 29, 29, 29, 29, 29, 29, 29, 29, 29, 29, 29, 29, 29, 29, 29, 29, 29, 29, 29, 29, 29, 29, 29, 29, 29, 29, 29, 29, 29, 29, 29, 29, 29, 29, 29, 29, 29, 29, 29, 29, 29, 29, 29, 29, 29, 29, 29, 29, 29, 29, 29, 29, 29, 29, 29, 29, 29, 29, 29, 29, 29, 29, 29, 29, 29, 29, 29, 29, 29, 29, 29, 29, 29, 29, 29, 29, 29, 29, 29, 29, 29, 29, 29, 29, 29, 29, 29, 29, 29, 29, 29, 29, 29, 29, 29, 29, 29, 29, 29, 29, 29, 29, 29, 29, 29, 29, 29, 29, 29, 29, 29, 29, 29, 29, 29, 29, 29, 29, 29, 29, 29, 29, 29, 29, 29, 29, 29, 29, 29, 29, 29, 29, 29, 29, 29, 29, 29, 29, 29, 29, 29, 29, 29, 29, 29, 29, 29, 29, 29, 29, 29, 29, 29, 29, 29, 29, 29, 29, 29, 29, 29, 29, 29, 29, 29, 29, 29, 29, 29, 29, 29, 29, 29, 29, 29, 29, 29, 29, 29, 29, 29, 29, 29, 29, 29, 29, 29, 29, 29, 29, 29, 29, 29, 29, 29, 29, 29, 29, 29, 29, 29, 29, 29, 29, 29, 29, 29, 29, 29, 29, 29, 29, 29, 29, 29, 29, 29, 29, 29, 29, 29, 29, 29, 29, 29, 29, 29, 29, 29, 29, 29, 29, 29, 29, 29, 29, 29, 29, 29, 29, 29, 29, 29, 29, 29, 29, 29, 29, 29, 29, 29, 29, 29, 29, 29, 29, 29, 29, 29, 29, 29, 29, 29, 29, 29, 29, 29, 29, 29, 29, 29, 29, 29, 29, 29, 29, 29, 29, 29, 29, 29, 29, 29, 29, 29, 29, 29, 29, 29, 29, 29, 29, 29, 29, 29, 29, 29, 29, 29, 29, 29, 29, 29, 29, 29, 29, 29, 29, 29, 29, 29, 29, 29, 29, 29, 29, 29, 29, 29, 29, 29, 29, 29, 29, 29, 29, 29, 29, 29, 29, 29, 29, 29, 29, 29, 29, 29, 29, 29, 29, 29, 29, 29, 29, 29, 29, 29, 29, 29, 29, 29, 29, 29, 29, 29, 29, 29, 29, 29, 29, 29, 29, 29, 29, 29, 29, 29, 29, 29, 29, 29, 29, 29, 29, 29, 29, 29, 29, 29, 29, 29, 29, 29, 29, 29, 29, 29, 29, 29, 29, 29, 29, 29, 29, 29, 29, 29, 29, 29, 29, 29, 29, 29, 29, 29, 29, 29, 29, 29, 29, 29, 29, 27, 19, 19, 7, 19, 19, 25, 16, 19, 12, 12, 17, 3, 12, 11, 1, 16, 22, 12, 19, 14, 19, 19, 3, 11, 19, 19, 25, 16, 7, 17, 9, 20, 7, 14, 13, 9, 3, 22, 7, 6, 12, 17, 7, 7, 11, 4, 19, 3, 17, 7, 4, 19, 7, 7, 16, 22, 22, 3, 14, 7, 17, 12, 17, 7, 9, 22, 19, 23, 7, 25, 7, 3, 1, 17, 11, 14, 11, 16, 7, 22, 25, 20, 11, 22, 3, 14, 25, 22, 14, 23, 9, 17, 17, 20, 9, 1, 1, 14, 28], [29, 29, 29, 29, 29, 29, 29, 29, 29, 29, 29, 29, 29, 29, 29, 29, 29, 29, 29, 29, 29, 29, 29, 29, 29, 29, 29, 29, 29, 29, 29, 29, 29, 29, 29, 29, 29, 29, 29, 29, 29, 29, 29, 29, 29, 29, 29, 29, 29, 29, 29, 29, 29, 29, 29, 29, 29, 29, 29, 29, 29, 29, 29, 29, 29, 29, 29, 29, 29, 29, 29, 29, 29, 29, 29, 29, 29, 29, 29, 29, 29, 29, 29, 29, 29, 29, 29, 29, 29, 29, 29, 29, 29, 29, 29, 29, 29, 29, 29, 29, 29, 29, 29, 29, 29, 29, 29, 29, 29, 29, 29, 29, 29, 29, 29, 29, 29, 29, 29, 29, 29, 29, 29, 29, 29, 29, 29, 29, 29, 29, 29, 29, 29, 29, 29, 29, 29, 29, 29, 29, 29, 29, 29, 29, 29, 29, 29, 29, 29, 29, 29, 29, 29, 29, 29, 29, 29, 29, 29, 29, 29, 29, 29, 29, 29, 29, 29, 29, 29, 29, 29, 29, 29, 29, 29, 29, 29, 29, 29, 29, 29, 29, 29, 29, 29, 29, 29, 29, 29, 29, 29, 29, 29, 29, 29, 29, 29, 29, 29, 29, 29, 29, 29, 29, 29, 29, 29, 29, 29, 29, 29, 29, 29, 29, 29, 29, 29, 29, 29, 29, 29, 29, 29, 29, 29, 29, 29, 29, 29, 29, 29, 29, 29, 29, 29, 29, 29, 29, 29, 29, 29, 29, 29, 29, 29, 29, 29, 29, 29, 29, 29, 29, 29, 29, 29, 29, 29, 29, 29, 29, 29, 29, 29, 29, 29, 29, 29, 29, 29, 29, 29, 29, 29, 29, 29, 29, 29, 29, 29, 29, 29, 29, 29, 29, 29, 29, 29, 29, 29, 29, 29, 29, 29, 29, 29, 29, 29, 29, 29, 29, 29, 29, 29, 29, 29, 29, 29, 29, 29, 29, 29, 29, 29, 29, 29, 29, 29, 29, 29, 29, 29, 29, 29, 29, 29, 29, 29, 29, 29, 29, 29, 29, 29, 29, 29, 29, 29, 29, 29, 29, 29, 29, 29, 29, 29, 29, 29, 29, 29, 29, 29, 29, 29, 29, 29, 29, 29, 29, 29, 29, 29, 29, 29, 29, 29, 29, 29, 29, 29, 29, 29, 29, 29, 29, 29, 29, 29, 29, 29, 29, 29, 29, 29, 29, 29, 29, 29, 29, 29, 29, 29, 29, 29, 29, 29, 29, 29, 29, 29, 29, 29, 29, 29, 29, 29, 29, 29, 29, 29, 29, 29, 29, 29, 29, 29, 29, 29, 29, 29, 29, 29, 29, 29, 29, 29, 29, 29, 29, 29, 29, 29, 29, 29, 29, 29, 29, 29, 29, 29, 29, 29, 29, 29, 27, 16, 17, 9, 20, 12, 23, 17, 18, 16, 12, 22, 20, 9, 11, 9, 7, 7, 17, 12, 11, 5, 1, 12, 12, 4, 20, 7, 1, 4, 4, 20, 22, 12, 5, 5, 13, 19, 12, 16, 7, 18, 23, 11, 16, 11, 13, 9, 7, 7, 9, 7, 7, 6, 9, 11, 22, 18, 17, 25, 4, 17, 9, 12, 9, 5, 9, 3, 7, 8, 11, 1, 9, 7, 20, 22, 12, 22, 7, 16, 20, 16, 22, 14, 9, 9, 7, 18, 14, 12, 12, 20, 17, 9, 7, 3, 20, 12, 14, 6, 28], [29, 29, 29, 29, 29, 29, 29, 29, 29, 29, 29, 29, 29, 29, 29, 29, 29, 29, 29, 29, 29, 29, 29, 29, 29, 29, 29, 29, 29, 29, 29, 29, 29, 29, 29, 29, 29, 29, 29, 29, 29, 29, 29, 29, 29, 29, 29, 29, 29, 29, 29, 29, 29, 29, 29, 29, 29, 29, 29, 29, 29, 29, 29, 29, 29, 29, 29, 29, 29, 29, 29, 29, 29, 29, 29, 29, 29, 29, 29, 29, 29, 29, 29, 29, 29, 29, 29, 29, 29, 29, 29, 29, 29, 29, 29, 29, 29, 29, 29, 29, 29, 29, 29, 29, 29, 29, 29, 29, 29, 29, 29, 29, 29, 29, 29, 29, 29, 29, 29, 29, 29, 29, 29, 29, 29, 29, 29, 29, 29, 29, 29, 29, 29, 29, 29, 29, 29, 29, 29, 29, 29, 29, 29, 29, 29, 29, 29, 29, 29, 29, 29, 29, 29, 29, 29, 29, 29, 29, 29, 29, 29, 29, 29, 29, 29, 29, 29, 29, 29, 29, 29, 29, 29, 29, 29, 29, 29, 29, 29, 29, 29, 29, 29, 29, 29, 29, 29, 29, 29, 29, 29, 29, 29, 29, 29, 29, 29, 29, 29, 29, 29, 29, 29, 29, 29, 29, 29, 29, 29, 29, 29, 29, 29, 29, 29, 29, 29, 29, 29, 29, 29, 29, 29, 29, 29, 29, 29, 29, 29, 29, 29, 29, 29, 29, 29, 29, 29, 29, 29, 29, 29, 29, 29, 29, 29, 29, 29, 29, 29, 29, 29, 29, 29, 29, 29, 29, 29, 29, 29, 29, 29, 29, 29, 29, 29, 29, 29, 29, 29, 29, 29, 29, 29, 29, 29, 29, 29, 29, 29, 29, 29, 29, 29, 29, 29, 29, 29, 29, 29, 29, 29, 29, 29, 29, 29, 29, 29, 29, 29, 29, 29, 29, 29, 29, 29, 29, 29, 29, 29, 29, 29, 29, 29, 29, 29, 29, 29, 29, 29, 29, 29, 29, 29, 29, 29, 29, 29, 29, 29, 29, 29, 29, 29, 29, 29, 29, 29, 29, 29, 29, 29, 29, 29, 29, 29, 29, 29, 29, 29, 29, 29, 29, 29, 29, 29, 29, 29, 29, 29, 29, 29, 29, 29, 29, 29, 29, 29, 29, 29, 29, 29, 29, 29, 29, 29, 29, 29, 29, 29, 29, 29, 29, 29, 29, 29, 29, 29, 29, 29, 29, 29, 29, 29, 29, 29, 29, 29, 29, 29, 29, 29, 29, 29, 29, 29, 29, 29, 29, 29, 29, 29, 29, 29, 29, 29, 29, 29, 29, 29, 29, 29, 29, 29, 29, 29, 29, 29, 29, 29, 29, 29, 29, 29, 29, 29, 29, 29, 29, 29, 29, 29, 29, 29, 27, 16, 17, 9, 20, 12, 23, 17, 18, 16, 12, 22, 20, 9, 11, 9, 7, 7, 17, 12, 11, 5, 1, 12, 12, 4, 20, 7, 1, 4, 4, 20, 22, 12, 5, 5, 13, 19, 12, 16, 7, 18, 23, 11, 16, 11, 13, 9, 7, 7, 9, 7, 7, 6, 9, 11, 22, 18, 17, 25, 4, 17, 9, 12, 9, 5, 9, 3, 7, 8, 11, 1, 9, 7, 20, 22, 12, 22, 7, 16, 20, 16, 22, 14, 9, 9, 7, 18, 14, 12, 12, 20, 17, 9, 7, 3, 20, 12, 14, 6, 28], [29, 29, 29, 29, 29, 29, 29, 29, 29, 29, 29, 29, 29, 29, 29, 29, 29, 29, 29, 29, 29, 29, 29, 29, 29, 29, 29, 29, 29, 29, 29, 29, 29, 29, 29, 29, 29, 29, 29, 29, 29, 29, 29, 29, 29, 29, 29, 29, 29, 29, 29, 29, 29, 29, 29, 29, 29, 29, 29, 29, 29, 29, 29, 29, 29, 29, 29, 29, 29, 29, 29, 29, 29, 29, 29, 29, 29, 29, 29, 29, 29, 29, 29, 29, 29, 29, 29, 29, 29, 29, 29, 29, 29, 29, 29, 29, 29, 29, 29, 29, 29, 29, 29, 29, 29, 29, 29, 29, 29, 29, 29, 29, 29, 29, 29, 29, 29, 29, 29, 29, 29, 29, 29, 29, 29, 29, 29, 29, 29, 29, 29, 29, 29, 29, 29, 29, 29, 29, 29, 29, 29, 29, 29, 29, 29, 29, 29, 29, 29, 29, 29, 29, 29, 29, 29, 29, 29, 29, 29, 29, 29, 29, 29, 29, 29, 29, 29, 29, 29, 29, 29, 29, 29, 29, 29, 29, 29, 29, 29, 29, 29, 29, 29, 29, 29, 29, 29, 29, 29, 29, 29, 29, 29, 29, 29, 29, 29, 29, 29, 29, 29, 29, 29, 29, 29, 29, 29, 29, 29, 29, 29, 29, 29, 29, 29, 29, 29, 29, 29, 29, 29, 29, 29, 29, 29, 29, 29, 29, 29, 29, 29, 29, 29, 29, 29, 29, 29, 29, 29, 29, 29, 29, 29, 29, 29, 29, 29, 29, 29, 29, 29, 29, 29, 29, 29, 29, 29, 29, 29, 29, 29, 29, 29, 29, 29, 29, 29, 29, 29, 29, 29, 29, 29, 29, 29, 29, 29, 29, 29, 29, 29, 29, 29, 29, 29, 29, 29, 29, 29, 29, 29, 29, 29, 29, 29, 29, 29, 29, 29, 29, 29, 29, 29, 29, 29, 29, 29, 29, 29, 29, 29, 29, 29, 29, 29, 29, 29, 29, 29, 29, 29, 29, 29, 29, 29, 29, 29, 29, 29, 29, 29, 29, 29, 29, 29, 29, 29, 29, 29, 29, 29, 29, 29, 29, 29, 29, 29, 29, 29, 29, 29, 29, 29, 29, 29, 29, 29, 29, 29, 29, 29, 29, 29, 29, 29, 29, 29, 29, 29, 27, 5, 5, 22, 18, 17, 6, 18, 18, 12, 6, 1, 17, 12, 1, 7, 4, 4, 13, 5, 22, 19, 1, 20, 5, 12, 13, 14, 9, 12, 14, 11, 22, 22, 20, 18, 8, 16, 4, 12, 11, 20, 4, 7, 6, 7, 9, 4, 20, 3, 18, 19, 13, 22, 1, 22, 13, 4, 19, 4, 20, 20, 7, 11, 12, 7, 6, 5, 5, 6, 11, 25, 12, 23, 14, 14, 9, 11, 11, 23, 17, 1, 9, 25, 11, 17, 6, 4, 22, 4, 18, 19, 7, 20, 9, 7, 19, 19, 5, 12, 16, 7, 1, 6, 5, 1, 1, 7, 6, 8, 12, 14, 5, 8, 12, 25, 19, 13, 9, 9, 18, 18, 25, 19, 4, 5, 7, 7, 14, 13, 4, 6, 4, 14, 6, 9, 19, 3, 12, 22, 18, 12, 4, 1, 13, 6, 18, 1, 6, 11, 19, 12, 4, 11, 4, 7, 20, 7, 17, 9, 17, 22, 14, 9, 17, 5, 23, 12, 17, 12, 20, 13, 25, 19, 28], [29, 29, 29, 29, 29, 29, 29, 29, 29, 29, 29, 29, 29, 29, 29, 29, 29, 29, 29, 29, 29, 29, 29, 29, 29, 29, 29, 29, 29, 29, 29, 29, 29, 29, 29, 29, 29, 29, 29, 29, 29, 29, 29, 29, 29, 29, 29, 29, 29, 29, 29, 29, 29, 29, 29, 29, 29, 29, 29, 29, 29, 29, 29, 29, 29, 29, 29, 29, 29, 29, 29, 29, 29, 29, 29, 29, 29, 29, 29, 29, 29, 29, 29, 29, 29, 29, 29, 29, 29, 29, 29, 29, 29, 29, 29, 29, 29, 29, 29, 29, 29, 29, 29, 29, 29, 29, 29, 29, 29, 29, 29, 29, 29, 29, 29, 29, 29, 29, 29, 29, 29, 29, 29, 29, 29, 29, 29, 29, 29, 29, 29, 29, 29, 29, 29, 29, 29, 29, 29, 29, 29, 29, 29, 29, 29, 29, 29, 29, 29, 29, 29, 29, 29, 29, 29, 29, 29, 29, 29, 29, 29, 29, 29, 29, 29, 29, 29, 29, 29, 29, 29, 29, 29, 29, 29, 29, 29, 29, 29, 29, 29, 29, 29, 29, 29, 29, 29, 29, 29, 29, 29, 29, 29, 29, 29, 29, 29, 29, 29, 29, 29, 29, 29, 29, 29, 29, 29, 29, 29, 29, 29, 29, 29, 29, 29, 29, 29, 29, 29, 29, 29, 29, 29, 29, 29, 29, 29, 29, 29, 29, 29, 29, 29, 29, 29, 29, 29, 29, 29, 29, 29, 29, 29, 29, 29, 29, 29, 29, 29, 29, 29, 29, 29, 29, 29, 29, 29, 29, 29, 29, 29, 29, 29, 29, 29, 29, 29, 29, 29, 29, 29, 29, 29, 29, 29, 29, 29, 29, 29, 29, 29, 29, 29, 29, 29, 29, 29, 29, 29, 29, 29, 29, 29, 29, 29, 29, 29, 29, 29, 29, 29, 29, 29, 29, 29, 29, 29, 29, 29, 29, 29, 29, 29, 29, 29, 29, 29, 29, 29, 29, 29, 29, 29, 29, 29, 29, 29, 29, 29, 29, 29, 29, 29, 29, 29, 29, 29, 29, 29, 29, 29, 29, 29, 29, 29, 29, 29, 29, 29, 29, 29, 29, 29, 29, 29, 29, 29, 29, 29, 29, 29, 29, 29, 29, 29, 29, 29, 29, 29, 27, 5, 5, 22, 18, 17, 6, 18, 18, 12, 6, 1, 17, 12, 1, 7, 4, 4, 13, 5, 22, 19, 1, 20, 5, 12, 13, 14, 9, 12, 14, 11, 22, 22, 20, 18, 8, 16, 4, 12, 11, 20, 4, 7, 6, 7, 9, 4, 20, 3, 18, 19, 13, 22, 1, 22, 13, 4, 19, 4, 20, 20, 7, 11, 12, 7, 6, 5, 5, 6, 11, 25, 12, 23, 14, 14, 9, 11, 11, 23, 17, 1, 9, 25, 11, 17, 6, 4, 22, 4, 18, 19, 7, 20, 9, 7, 19, 19, 5, 12, 16, 7, 1, 6, 5, 1, 1, 7, 6, 8, 12, 14, 5, 8, 12, 25, 19, 13, 9, 9, 18, 18, 25, 19, 4, 5, 7, 7, 14, 13, 4, 6, 4, 14, 6, 9, 19, 3, 12, 22, 18, 12, 4, 1, 13, 6, 18, 1, 6, 11, 19, 12, 4, 11, 4, 7, 20, 7, 17, 9, 17, 22, 14, 9, 17, 5, 23, 12, 17, 12, 20, 13, 25, 19, 28], [29, 29, 29, 29, 29, 29, 29, 29, 29, 29, 29, 29, 29, 29, 29, 29, 29, 29, 29, 29, 29, 29, 29, 29, 29, 29, 29, 29, 29, 29, 29, 29, 29, 29, 29, 29, 29, 29, 29, 29, 29, 29, 29, 29, 29, 29, 29, 29, 29, 29, 29, 29, 29, 29, 29, 29, 29, 29, 29, 29, 29, 29, 29, 29, 29, 29, 29, 29, 29, 29, 29, 29, 29, 29, 29, 29, 29, 29, 29, 29, 29, 29, 29, 29, 29, 29, 29, 29, 29, 29, 29, 29, 29, 29, 29, 29, 29, 29, 29, 29, 29, 29, 29, 29, 29, 29, 29, 29, 29, 29, 29, 29, 29, 29, 29, 29, 29, 29, 29, 29, 29, 29, 29, 29, 29, 29, 29, 29, 29, 29, 29, 29, 29, 29, 29, 29, 29, 29, 29, 29, 29, 29, 29, 29, 29, 29, 29, 29, 29, 29, 29, 29, 29, 29, 29, 29, 29, 29, 29, 29, 29, 29, 29, 29, 29, 29, 29, 29, 29, 29, 29, 29, 29, 29, 29, 29, 29, 29, 29, 29, 29, 29, 29, 29, 29, 29, 29, 29, 29, 29, 29, 29, 29, 29, 29, 29, 29, 29, 29, 29, 29, 29, 29, 29, 29, 29, 29, 29, 29, 29, 29, 29, 29, 29, 29, 29, 29, 29, 29, 29, 29, 29, 29, 29, 29, 29, 29, 29, 29, 29, 29, 29, 29, 29, 29, 29, 29, 29, 29, 29, 29, 29, 29, 29, 29, 29, 29, 29, 29, 29, 29, 29, 29, 29, 29, 29, 29, 29, 29, 29, 29, 29, 29, 29, 29, 29, 29, 29, 29, 29, 29, 29, 29, 29, 29, 29, 29, 29, 29, 29, 29, 29, 29, 29, 29, 29, 29, 29, 29, 29, 29, 29, 29, 29, 29, 29, 29, 29, 29, 29, 29, 29, 29, 29, 29, 29, 29, 29, 29, 29, 29, 29, 29, 29, 29, 29, 29, 29, 29, 29, 29, 29, 29, 29, 29, 29, 29, 29, 29, 29, 29, 29, 29, 29, 29, 29, 29, 29, 29, 29, 29, 29, 29, 29, 29, 29, 29, 29, 29, 29, 29, 29, 29, 29, 29, 29, 29, 29, 29, 29, 29, 29, 29, 29, 29, 29, 29, 27, 1, 4, 20, 14, 1, 16, 9, 3, 12, 3, 4, 5, 16, 7, 22, 12, 7, 18, 20, 17, 9, 22, 20, 20, 5, 9, 11, 4, 11, 9, 5, 11, 1, 22, 5, 1, 22, 1, 17, 5, 19, 7, 22, 19, 7, 18, 7, 6, 19, 9, 6, 19, 8, 8, 16, 22, 6, 18, 5, 3, 7, 11, 25, 5, 3, 18, 20, 22, 18, 16, 5, 8, 19, 18, 3, 25, 14, 6, 16, 16, 6, 20, 8, 6, 11, 19, 5, 3, 16, 22, 19, 20, 18, 4, 3, 5, 16, 22, 6, 7, 25, 20, 22, 1, 7, 5, 6, 18, 22, 9, 22, 17, 1, 16, 18, 1, 7, 6, 18, 17, 3, 22, 23, 17, 8, 11, 3, 18, 6, 7, 19, 14, 19, 3, 7, 25, 14, 7, 18, 3, 20, 17, 17, 18, 19, 22, 22, 18, 12, 22, 20, 25, 14, 12, 5, 11, 4, 7, 6, 12, 3, 5, 19, 6, 18, 20, 3, 3, 7, 3, 16, 3, 18, 19, 6, 28], [29, 29, 29, 29, 29, 29, 29, 29, 29, 29, 29, 29, 29, 29, 29, 29, 29, 29, 29, 29, 29, 29, 29, 29, 29, 29, 29, 29, 29, 29, 29, 29, 29, 29, 29, 29, 29, 29, 29, 29, 29, 29, 29, 29, 29, 29, 29, 29, 29, 29, 29, 29, 29, 29, 29, 29, 29, 29, 29, 29, 29, 29, 29, 29, 29, 29, 29, 29, 29, 29, 29, 29, 29, 29, 29, 29, 29, 29, 29, 29, 29, 29, 29, 29, 29, 29, 29, 29, 29, 29, 29, 29, 29, 29, 29, 29, 29, 29, 29, 29, 29, 29, 29, 29, 29, 29, 29, 29, 29, 29, 29, 29, 29, 29, 29, 29, 29, 29, 29, 29, 29, 29, 29, 29, 29, 29, 29, 29, 29, 29, 29, 29, 29, 29, 29, 29, 29, 29, 29, 29, 29, 29, 29, 29, 29, 29, 29, 29, 29, 29, 29, 29, 29, 29, 29, 29, 29, 29, 29, 29, 29, 29, 29, 29, 29, 29, 29, 29, 29, 29, 29, 29, 29, 29, 29, 29, 29, 29, 29, 29, 29, 29, 29, 29, 29, 29, 29, 29, 29, 29, 29, 29, 29, 29, 29, 29, 29, 29, 29, 29, 29, 29, 29, 29, 29, 29, 29, 29, 29, 29, 29, 29, 29, 29, 29, 29, 29, 29, 29, 29, 29, 29, 29, 29, 29, 29, 29, 29, 29, 29, 29, 29, 29, 29, 29, 29, 29, 29, 29, 29, 29, 29, 29, 29, 29, 29, 29, 29, 29, 29, 29, 29, 29, 29, 29, 29, 29, 29, 29, 29, 29, 29, 29, 29, 29, 29, 29, 29, 29, 29, 29, 29, 29, 29, 29, 29, 29, 29, 29, 29, 29, 29, 29, 29, 29, 29, 29, 29, 29, 29, 29, 29, 29, 29, 29, 29, 29, 29, 29, 29, 29, 29, 29, 29, 29, 29, 29, 29, 29, 29, 29, 29, 29, 29, 29, 29, 29, 29, 29, 29, 29, 29, 29, 29, 29, 29, 29, 29, 29, 29, 29, 29, 29, 29, 29, 29, 29, 29, 29, 29, 29, 29, 29, 29, 29, 29, 29, 29, 29, 29, 27, 13, 12, 11, 16, 14, 22, 1, 9, 9, 22, 1, 1, 12, 11, 16, 1, 12, 7, 9, 7, 25, 11, 7, 11, 13, 16, 23, 18, 12, 18, 11, 5, 9, 18, 25, 6, 11, 4, 22, 20, 20, 18, 20, 20, 11, 16, 14, 20, 18, 14, 1, 22, 9, 13, 7, 18, 11, 20, 23, 5, 19, 9, 16, 17, 11, 6, 18, 16, 12, 16, 4, 18, 12, 14, 9, 9, 12, 19, 18, 19, 25, 5, 14, 5, 9, 9, 4, 4, 14, 9, 9, 8, 1, 19, 19, 9, 5, 19, 19, 12, 14, 12, 22, 19, 4, 22, 5, 18, 22, 6, 9, 9, 7, 7, 1, 5, 9, 25, 14, 5, 12, 9, 14, 14, 19, 12, 22, 19, 8, 12, 12, 9, 20, 5, 9, 5, 8, 16, 19, 16, 5, 19, 9, 5, 13, 4, 20, 6, 12, 11, 6, 16, 12, 5, 19, 23, 20, 11, 17, 16, 11, 19, 5, 12, 17, 11, 6, 22, 7, 4, 20, 22, 12, 5, 4, 4, 9, 11, 5, 7, 4, 6, 20, 25, 14, 25, 20, 12, 23, 20, 18, 11, 28], [29, 29, 29, 29, 29, 29, 29, 29, 29, 29, 29, 29, 29, 29, 29, 29, 29, 29, 29, 29, 29, 29, 29, 29, 29, 29, 29, 29, 29, 29, 29, 29, 29, 29, 29, 29, 29, 29, 29, 29, 29, 29, 29, 29, 29, 29, 29, 29, 29, 29, 29, 29, 29, 29, 29, 29, 29, 29, 29, 29, 29, 29, 29, 29, 29, 29, 29, 29, 29, 29, 29, 29, 29, 29, 29, 29, 29, 29, 29, 29, 29, 29, 29, 29, 29, 29, 29, 29, 29, 29, 29, 29, 29, 29, 29, 29, 29, 29, 29, 29, 29, 29, 29, 29, 29, 29, 29, 29, 29, 29, 29, 29, 29, 29, 29, 29, 29, 29, 29, 29, 29, 29, 29, 29, 29, 29, 29, 29, 29, 29, 29, 29, 29, 29, 29, 29, 29, 29, 29, 29, 29, 29, 29, 29, 29, 29, 29, 29, 29, 29, 29, 29, 29, 29, 29, 29, 29, 29, 29, 29, 29, 29, 29, 29, 29, 29, 29, 29, 29, 29, 29, 29, 29, 29, 29, 29, 29, 29, 29, 29, 29, 29, 29, 29, 29, 29, 29, 29, 29, 29, 29, 29, 29, 29, 29, 29, 29, 29, 29, 29, 29, 29, 29, 29, 29, 29, 29, 29, 29, 29, 29, 29, 29, 29, 29, 29, 29, 29, 29, 29, 29, 29, 29, 29, 29, 29, 29, 29, 29, 29, 29, 29, 29, 29, 29, 29, 29, 29, 29, 29, 29, 29, 29, 29, 29, 29, 29, 29, 29, 29, 29, 29, 29, 29, 29, 29, 29, 29, 29, 29, 29, 29, 29, 29, 29, 29, 29, 29, 29, 29, 29, 29, 29, 29, 29, 29, 29, 29, 29, 29, 29, 29, 29, 29, 29, 29, 29, 29, 29, 29, 29, 29, 29, 29, 29, 29, 29, 29, 29, 29, 29, 29, 29, 29, 29, 29, 29, 29, 29, 29, 29, 29, 29, 29, 29, 29, 29, 29, 29, 29, 29, 29, 29, 29, 29, 29, 29, 29, 29, 29, 29, 29, 29, 29, 29, 29, 29, 29, 29, 29, 29, 27, 14, 20, 7, 9, 22, 19, 19, 6, 6, 20, 25, 20, 7, 16, 1, 8, 7, 20, 17, 23, 4, 5, 9, 4, 9, 5, 6, 12, 7, 11, 4, 20, 20, 11, 22, 17, 6, 14, 25, 25, 20, 14, 7, 22, 7, 7, 8, 5, 11, 22, 9, 19, 12, 7, 6, 4, 1, 19, 11, 7, 6, 8, 20, 25, 1, 6, 4, 23, 17, 16, 7, 25, 9, 11, 23, 25, 22, 4, 7, 22, 12, 11, 8, 20, 1, 20, 1, 14, 9, 16, 19, 20, 16, 7, 11, 9, 13, 13, 14, 12, 23, 14, 7, 20, 16, 12, 25, 1, 5, 25, 4, 23, 22, 11, 25, 20, 19, 14, 17, 20, 7, 7, 19, 6, 6, 5, 16, 6, 14, 19, 25, 14, 19, 7, 20, 23, 5, 11, 1, 4, 7, 25, 19, 14, 7, 7, 22, 6, 14, 3, 20, 23, 18, 1, 14, 14, 22, 14, 6, 20, 14, 4, 7, 11, 12, 11, 12, 7, 12, 20, 19, 19, 1, 25, 14, 11, 6, 4, 3, 1, 5, 25, 18, 19, 20, 14, 9, 25, 7, 25, 7, 12, 25, 5, 22, 19, 13, 11, 16, 1, 11, 28], [29, 29, 29, 29, 29, 29, 29, 29, 29, 29, 29, 29, 29, 29, 29, 29, 29, 29, 29, 29, 29, 29, 29, 29, 29, 29, 29, 29, 29, 29, 29, 29, 29, 29, 29, 29, 29, 29, 29, 29, 29, 29, 29, 29, 29, 29, 29, 29, 29, 29, 29, 29, 29, 29, 29, 29, 29, 29, 29, 29, 29, 29, 29, 29, 29, 29, 29, 29, 29, 29, 29, 29, 29, 29, 29, 29, 29, 29, 29, 29, 29, 29, 29, 29, 29, 29, 29, 29, 29, 29, 29, 29, 29, 29, 29, 29, 29, 29, 29, 29, 29, 29, 29, 29, 29, 29, 29, 29, 29, 29, 29, 29, 29, 29, 29, 29, 29, 29, 29, 29, 29, 29, 29, 29, 29, 29, 29, 29, 29, 29, 29, 29, 29, 29, 29, 29, 29, 29, 29, 29, 29, 29, 29, 29, 29, 29, 29, 29, 29, 29, 29, 29, 29, 29, 29, 29, 29, 29, 29, 29, 29, 29, 29, 29, 29, 29, 29, 29, 29, 29, 29, 29, 29, 29, 29, 29, 29, 29, 29, 29, 29, 29, 29, 29, 29, 29, 29, 29, 29, 29, 29, 29, 29, 29, 29, 29, 29, 29, 29, 29, 29, 29, 29, 29, 29, 29, 29, 29, 29, 29, 29, 29, 29, 29, 29, 29, 29, 29, 29, 29, 29, 29, 29, 29, 29, 29, 29, 29, 29, 29, 29, 29, 29, 29, 29, 29, 29, 29, 29, 29, 29, 29, 29, 29, 29, 29, 29, 29, 29, 29, 29, 29, 29, 29, 29, 29, 29, 29, 29, 29, 29, 29, 29, 29, 29, 29, 29, 29, 29, 29, 29, 29, 29, 29, 29, 29, 29, 29, 29, 29, 29, 29, 29, 29, 29, 29, 29, 29, 29, 29, 29, 29, 29, 29, 29, 29, 29, 29, 29, 29, 29, 29, 29, 29, 29, 29, 29, 29, 29, 29, 29, 29, 29, 29, 29, 29, 29, 29, 29, 29, 29, 29, 29, 29, 29, 29, 29, 29, 27, 13, 18, 9, 9, 12, 12, 7, 1, 16, 7, 1, 7, 11, 7, 20, 17, 1, 17, 6, 9, 13, 5, 11, 25, 7, 9, 16, 17, 9, 19, 20, 7, 4, 13, 12, 18, 1, 1, 22, 11, 19, 7, 19, 5, 12, 7, 11, 17, 1, 11, 4, 9, 13, 4, 1, 7, 11, 12, 22, 20, 4, 5, 12, 22, 9, 1, 12, 22, 11, 5, 18, 9, 1, 17, 5, 4, 3, 18, 14, 7, 6, 12, 12, 4, 7, 6, 16, 18, 20, 9, 16, 17, 1, 4, 1, 13, 11, 5, 1, 7, 9, 14, 22, 4, 25, 22, 12, 5, 6, 4, 22, 16, 4, 5, 12, 9, 22, 4, 18, 9, 22, 7, 18, 18, 22, 8, 1, 16, 19, 7, 18, 22, 25, 8, 22, 11, 6, 14, 16, 16, 11, 22, 5, 7, 11, 4, 4, 22, 20, 7, 5, 5, 12, 20, 20, 18, 11, 4, 4, 17, 5, 5, 20, 22, 18, 11, 18, 12, 22, 5, 25, 8, 17, 13, 20, 1, 16, 12, 9, 7, 25, 25, 19, 11, 5, 1, 5, 1, 7, 14, 20, 11, 25, 1, 11, 22, 4, 7, 20, 11, 16, 22, 1, 5, 22, 18, 1, 4, 12, 5, 11, 9, 12, 7, 28], [29, 29, 29, 29, 29, 29, 29, 29, 29, 29, 29, 29, 29, 29, 29, 29, 29, 29, 29, 29, 29, 29, 29, 29, 29, 29, 29, 29, 29, 29, 29, 29, 29, 29, 29, 29, 29, 29, 29, 29, 29, 29, 29, 29, 29, 29, 29, 29, 29, 29, 29, 29, 29, 29, 29, 29, 29, 29, 29, 29, 29, 29, 29, 29, 29, 29, 29, 29, 29, 29, 29, 29, 29, 29, 29, 29, 29, 29, 29, 29, 29, 29, 29, 29, 29, 29, 29, 29, 29, 29, 29, 29, 29, 29, 29, 29, 29, 29, 29, 29, 29, 29, 29, 29, 29, 29, 29, 29, 29, 29, 29, 29, 29, 29, 29, 29, 29, 29, 29, 29, 29, 29, 29, 29, 29, 29, 29, 29, 29, 29, 29, 29, 29, 29, 29, 29, 29, 29, 29, 29, 29, 29, 29, 29, 29, 29, 29, 29, 29, 29, 29, 29, 29, 29, 29, 29, 29, 29, 29, 29, 29, 29, 29, 29, 29, 29, 29, 29, 29, 29, 29, 29, 29, 29, 29, 29, 29, 29, 29, 29, 29, 29, 29, 29, 29, 29, 29, 29, 29, 29, 29, 29, 29, 29, 29, 29, 29, 29, 29, 29, 29, 29, 29, 29, 29, 29, 29, 29, 29, 29, 29, 29, 29, 29, 29, 29, 29, 29, 29, 29, 29, 29, 29, 29, 29, 29, 29, 29, 29, 29, 29, 29, 29, 29, 29, 29, 29, 29, 29, 29, 29, 29, 29, 29, 29, 29, 29, 29, 29, 29, 29, 29, 29, 29, 29, 29, 29, 29, 29, 29, 29, 29, 29, 29, 29, 29, 29, 29, 29, 29, 29, 29, 29, 29, 29, 29, 29, 29, 29, 29, 29, 29, 29, 29, 29, 29, 29, 29, 29, 29, 29, 29, 29, 29, 29, 29, 29, 29, 29, 29, 29, 29, 29, 29, 29, 29, 29, 29, 29, 29, 29, 29, 29, 29, 29, 29, 29, 29, 29, 29, 29, 29, 29, 29, 29, 29, 29, 29, 27, 13, 18, 9, 9, 12, 12, 7, 1, 16, 7, 1, 7, 11, 7, 20, 17, 1, 17, 6, 9, 13, 5, 11, 25, 7, 9, 16, 17, 9, 19, 20, 7, 4, 13, 12, 18, 1, 1, 22, 11, 19, 7, 19, 5, 12, 7, 11, 17, 1, 11, 4, 9, 13, 4, 1, 7, 11, 12, 22, 20, 4, 5, 12, 22, 9, 1, 12, 22, 11, 5, 18, 9, 1, 17, 5, 4, 3, 18, 14, 7, 6, 12, 12, 4, 7, 6, 16, 18, 20, 9, 16, 17, 1, 4, 1, 13, 11, 5, 1, 7, 9, 14, 22, 4, 25, 22, 12, 5, 6, 4, 22, 16, 4, 5, 12, 9, 22, 4, 18, 9, 22, 7, 18, 18, 22, 8, 1, 16, 19, 7, 18, 22, 25, 8, 22, 11, 6, 14, 16, 16, 11, 22, 5, 7, 11, 4, 4, 22, 20, 7, 5, 5, 12, 20, 20, 18, 11, 4, 4, 17, 5, 5, 20, 22, 18, 11, 18, 12, 22, 5, 25, 8, 17, 13, 20, 1, 16, 12, 9, 7, 25, 25, 19, 11, 5, 1, 5, 1, 7, 14, 20, 11, 25, 1, 11, 22, 4, 7, 20, 11, 16, 22, 1, 5, 22, 18, 1, 4, 12, 5, 11, 9, 12, 7, 28], [29, 29, 29, 29, 29, 29, 29, 29, 29, 29, 29, 29, 29, 29, 29, 29, 29, 29, 29, 29, 29, 29, 29, 29, 29, 29, 29, 29, 29, 29, 29, 29, 29, 29, 29, 29, 29, 29, 29, 29, 29, 29, 29, 29, 29, 29, 29, 29, 29, 29, 29, 29, 29, 29, 29, 29, 29, 29, 29, 29, 29, 29, 29, 29, 29, 29, 29, 29, 29, 29, 29, 29, 29, 29, 29, 29, 29, 29, 29, 29, 29, 29, 29, 29, 29, 29, 29, 29, 29, 29, 29, 29, 29, 29, 29, 29, 29, 29, 29, 29, 29, 29, 29, 29, 29, 29, 29, 29, 29, 29, 29, 29, 29, 29, 29, 29, 29, 29, 29, 29, 29, 29, 29, 29, 29, 29, 29, 29, 29, 29, 29, 27, 1, 16, 16, 19, 22, 6, 1, 5, 22, 16, 17, 1, 17, 16, 22, 12, 22, 6, 11, 12, 9, 1, 4, 6, 18, 5, 4, 16, 4, 16, 18, 11, 22, 14, 12, 7, 22, 7, 1, 25, 18, 20, 4, 4, 3, 17, 16, 23, 22, 12, 16, 22, 22, 18, 11, 22, 5, 17, 18, 9, 1, 14, 14, 19, 19, 12, 14, 8, 5, 25, 12, 16, 9, 12, 7, 12, 1, 5, 6, 18, 20, 3, 1, 19, 18, 12, 1, 12, 7, 4, 4, 19, 16, 1, 12, 17, 5, 11, 18, 22, 7, 7, 22, 17, 19, 12, 7, 7, 20, 7, 1, 12, 18, 9, 7, 1, 5, 6, 12, 1, 18, 23, 25, 14, 7, 20, 14, 14, 11, 4, 20, 16, 22, 25, 22, 19, 19, 16, 20, 23, 5, 14, 8, 14, 7, 22, 6, 20, 20, 1, 7, 6, 11, 4, 9, 18, 19, 25, 18, 25, 23, 4, 20, 5, 11, 18, 7, 12, 4, 12, 17, 7, 6, 12, 19, 4, 12, 5, 14, 1, 16, 5, 6, 19, 9, 6, 22, 12, 8, 1, 3, 1, 8, 14, 16, 20, 7, 20, 4, 16, 20, 16, 5, 17, 23, 11, 17, 9, 1, 19, 22, 13, 11, 18, 18, 6, 12, 6, 16, 6, 6, 4, 19, 1, 25, 17, 7, 6, 1, 19, 7, 14, 12, 5, 11, 4, 1, 23, 1, 9, 18, 25, 6, 22, 19, 5, 7, 6, 5, 12, 6, 3, 1, 17, 19, 6, 19, 14, 6, 7, 12, 25, 14, 5, 18, 22, 7, 14, 12, 20, 22, 22, 1, 11, 5, 16, 4, 19, 9, 12, 18, 22, 12, 19, 17, 13, 17, 11, 9, 22, 18, 22, 20, 23, 19, 14, 16, 16, 1, 17, 7, 1, 18, 9, 22, 1, 18, 20, 12, 19, 4, 16, 5, 12, 6, 8, 5, 23, 20, 7, 14, 22, 11, 20, 13, 1, 4, 18, 9, 12, 19, 13, 18, 19, 5, 12, 18, 1, 18, 12, 5, 1, 12, 11, 20, 16, 7, 20, 23, 14, 8, 9, 20, 4, 17, 9, 7, 13, 6, 19, 6, 20, 7, 12, 14, 16, 11, 17, 22, 5, 25, 12, 9, 14, 17, 11, 8, 9, 25, 12, 12, 16, 19, 7, 18, 9, 14, 13, 3, 7, 12, 20, 20, 11, 14, 12, 4, 25, 22, 1, 20, 19, 9, 8, 5, 1, 22, 20, 11, 9, 17, 28], [29, 29, 29, 29, 29, 29, 29, 29, 29, 29, 29, 29, 29, 29, 29, 29, 29, 29, 29, 29, 29, 29, 29, 29, 29, 29, 29, 29, 29, 29, 29, 29, 29, 29, 29, 29, 29, 29, 29, 29, 29, 29, 29, 29, 29, 29, 29, 29, 29, 29, 29, 29, 29, 29, 29, 29, 29, 29, 29, 29, 29, 29, 29, 29, 29, 29, 29, 29, 29, 29, 29, 29, 29, 29, 29, 29, 29, 29, 29, 29, 29, 29, 29, 29, 29, 29, 29, 29, 29, 29, 29, 29, 29, 29, 29, 29, 29, 29, 29, 29, 29, 29, 29, 29, 29, 29, 29, 29, 29, 29, 29, 29, 29, 29, 29, 29, 29, 29, 29, 29, 29, 29, 29, 29, 29, 29, 29, 29, 29, 29, 29, 27, 1, 16, 16, 19, 22, 6, 1, 5, 22, 16, 17, 1, 17, 16, 22, 12, 22, 6, 11, 12, 9, 1, 4, 6, 18, 5, 4, 16, 4, 16, 18, 11, 22, 14, 12, 7, 22, 7, 1, 25, 18, 20, 4, 4, 3, 17, 16, 23, 22, 12, 16, 22, 22, 18, 11, 22, 5, 17, 18, 9, 1, 14, 14, 19, 19, 12, 14, 8, 5, 25, 12, 16, 9, 12, 7, 12, 1, 5, 6, 18, 20, 3, 1, 19, 18, 12, 1, 12, 7, 4, 4, 19, 16, 1, 12, 17, 5, 11, 18, 22, 7, 7, 22, 17, 19, 12, 7, 7, 20, 7, 1, 12, 18, 9, 7, 1, 5, 6, 12, 1, 18, 23, 25, 14, 7, 20, 14, 14, 11, 4, 20, 16, 22, 25, 22, 19, 19, 16, 20, 23, 5, 14, 8, 14, 7, 22, 6, 20, 20, 1, 7, 6, 11, 4, 9, 18, 19, 25, 18, 25, 23, 4, 20, 5, 11, 18, 7, 12, 4, 12, 17, 7, 6, 12, 19, 4, 12, 5, 14, 1, 16, 5, 6, 19, 9, 6, 22, 12, 8, 1, 3, 1, 8, 14, 16, 20, 7, 20, 4, 16, 20, 16, 5, 17, 23, 11, 17, 9, 1, 19, 22, 13, 11, 18, 18, 6, 12, 6, 16, 6, 6, 4, 19, 1, 25, 17, 7, 6, 1, 19, 7, 14, 12, 5, 11, 4, 1, 23, 1, 9, 18, 25, 6, 22, 19, 5, 7, 6, 5, 12, 6, 3, 1, 17, 19, 6, 19, 14, 6, 7, 12, 25, 14, 5, 18, 22, 7, 14, 12, 20, 22, 22, 1, 11, 5, 16, 4, 19, 9, 12, 18, 22, 12, 19, 17, 13, 17, 11, 9, 22, 18, 22, 20, 23, 19, 14, 16, 16, 1, 17, 7, 1, 18, 9, 22, 1, 18, 20, 12, 19, 4, 16, 5, 12, 6, 8, 5, 23, 20, 7, 14, 22, 11, 20, 13, 1, 4, 18, 9, 12, 19, 13, 18, 19, 5, 12, 18, 1, 18, 12, 5, 1, 12, 11, 20, 16, 7, 20, 23, 14, 8, 9, 20, 4, 17, 9, 7, 13, 6, 19, 6, 20, 7, 12, 14, 16, 11, 17, 22, 5, 25, 12, 9, 14, 17, 11, 8, 9, 25, 12, 12, 16, 19, 7, 18, 9, 14, 13, 3, 7, 12, 20, 20, 11, 14, 12, 4, 25, 22, 1, 20, 19, 9, 8, 5, 1, 22, 20, 11, 9, 17, 28], [29, 29, 29, 29, 29, 29, 29, 29, 29, 29, 29, 29, 29, 29, 29, 29, 29, 29, 29, 29, 29, 29, 29, 29, 29, 29, 29, 29, 29, 29, 29, 29, 29, 29, 29, 29, 29, 29, 29, 29, 29, 29, 29, 29, 29, 29, 29, 29, 29, 29, 29, 29, 29, 29, 29, 29, 29, 29, 29, 29, 29, 29, 29, 29, 29, 29, 29, 29, 29, 29, 29, 29, 29, 29, 29, 29, 29, 29, 29, 29, 29, 29, 29, 29, 29, 29, 29, 29, 29, 29, 29, 29, 29, 27, 20, 16, 5, 13, 16, 22, 12, 5, 14, 18, 1, 1, 17, 7, 14, 9, 20, 1, 16, 7, 7, 1, 18, 18, 12, 20, 7, 4, 17, 20, 1, 1, 12, 18, 14, 19, 12, 19, 4, 11, 16, 1, 11, 14, 9, 9, 12, 12, 9, 7, 4, 7, 13, 7, 4, 19, 5, 9, 20, 1, 1, 18, 14, 25, 1, 5, 7, 1, 7, 7, 6, 6, 11, 7, 9, 4, 1, 12, 16, 12, 20, 7, 17, 25, 20, 8, 25, 1, 12, 14, 11, 11, 20, 7, 11, 16, 4, 25, 22, 20, 4, 19, 1, 1, 19, 1, 20, 1, 23, 19, 20, 7, 22, 11, 20, 25, 14, 7, 1, 12, 7, 22, 4, 9, 8, 5, 11, 4, 8, 16, 20, 9, 12, 5, 13, 1, 11, 1, 1, 7, 12, 1, 20, 7, 14, 22, 19, 20, 1, 5, 12, 17, 4, 1, 20, 16, 1, 1, 12, 22, 1, 8, 22, 20, 19, 18, 11, 3, 25, 7, 16, 19, 1, 20, 19, 17, 11, 3, 16, 7, 14, 1, 12, 5, 11, 7, 7, 11, 7, 19, 9, 20, 5, 17, 12, 12, 14, 1, 18, 1, 4, 22, 20, 12, 7, 7, 7, 1, 11, 20, 6, 1, 5, 20, 1, 20, 1, 7, 5, 23, 17, 7, 11, 20, 12, 18, 5, 5, 1, 5, 1, 18, 7, 25, 17, 12, 22, 19, 4, 1, 1, 19, 12, 14, 19, 22, 20, 5, 1, 14, 17, 17, 11, 16, 12, 12, 7, 12, 6, 1, 4, 7, 14, 13, 16, 22, 18, 23, 12, 7, 16, 11, 1, 20, 25, 8, 7, 14, 9, 4, 11, 16, 1, 22, 20, 3, 20, 16, 14, 16, 17, 18, 14, 4, 19, 22, 16, 20, 12, 1, 17, 13, 20, 4, 11, 1, 9, 5, 12, 12, 19, 11, 14, 5, 11, 7, 6, 6, 12, 17, 22, 5, 7, 1, 19, 9, 4, 11, 17, 4, 8, 1, 1, 14, 16, 3, 7, 17, 9, 7, 5, 20, 22, 4, 12, 4, 5, 1, 22, 17, 18, 1, 12, 5, 6, 1, 11, 11, 5, 7, 14, 20, 12, 22, 9, 22, 20, 1, 4, 8, 1, 8, 1, 19, 17, 9, 22, 1, 16, 4, 20, 11, 1, 16, 7, 12, 20, 17, 1, 12, 14, 20, 11, 4, 7, 1, 22, 13, 22, 13, 19, 25, 7, 14, 19, 5, 5, 4, 19, 17, 5, 8, 20, 7, 19, 17, 12, 18, 9, 1, 1, 25, 7, 16, 8, 1, 1, 14, 22, 22, 7, 12, 20, 4, 17, 20, 4, 12, 6, 25, 20, 13, 11, 1, 1, 12, 7, 12, 11, 28], [29, 29, 29, 29, 29, 29, 29, 29, 29, 29, 29, 29, 29, 29, 29, 29, 29, 29, 29, 29, 29, 29, 29, 29, 29, 29, 29, 29, 29, 29, 29, 29, 29, 29, 27, 7, 20, 8, 5, 5, 5, 17, 25, 12, 6, 1, 22, 14, 14, 20, 11, 1, 5, 25, 16, 18, 4, 11, 20, 9, 8, 17, 12, 6, 5, 5, 17, 22, 19, 11, 18, 16, 14, 14, 22, 1, 9, 22, 3, 5, 14, 5, 17, 12, 20, 25, 8, 5, 12, 14, 22, 11, 1, 14, 17, 12, 1, 18, 9, 6, 9, 5, 11, 7, 9, 7, 11, 4, 20, 12, 22, 7, 9, 13, 13, 5, 11, 19, 9, 4, 12, 6, 9, 7, 9, 12, 1, 22, 12, 11, 1, 7, 7, 1, 25, 22, 16, 9, 4, 9, 5, 25, 16, 11, 5, 18, 9, 17, 25, 9, 12, 4, 4, 19, 17, 1, 18, 13, 12, 12, 20, 17, 11, 8, 12, 22, 8, 12, 9, 8, 14, 17, 6, 14, 7, 17, 22, 5, 9, 6, 5, 5, 4, 20, 9, 11, 9, 18, 5, 7, 20, 14, 12, 8, 22, 16, 19, 11, 19, 20, 4, 12, 1, 25, 22, 9, 25, 20, 14, 16, 11, 7, 20, 13, 12, 5, 8, 11, 7, 9, 19, 14, 12, 11, 22, 6, 6, 5, 14, 19, 12, 14, 22, 20, 5, 11, 4, 18, 9, 7, 17, 6, 1, 19, 9, 19, 6, 4, 1, 19, 22, 23, 5, 13, 6, 13, 1, 12, 12, 20, 7, 1, 19, 12, 25, 9, 9, 12, 11, 4, 20, 9, 14, 4, 6, 22, 11, 6, 5, 17, 25, 9, 14, 17, 11, 5, 9, 20, 22, 9, 20, 12, 16, 16, 20, 25, 22, 22, 8, 12, 4, 16, 5, 18, 9, 12, 19, 9, 17, 20, 12, 9, 20, 1, 7, 19, 1, 20, 19, 16, 19, 12, 22, 14, 11, 23, 11, 5, 11, 22, 20, 25, 9, 14, 1, 25, 7, 16, 20, 5, 20, 20, 9, 3, 1, 20, 20, 23, 22, 1, 20, 11, 5, 20, 9, 7, 8, 19, 22, 16, 9, 7, 1, 16, 9, 17, 14, 20, 17, 9, 25, 9, 22, 4, 5, 14, 12, 17, 12, 11, 19, 22, 7, 5, 1, 7, 5, 12, 3, 9, 7, 7, 5, 7, 12, 1, 18, 7, 25, 23, 11, 18, 16, 5, 12, 20, 19, 17, 11, 6, 22, 4, 14, 16, 6, 22, 16, 7, 5, 11, 12, 25, 11, 20, 7, 4, 17, 1, 18, 23, 12, 19, 4, 7, 14, 9, 5, 25, 12, 7, 18, 9, 4, 14, 17, 22, 11, 9, 18, 7, 8, 18, 22, 5, 12, 5, 5, 22, 5, 19, 9, 12, 12, 11, 8, 13, 25, 9, 19, 5, 20, 1, 22, 19, 22, 8, 11, 4, 8, 17, 5, 17, 16, 25, 12, 3, 1, 25, 6, 22, 19, 5, 11, 8, 9, 16, 12, 5, 17, 12, 18, 17, 6, 19, 19, 5, 5, 12, 16, 20, 25, 13, 9, 16, 19, 25, 6, 9, 17, 12, 4, 11, 13, 16, 12, 20, 19, 14, 7, 11, 9, 4, 18, 11, 17, 12, 16, 5, 16, 4, 12, 20, 6, 28], [27, 5, 16, 19, 12, 4, 14, 12, 1, 17, 17, 4, 22, 1, 1, 16, 7, 1, 16, 5, 7, 22, 20, 1, 12, 19, 4, 1, 17, 25, 14, 5, 1, 14, 11, 9, 25, 6, 5, 18, 3, 1, 7, 3, 8, 7, 22, 12, 18, 11, 7, 1, 20, 7, 11, 1, 12, 20, 16, 4, 12, 20, 18, 4, 12, 7, 6, 4, 25, 12, 17, 19, 6, 9, 20, 25, 1, 19, 16, 1, 7, 13, 16, 14, 23, 7, 20, 19, 7, 5, 12, 19, 1, 5, 17, 22, 4, 12, 13, 1, 14, 25, 12, 12, 12, 4, 16, 1, 1, 16, 16, 5, 6, 7, 13, 11, 5, 13, 18, 5, 19, 23, 11, 22, 8, 22, 1, 16, 5, 4, 18, 16, 20, 17, 17, 13, 14, 4, 23, 4, 12, 5, 14, 12, 6, 19, 22, 20, 12, 18, 4, 1, 7, 17, 9, 1, 12, 9, 4, 7, 19, 20, 25, 5, 9, 11, 20, 22, 12, 4, 20, 7, 25, 1, 22, 8, 9, 19, 18, 12, 19, 1, 19, 7, 18, 25, 12, 6, 22, 9, 7, 18, 4, 7, 11, 22, 14, 13, 9, 4, 12, 23, 13, 11, 5, 16, 20, 20, 22, 1, 5, 9, 11, 9, 7, 19, 5, 1, 18, 19, 9, 5, 20, 19, 11, 13, 5, 7, 23, 5, 4, 11, 25, 1, 9, 1, 7, 1, 25, 23, 16, 16, 17, 25, 22, 9, 13, 4, 7, 5, 20, 12, 5, 16, 11, 11, 9, 17, 19, 20, 18, 7, 13, 20, 25, 4, 5, 17, 5, 25, 8, 16, 5, 16, 18, 22, 1, 1, 9, 12, 1, 19, 8, 25, 18, 16, 5, 6, 9, 22, 14, 22, 11, 5, 20, 7, 11, 9, 12, 12, 22, 4, 25, 20, 4, 12, 14, 14, 12, 11, 20, 20, 5, 9, 19, 1, 5, 18, 6, 12, 8, 4, 7, 7, 12, 4, 7, 19, 8, 18, 25, 6, 9, 20, 1, 1, 14, 1, 18, 14, 11, 12, 22, 22, 9, 4, 20, 11, 5, 7, 11, 12, 22, 1, 9, 5, 4, 20, 7, 7, 17, 20, 16, 8, 16, 7, 18, 7, 1, 14, 6, 22, 8, 16, 20, 6, 7, 16, 22, 23, 1, 20, 19, 8, 13, 7, 4, 4, 19, 22, 1, 12, 9, 7, 20, 4, 16, 5, 7, 8, 16, 4, 14, 1, 23, 11, 9, 12, 4, 19, 6, 16, 1, 12, 7, 7, 7, 19, 12, 6, 9, 11, 20, 8, 16, 14, 19, 17, 25, 12, 25, 22, 4, 1, 20, 12, 14, 16, 5, 1, 5, 9, 19, 7, 19, 22, 1, 22, 6, 4, 9, 11, 1, 13, 20, 7, 4, 7, 19, 4, 16, 5, 6, 11, 20, 12, 16, 9, 1, 5, 23, 1, 7, 9, 20, 5, 7, 17, 16, 18, 22, 22, 17, 7, 5, 6, 14, 11, 4, 7, 20, 5, 22, 23, 6, 19, 22, 23, 14, 7, 11, 4, 17, 5, 19, 1, 12, 22, 22, 22, 4, 4, 11, 20, 12, 5, 12, 11, 8, 22, 9, 11, 4, 5, 18, 12, 22, 20, 16, 20, 7, 11, 6, 14, 22, 25, 14, 20, 13, 20, 4, 20, 25, 28]]\n"
          ],
          "name": "stdout"
        }
      ]
    },
    {
      "cell_type": "markdown",
      "metadata": {
        "id": "Hidi8yiwKkOf"
      },
      "source": [
        "# Training"
      ]
    },
    {
      "cell_type": "code",
      "metadata": {
        "id": "sico9RCnOTC9"
      },
      "source": [
        "# set up training\n",
        "from transformers import GPT2Config, GPT2Model, GPT2PreTrainedModel\n",
        "import numpy as np\n",
        "from torch.utils.data import TensorDataset, DataLoader, RandomSampler, SequentialSampler\n",
        "import matplotlib.pyplot as plt\n",
        "import torch.nn as nn\n",
        "import time\n",
        "from torch.nn import CrossEntropyLoss"
      ],
      "execution_count": null,
      "outputs": []
    },
    {
      "cell_type": "code",
      "metadata": {
        "id": "Vh3T6By8Ue8k"
      },
      "source": [
        "train_array_A = np.array(mapped_chainA_to_tokens)\n",
        "train_array_B = np.array(mapped_chainB_to_tokens)\n",
        "\n",
        "val_array_A = np.array(mapped_chainA_to_tokens_2)\n",
        "val_array_B = np.array(mapped_chainB_to_tokens_2)"
      ],
      "execution_count": null,
      "outputs": []
    },
    {
      "cell_type": "code",
      "metadata": {
        "id": "HFnej-TqH4UO"
      },
      "source": [
        "train_chainA_tensor = torch.from_numpy(train_array_A)\n",
        "train_chainB_tensor = torch.from_numpy(train_array_B)\n",
        "\n",
        "train_dataset = TensorDataset(train_chainA_tensor, train_chainB_tensor)\n",
        "train_dataloader = DataLoader(train_dataset)\n",
        "\n",
        "val_chainA_tensor = torch.from_numpy(val_array_A)\n",
        "val_chainB_tensor = torch.from_numpy(val_array_B)\n",
        "\n",
        "val_dataset = TensorDataset(val_chainA_tensor, val_chainB_tensor)\n",
        "val_dataloader = DataLoader(val_dataset)\n",
        "\n",
        "print(val_chainA_tensor.size())"
      ],
      "execution_count": null,
      "outputs": []
    },
    {
      "cell_type": "code",
      "metadata": {
        "id": "GjwomjjJK1xj"
      },
      "source": [
        "class MyDataParallel(nn.DataParallel):\n",
        "    \"\"\"\n",
        "    Allow nn.DataParallel to call model's attributes.\n",
        "    \"\"\"\n",
        "    def __getattr__(self, name):\n",
        "        try:\n",
        "            return super().__getattr__(name)\n",
        "        except AttributeError:\n",
        "            return getattr(self.module, name)\n",
        "\n",
        "class GPT_Protein(GPT2LMHeadModel):\n",
        "    def __init__(self, config):\n",
        "        super().__init__(config)\n",
        "        self.transformer = GPT2Model(config)\n",
        "        self.lm_head = nn.Linear(config.n_embd, config.vocab_size, bias=False)\n",
        "\n",
        "        self.init_weights()\n",
        "\n",
        "    def forward(\n",
        "        self,\n",
        "        input_ids,\n",
        "        labels,\n",
        "        past=None,\n",
        "        attention_mask=None,\n",
        "        token_type_ids=None,\n",
        "        position_ids=None,\n",
        "        head_mask=None,\n",
        "        inputs_embeds=None,\n",
        "        use_cache=None,\n",
        "        output_attentions=None,\n",
        "        output_hidden_states=None,\n",
        "    ):\n",
        "        transformer_outputs = self.transformer(\n",
        "            input_ids,\n",
        "            past=past,\n",
        "            attention_mask=attention_mask,\n",
        "            token_type_ids=token_type_ids,\n",
        "            position_ids=position_ids,\n",
        "            head_mask=head_mask,\n",
        "            inputs_embeds=inputs_embeds,\n",
        "            use_cache=use_cache,\n",
        "            output_attentions=output_attentions,\n",
        "            output_hidden_states=output_hidden_states,\n",
        "        )\n",
        "        hidden_states = transformer_outputs[0]\n",
        "\n",
        "        lm_logits = self.lm_head(hidden_states)\n",
        "\n",
        "        outputs = (lm_logits,) + transformer_outputs[1:]\n",
        "        if labels is not None:\n",
        "            # Shift so that tokens < n predict n\n",
        "            # shift_logits = lm_logits[..., :-1, :].contiguous()\n",
        "            # shift_labels = labels[..., 1:].contiguous()\n",
        "            # Flatten the tokens\n",
        "            loss_fct = CrossEntropyLoss()\n",
        "            loss = loss_fct(lm_logits.view(-1, lm_logits.size(-1)), labels.view(-1))\n",
        "            outputs = (loss,) + outputs\n",
        "\n",
        "        return outputs  # (loss), lm_logits, presents, (all hidden_states), (attentions)"
      ],
      "execution_count": null,
      "outputs": []
    },
    {
      "cell_type": "code",
      "metadata": {
        "id": "YQib4WNktT96"
      },
      "source": [
        "gpt_config = GPT2Config(vocab_size=30, n_positions=784, n_ctx=784, n_embd=64, n_layer=3, \n",
        "                        n_head=2, activation_function='gelu_new', resid_pdrop=0.1, embd_pdrop=0.1, \n",
        "                        attn_pdrop=0.1, layer_norm_epsilon=1e-05, initializer_range=0.02, \n",
        "                        summary_type='cls_index', summary_use_proj=True, summary_activation=None, \n",
        "                        summary_proj_to_labels=True, summary_first_dropout=0.1, bos_token_id=21, \n",
        "                        eos_token_id=22)\n",
        "\n",
        "device = torch.device(\"cuda:0\" if torch.cuda.is_available() else \"cpu\")"
      ],
      "execution_count": null,
      "outputs": []
    },
    {
      "cell_type": "code",
      "metadata": {
        "id": "xzKk35us7NJ9"
      },
      "source": [
        "import datetime\n",
        "def format_time(elapsed):\n",
        "    elapsed_rounded = int(round((elapsed)))\n",
        "    return str(datetime.timedelta(seconds=elapsed_rounded))"
      ],
      "execution_count": null,
      "outputs": []
    },
    {
      "cell_type": "code",
      "metadata": {
        "id": "lkkVYTU3tifT"
      },
      "source": [
        "def train_model():\n",
        "    model = GPT_Protein(gpt_config)\n",
        "    model.to(device)\n",
        "\n",
        "    total_steps = len(train_chainA_tensor)\n",
        "    train_loss = []\n",
        "    best_loss = 1e7\n",
        "    val_loss = []\n",
        "\n",
        "    num_epochs = 1000\n",
        "\n",
        "    for epoch_i in range(0, num_epochs):\n",
        "      print('======== Epoch {:} / {:} ========'.format(epoch_i + 1, num_epochs), flush=True)\n",
        "      t0 = time.time()\n",
        "\n",
        "      total_loss = 0\n",
        "      model.train()\n",
        "\n",
        "      for batch in train_dataloader:\n",
        "          chainA, chainB = batch[0], batch[1]\n",
        "          length = batch[0].size()[1]\n",
        "          # chains = chains.to(device)\n",
        "          # import IPython ; IPython.embed() ; exit(1)\n",
        "          seq_len = length # batch.shape[1]\n",
        "          # labels = batch[:].type(torch.LongTensor).squeeze().to(device)\n",
        "          # coords = batch[:].to(device)\n",
        "          outputs = model(input_ids=chainA, head_mask=None, inputs_embeds=None, labels=chainB)\n",
        "\n",
        "          loss = outputs[0]\n",
        "          curr_loss = loss.item() / seq_len\n",
        "          total_loss += curr_loss\n",
        "          if curr_loss < best_loss:\n",
        "            best_loss = curr_loss\n",
        "            torch.save(model.state_dict(), \"gpt_shift_std_train.pt\")\n",
        "\n",
        "          model.zero_grad()\n",
        "          loss.backward()\n",
        "          torch.nn.utils.clip_grad_norm_(model.parameters(), 1.0)\n",
        "\n",
        "          optimizer.step()\n",
        "\n",
        "          if (i + 1) % 100 == 0:\n",
        "            print('Epoch [{}/{}], Step [{}/{}], Loss: {:.4f}'.format(\n",
        "              epoch_i + 1, \n",
        "              num_epochs, \n",
        "              i + 1, \n",
        "              total_steps,\n",
        "              loss.item()), flush=True\n",
        "            )\n",
        "\n",
        "      avg_train_loss = total_loss / total_steps\n",
        "      train_loss.append(avg_train_loss)\n",
        "\n",
        "      print(\"  Training epoch took: {:}\".format(format_time(time.time() - t0)), flush=True)\n",
        "      print(\"  Training loss: {0:.2f}\".format(avg_train_loss), flush=True)    \n",
        "\n",
        "      print(\"Running Validation...\", flush=True)\n",
        "\n",
        "      model.eval()\n",
        "\n",
        "      eval_loss, eval_accuracy = 0, 0\n",
        "      best_loss = 10000\n",
        "      nb_eval_steps, nb_eval_examples = 0, 0\n",
        "\n",
        "      for batch in val_dataloader:\n",
        "          chainA, chainB = batch[0], batch[1]\n",
        "          length = batch[0].size()[1]\n",
        "          seq_len = length # batch.shape[1]\n",
        "          # labels = batch[:,:,0].type(torch.LongTensor).squeeze().to(device)\n",
        "          # coords = batch[:,:,1:].to(device)\n",
        "          with torch.no_grad(): \n",
        "            outputs = model(input_ids=chainA, head_mask=None, inputs_embeds=None, labels=chainB)\n",
        "          curr_val_loss = outputs[0]\n",
        "                      \n",
        "          eval_loss += curr_val_loss.item() / seq_len\n",
        "          nb_eval_steps += 1\n",
        "\n",
        "      if eval_loss < best_loss:\n",
        "        best_loss = eval_loss\n",
        "        torch.save(model.state_dict(), \"gpt_shift_std_val.pt\")\n",
        "      avg_val_loss = eval_loss/nb_eval_steps * 1e7  # for scaling\n",
        "      val_loss.append(avg_val_loss)\n",
        "      print(\"  Validation loss: {0:.2f}\".format(avg_val_loss), flush=True)\n",
        "      # print(\"  Validation took: {:}\".format(format_time(time.time() - t0)))\n",
        "    print(\"Training complete.\", flush=True)\n",
        "    return train_loss, val_loss\n",
        "\n",
        "\n",
        "def plot_loss(train_loss):\n",
        "    plt.rcParams[\"figure.figsize\"] = (12,6)\n",
        "    plt.plot(train_loss, 'b-o')\n",
        "    plt.plot(val_loss, 'r-o')\n",
        "    plt.title(\"Training and Validation Loss\")\n",
        "    plt.xlabel(\"Epoch\")\n",
        "    plt.ylabel(\"Loss\")\n",
        "    plt.savefig(\"gpt_shift_std.png\", dpi=200)\n",
        "\n",
        "train_loss, val_loss = train_model()\n",
        "plot_loss(train_loss)\n",
        "plot_loss(val_loss)"
      ],
      "execution_count": null,
      "outputs": []
    }
  ]
}